{
  "cells": [
    {
      "cell_type": "markdown",
      "source": [
        "# Introducción a `Julia`"
      ],
      "metadata": {
        "deletable": true,
        "editable": true
      }
    },
    {
      "cell_type": "markdown",
      "source": [
        "El texto canónico de referencia es el manual de Julia: http://docs.julialang.org/, versión 0.5, que es la versión pública estable actual.\n",
        "\nUna **muy buena** manera de iniciarse en Julia es con el [video](https://www.youtube.com/watch?v=gQ1y5NUD_RI&index=3&list=PLP8iPy9hna6Sdx4soiGrSefrmOPdUWixM) de David Sanders en JuliaCon2015."
      ],
      "metadata": {
        "deletable": true,
        "editable": true
      }
    },
    {
      "cell_type": "markdown",
      "source": [
        "¿Por qué usar Julia? [Julia](http://julialang.org/) es un lenguaje concebido para hacer cómputo científico, y fue iniciado por gente que tiene experiencia en eso. Incorpora muchos elementos modernos del diseño de lenguajes de cómputo, y sirve para hacer mucho más que sólo cómputo científico. Julia está escrito mayormente en Julia."
      ],
      "metadata": {
        "deletable": true,
        "editable": true
      }
    },
    {
      "cell_type": "markdown",
      "source": [
        "### Notas sobre el uso del `IJupyter notebook`"
      ],
      "metadata": {
        "deletable": true,
        "editable": true
      }
    },
    {
      "cell_type": "markdown",
      "source": [
        "Hay dos distintos modos en el IJupyter notebook:\n",
        "\n",
        "- Modo de comandos: uno puede hacer cosas como pasar al modo de edición, correr celdas, borrar o añadir celdas, editar el tipo de celda (código, markdown, o código crudo), búsquedas y reemplazos, etc. Típicamente, una combinación de teclas logra lo que uno busca; ver `Help -> Keyboard shortcuts` en la barra de herramientas (*toolbar*). Es particularmente importante decir que `<Enter>` permite editar la celda en la que se está, y que `<Shift>+<Enter>` sirve para correr la celda (y avanza a la siguiente).\n",
        "\n- Modo de edición: sirve, justamente para editar una celda. Particularmente útil es la tecla `<Tab>`, que permite completar las palabras reservadas del lenguaje, y la tecla `<Esc>`, que permite salirse del modo de edición."
      ],
      "metadata": {
        "deletable": true,
        "editable": true
      }
    },
    {
      "cell_type": "markdown",
      "source": [
        "## Calentamiento: Julia como calculadora"
      ],
      "metadata": {
        "deletable": true,
        "editable": true
      }
    },
    {
      "cell_type": "markdown",
      "source": [
        "Obviamente, Julia entiende números. De hecho, distinto *tipo* de números."
      ],
      "metadata": {
        "deletable": true,
        "editable": true
      }
    },
    {
      "cell_type": "markdown",
      "source": [
        "Por ejemplo, cosas como \"pi\" están definidas:"
      ],
      "metadata": {
        "deletable": true,
        "editable": true
      }
    },
    {
      "cell_type": "code",
      "source": [
        "pi"
      ],
      "outputs": [],
      "execution_count": null,
      "metadata": {
        "collapsed": false,
        "deletable": true,
        "editable": true
      }
    },
    {
      "cell_type": "markdown",
      "source": [
        "Esto mismo se puede escribir de manera *más atractiva* como $\\pi$, tecleando `\\pi<TAB>` (es decir, diagonal invertida, `pi` y la tecla <TAB>), lo que recuerda mucho a LaTeX (¡y que no es casual!). De hecho, muchos símbolos importantes es matemáticas y física se pueden usar en Julia."
      ],
      "metadata": {
        "deletable": true,
        "editable": true
      }
    },
    {
      "cell_type": "code",
      "source": [
        "π # se genera excribiendo `\\pi<TAB>`"
      ],
      "outputs": [],
      "execution_count": null,
      "metadata": {
        "collapsed": false,
        "deletable": true,
        "editable": true
      }
    },
    {
      "cell_type": "code",
      "source": [
        "γ # \\gamma<TAB>"
      ],
      "outputs": [],
      "execution_count": null,
      "metadata": {
        "collapsed": false,
        "deletable": true,
        "editable": true
      }
    },
    {
      "cell_type": "code",
      "source": [
        "2^7"
      ],
      "outputs": [],
      "execution_count": null,
      "metadata": {
        "collapsed": true,
        "deletable": true,
        "editable": true
      }
    },
    {
      "cell_type": "markdown",
      "source": [
        "Otras cosas bonitas es que hay un montón de funciones que ya están integradas, como por ejemplo la función $J_0$ de Bessel, o la función $\\zeta$ de Riemmann:"
      ],
      "metadata": {
        "deletable": true,
        "editable": true
      }
    },
    {
      "cell_type": "code",
      "source": [
        "besselj0(pi/4)"
      ],
      "outputs": [],
      "execution_count": null,
      "metadata": {
        "collapsed": true,
        "deletable": true,
        "editable": true
      }
    },
    {
      "cell_type": "code",
      "source": [
        "zeta(1.1)"
      ],
      "outputs": [],
      "execution_count": null,
      "metadata": {
        "collapsed": true,
        "deletable": true,
        "editable": true
      }
    },
    {
      "cell_type": "markdown",
      "source": [
        "Claramente, las funciones en Julia tienen ciertos nombres (por ejemplo, `sin`, `besselj0`, etc) y sus argumentos se incluyen entre paréntesis."
      ],
      "metadata": {
        "deletable": true,
        "editable": true
      }
    },
    {
      "cell_type": "markdown",
      "source": [
        "Julia incluye un manual de comandos, que no siempre es completo o muy claro; para usarlo, hay que empezar con el signo de interrogación, seguido de la instrucción. Por ejemplo,"
      ],
      "metadata": {
        "deletable": true,
        "editable": true
      }
    },
    {
      "cell_type": "code",
      "source": [
        "?zeta"
      ],
      "outputs": [],
      "execution_count": null,
      "metadata": {
        "collapsed": false,
        "deletable": true,
        "editable": true
      }
    },
    {
      "cell_type": "markdown",
      "source": [
        "Julia puede usarse como una calculadora..."
      ],
      "metadata": {
        "deletable": true,
        "editable": true
      }
    },
    {
      "cell_type": "code",
      "source": [
        "1/2"
      ],
      "outputs": [],
      "execution_count": null,
      "metadata": {
        "collapsed": false,
        "deletable": true,
        "editable": true
      }
    },
    {
      "cell_type": "code",
      "source": [
        "1/2 == 0.5"
      ],
      "outputs": [],
      "execution_count": null,
      "metadata": {
        "collapsed": false,
        "deletable": true,
        "editable": true
      }
    },
    {
      "cell_type": "code",
      "source": [
        "1//2 == 0.5"
      ],
      "outputs": [],
      "execution_count": null,
      "metadata": {
        "collapsed": false,
        "deletable": true,
        "editable": true
      }
    },
    {
      "cell_type": "code",
      "source": [
        "(1/2)/3"
      ],
      "outputs": [],
      "execution_count": null,
      "metadata": {
        "collapsed": false,
        "deletable": true,
        "editable": true
      }
    },
    {
      "cell_type": "markdown",
      "source": [
        "... aunque ofrece ciertas cosas un poco más elaboradas e incluso complejas"
      ],
      "metadata": {
        "deletable": true,
        "editable": true
      }
    },
    {
      "cell_type": "code",
      "source": [
        "1//2"
      ],
      "outputs": [],
      "execution_count": null,
      "metadata": {
        "collapsed": false,
        "deletable": true,
        "editable": true
      }
    },
    {
      "cell_type": "code",
      "source": [
        "1//2 + 1//4"
      ],
      "outputs": [],
      "execution_count": null,
      "metadata": {
        "collapsed": false,
        "deletable": true,
        "editable": true
      }
    },
    {
      "cell_type": "code",
      "source": [
        "im^2"
      ],
      "outputs": [],
      "execution_count": null,
      "metadata": {
        "collapsed": false,
        "deletable": true,
        "editable": true
      }
    },
    {
      "cell_type": "markdown",
      "source": [
        "La asignación de variables se hace de la manera usual:"
      ],
      "metadata": {
        "deletable": true,
        "editable": true
      }
    },
    {
      "cell_type": "code",
      "source": [
        "α = 2 # \\alpha<TAB> = 2"
      ],
      "outputs": [],
      "execution_count": null,
      "metadata": {
        "collapsed": false,
        "deletable": true,
        "editable": true
      }
    },
    {
      "cell_type": "markdown",
      "source": [
        "Simplemente hay que recordar que `=` se usa para asignar *el valor* que aparece del lado derecho, a la variable que se define del lado izquierdo; escribir esto al revés genera errores."
      ],
      "metadata": {
        "deletable": true,
        "editable": true
      }
    },
    {
      "cell_type": "code",
      "source": [
        "2 = α"
      ],
      "outputs": [],
      "execution_count": null,
      "metadata": {
        "collapsed": false,
        "deletable": true,
        "editable": true
      }
    },
    {
      "cell_type": "code",
      "source": [
        "α"
      ],
      "outputs": [],
      "execution_count": null,
      "metadata": {
        "collapsed": false,
        "deletable": true,
        "editable": true
      }
    },
    {
      "cell_type": "markdown",
      "source": [
        "Un concepto central en Julia es el *tipo de estructura* (en inglés *type*), cosa que se describirá más adelante. La instrucción `typeof` sirve para saber de qué tipo estructura tiene una variable o algún valor."
      ],
      "metadata": {
        "deletable": true,
        "editable": true
      }
    },
    {
      "cell_type": "code",
      "source": [
        "typeof(α)"
      ],
      "outputs": [],
      "execution_count": null,
      "metadata": {
        "collapsed": false,
        "deletable": true,
        "editable": true
      }
    },
    {
      "cell_type": "code",
      "source": [
        "typeof(3.14159)"
      ],
      "outputs": [],
      "execution_count": null,
      "metadata": {
        "collapsed": false,
        "deletable": true,
        "editable": true
      }
    },
    {
      "cell_type": "code",
      "source": [
        "typeof(π)"
      ],
      "outputs": [],
      "execution_count": null,
      "metadata": {
        "collapsed": false,
        "deletable": true,
        "editable": true
      }
    },
    {
      "cell_type": "code",
      "source": [
        "typeof(1//2)"
      ],
      "outputs": [],
      "execution_count": null,
      "metadata": {
        "collapsed": false,
        "deletable": true,
        "editable": true
      }
    },
    {
      "cell_type": "code",
      "source": [
        "typeof(1/2 + im)"
      ],
      "outputs": [],
      "execution_count": null,
      "metadata": {
        "collapsed": false,
        "deletable": true,
        "editable": true
      }
    },
    {
      "cell_type": "code",
      "source": [
        "typeof(1//2 + im)"
      ],
      "outputs": [],
      "execution_count": null,
      "metadata": {
        "collapsed": false,
        "deletable": true,
        "editable": true
      }
    },
    {
      "cell_type": "markdown",
      "source": [
        "La instrucción `ans` es un atajo para referirse al último resultado obtenido; sólo se utiliza en cálculos interactivos. Así tenemos:"
      ],
      "metadata": {
        "deletable": true,
        "editable": true
      }
    },
    {
      "cell_type": "code",
      "source": [
        "3.14*im"
      ],
      "outputs": [],
      "execution_count": null,
      "metadata": {
        "collapsed": false,
        "deletable": true,
        "editable": true
      }
    },
    {
      "cell_type": "code",
      "source": [
        "typeof(ans)"
      ],
      "outputs": [],
      "execution_count": null,
      "metadata": {
        "collapsed": false,
        "deletable": true,
        "editable": true
      }
    },
    {
      "cell_type": "markdown",
      "source": [
        "Las funciones usuales típicamente están definidas para poder ser usadas con distintos tipos de estructuras, dando el resultado que se espera:"
      ],
      "metadata": {
        "deletable": true,
        "editable": true
      }
    },
    {
      "cell_type": "code",
      "source": [
        "exp(0)"
      ],
      "outputs": [],
      "execution_count": null,
      "metadata": {
        "collapsed": false,
        "deletable": true,
        "editable": true
      }
    },
    {
      "cell_type": "code",
      "source": [
        "typeof(ans)"
      ],
      "outputs": [],
      "execution_count": null,
      "metadata": {
        "collapsed": false,
        "deletable": true,
        "editable": true
      }
    },
    {
      "cell_type": "code",
      "source": [
        "e"
      ],
      "outputs": [],
      "execution_count": null,
      "metadata": {
        "collapsed": false,
        "deletable": true,
        "editable": true
      }
    },
    {
      "cell_type": "code",
      "source": [
        "typeof(ans)"
      ],
      "outputs": [],
      "execution_count": null,
      "metadata": {
        "collapsed": false,
        "deletable": true,
        "editable": true
      }
    },
    {
      "cell_type": "code",
      "source": [
        "exp(im*π)"
      ],
      "outputs": [],
      "execution_count": null,
      "metadata": {
        "collapsed": false,
        "deletable": true,
        "editable": true
      }
    },
    {
      "cell_type": "code",
      "source": [
        "besselj0(ans)"
      ],
      "outputs": [],
      "execution_count": null,
      "metadata": {
        "collapsed": false,
        "deletable": true,
        "editable": true
      }
    },
    {
      "cell_type": "markdown",
      "source": [
        "Julia, además de los tipos *típicos*, ofrece precisión extendida:"
      ],
      "metadata": {
        "deletable": true,
        "editable": true
      }
    },
    {
      "cell_type": "code",
      "source": [
        "BigFloat(0.1)"
      ],
      "outputs": [],
      "execution_count": null,
      "metadata": {
        "collapsed": false,
        "deletable": true,
        "editable": true
      }
    },
    {
      "cell_type": "code",
      "source": [
        "typeof(ans)"
      ],
      "outputs": [],
      "execution_count": null,
      "metadata": {
        "collapsed": false,
        "deletable": true,
        "editable": true
      }
    },
    {
      "cell_type": "code",
      "source": [
        "0.1"
      ],
      "outputs": [],
      "execution_count": null,
      "metadata": {
        "collapsed": false,
        "deletable": true,
        "editable": true
      }
    },
    {
      "cell_type": "code",
      "source": [
        "BigFloat(3.14)"
      ],
      "outputs": [],
      "execution_count": null,
      "metadata": {
        "collapsed": false,
        "deletable": true,
        "editable": true
      }
    },
    {
      "cell_type": "markdown",
      "source": [
        "Noten que, los resultados obtenidos en las celdas anteriores no son lo que uno hubiera esperado. ¿Por qué es que el resultado de `BigFloat(0.1)` o `BigFloat(3.14)` tiene \"basura\"? O, ¿cómo podemos hacer para que, usando precisión extendida, el resultado tenga sentido?"
      ],
      "metadata": {
        "deletable": true,
        "editable": true
      }
    },
    {
      "cell_type": "code",
      "source": [
        "parse(BigFloat, \"3.14\")"
      ],
      "outputs": [],
      "execution_count": null,
      "metadata": {
        "collapsed": false,
        "deletable": true,
        "editable": true
      }
    },
    {
      "cell_type": "code",
      "source": [
        "parse(BigFloat,\"0.1\")"
      ],
      "outputs": [],
      "execution_count": null,
      "metadata": {
        "collapsed": false,
        "deletable": true,
        "editable": true
      }
    },
    {
      "cell_type": "code",
      "source": [
        "parse(BigFloat,\"0.3\")"
      ],
      "outputs": [],
      "execution_count": null,
      "metadata": {
        "collapsed": false,
        "deletable": true,
        "editable": true
      }
    },
    {
      "cell_type": "markdown",
      "source": [
        "**Ejercicio 1** ¿Por qué la siguiente instrucción da `false`?\n",
        "\n",
        "```\n",
        "    1//10 == 0.1\n",
        "    false\n",
        "```"
      ],
      "metadata": {
        "deletable": true,
        "editable": true
      }
    },
    {
      "cell_type": "code",
      "source": [
        "# Chéquen que efectivamente el resultado es false\n",
        "\n"
      ],
      "outputs": [],
      "execution_count": null,
      "metadata": {
        "collapsed": true,
        "deletable": true,
        "editable": true
      }
    },
    {
      "cell_type": "markdown",
      "source": [
        "En ciertos casos, igual que en matemáticas, uno puede omitir el operador (función) `*`:"
      ],
      "metadata": {
        "deletable": true,
        "editable": true
      }
    },
    {
      "cell_type": "code",
      "source": [
        "2α"
      ],
      "outputs": [],
      "execution_count": null,
      "metadata": {
        "collapsed": false,
        "deletable": true,
        "editable": true
      }
    },
    {
      "cell_type": "markdown",
      "source": [
        "... pero esto no siempre aplica:"
      ],
      "metadata": {
        "deletable": true,
        "editable": true
      }
    },
    {
      "cell_type": "code",
      "source": [
        "α2"
      ],
      "outputs": [],
      "execution_count": null,
      "metadata": {
        "collapsed": false,
        "deletable": true,
        "editable": true
      }
    },
    {
      "cell_type": "markdown",
      "source": [
        "Los operadores usuales funcionan como de costumbre; noten en particular que `α` es entero:"
      ],
      "metadata": {
        "deletable": true,
        "editable": true
      }
    },
    {
      "cell_type": "code",
      "source": [
        "α + 3.14"
      ],
      "outputs": [],
      "execution_count": null,
      "metadata": {
        "collapsed": false,
        "deletable": true,
        "editable": true
      }
    },
    {
      "cell_type": "code",
      "source": [
        "α - 3.14"
      ],
      "outputs": [],
      "execution_count": null,
      "metadata": {
        "collapsed": false,
        "deletable": true,
        "editable": true
      }
    },
    {
      "cell_type": "code",
      "source": [
        "α * 3.14"
      ],
      "outputs": [],
      "execution_count": null,
      "metadata": {
        "collapsed": false,
        "deletable": true,
        "editable": true
      }
    },
    {
      "cell_type": "code",
      "source": [
        "α / 3.14"
      ],
      "outputs": [],
      "execution_count": null,
      "metadata": {
        "collapsed": false,
        "deletable": true,
        "editable": true
      }
    },
    {
      "cell_type": "code",
      "source": [
        "1/2"
      ],
      "outputs": [],
      "execution_count": null,
      "metadata": {
        "collapsed": false,
        "deletable": true,
        "editable": true
      }
    },
    {
      "cell_type": "code",
      "source": [
        "(1/2) / (1//3)"
      ],
      "outputs": [],
      "execution_count": null,
      "metadata": {
        "collapsed": false,
        "deletable": true,
        "editable": true
      }
    },
    {
      "cell_type": "code",
      "source": [
        "2^2"
      ],
      "outputs": [],
      "execution_count": null,
      "metadata": {
        "collapsed": false,
        "deletable": true,
        "editable": true
      }
    },
    {
      "cell_type": "markdown",
      "source": [
        "**Ejercicio 2** Expliquen el resultado de `2^-2`. ¿Hay algo inusual? Si sí, ¿cómo pueden hacer que se obtenga el resultado usual?"
      ],
      "metadata": {
        "deletable": true,
        "editable": true
      }
    },
    {
      "cell_type": "code",
      "source": [],
      "outputs": [],
      "execution_count": null,
      "metadata": {
        "collapsed": true,
        "deletable": true,
        "editable": true
      }
    },
    {
      "cell_type": "markdown",
      "source": [
        "**Concepto MUY importante**: estabilidad del tipo\n",
        "\n",
        "Para que Julia sea rápido, las funciones en Julia deben ser estables según el tipo. Esto quiere decir que el tipo (y no el valor!) de los argumentos de una función *determina* el tipo del resultado de la función. En otras palabras, lo que la función regrese **no** debe depender del valor, sino del tipo de estructura. \n",
        "\n",
        "Esta es la razón por la que `2^-2` da un error; un entero (2) elevado a una potencia entera da como resultado un entero (ejemplo, `2^2` arriba); `2^-2` no cumpliría esto, por lo que da el error. (Uno podría definir que el resultado fuera un `Float64` para ambos casos. Si bien esto sería correcto desde un punto de vista de la estabilidad de tipo, haría que código que sólo involucra enteros fuera mucho más lento.\n",
        "\nSi uno mantiene que las funciones cumplan la estabilidad del tipo, el código generado será rápido."
      ],
      "metadata": {
        "deletable": true,
        "editable": true
      }
    },
    {
      "cell_type": "code",
      "source": [
        "2.0^-2"
      ],
      "outputs": [],
      "execution_count": null,
      "metadata": {
        "collapsed": false,
        "deletable": true,
        "editable": true
      }
    },
    {
      "cell_type": "markdown",
      "source": [
        "Al igual que otros operadores (`+`, `-`, `*`, `/`), `^` también es una función:"
      ],
      "metadata": {
        "deletable": true,
        "editable": true
      }
    },
    {
      "cell_type": "code",
      "source": [
        "^(2.0,2)"
      ],
      "outputs": [],
      "execution_count": null,
      "metadata": {
        "collapsed": false,
        "deletable": true,
        "editable": true
      }
    },
    {
      "cell_type": "code",
      "source": [
        "+(α, 2//1)"
      ],
      "outputs": [],
      "execution_count": null,
      "metadata": {
        "collapsed": true
      }
    },
    {
      "cell_type": "markdown",
      "source": [
        "Y, jugando con la división, ¿qué pasa si uno divide entre 0?"
      ],
      "metadata": {
        "deletable": true,
        "editable": true
      }
    },
    {
      "cell_type": "code",
      "source": [
        "α / (0.0)"
      ],
      "outputs": [],
      "execution_count": null,
      "metadata": {
        "collapsed": false,
        "deletable": true,
        "editable": true
      }
    },
    {
      "cell_type": "code",
      "source": [
        "typeof(ans)"
      ],
      "outputs": [],
      "execution_count": null,
      "metadata": {
        "collapsed": false,
        "deletable": true,
        "editable": true
      }
    },
    {
      "cell_type": "code",
      "source": [
        "α / (-0.0)"
      ],
      "outputs": [],
      "execution_count": null,
      "metadata": {
        "collapsed": false,
        "deletable": true,
        "editable": true
      }
    },
    {
      "cell_type": "code",
      "source": [
        "α // 0"
      ],
      "outputs": [],
      "execution_count": null,
      "metadata": {
        "collapsed": false,
        "deletable": true,
        "editable": true
      }
    },
    {
      "cell_type": "code",
      "source": [
        "α / Inf"
      ],
      "outputs": [],
      "execution_count": null,
      "metadata": {
        "collapsed": false,
        "deletable": true,
        "editable": true
      }
    },
    {
      "cell_type": "code",
      "source": [
        "-0.0 * 2"
      ],
      "outputs": [],
      "execution_count": null,
      "metadata": {
        "collapsed": false,
        "deletable": true,
        "editable": true
      }
    },
    {
      "cell_type": "code",
      "source": [
        "0.0 == -0.0"
      ],
      "outputs": [],
      "execution_count": null,
      "metadata": {
        "collapsed": false,
        "deletable": true,
        "editable": true
      }
    },
    {
      "cell_type": "code",
      "source": [
        "0.0 / 0.0"
      ],
      "outputs": [],
      "execution_count": null,
      "metadata": {
        "collapsed": false,
        "deletable": true,
        "editable": true
      }
    },
    {
      "cell_type": "code",
      "source": [
        "typeof(ans)"
      ],
      "outputs": [],
      "execution_count": null,
      "metadata": {
        "collapsed": true,
        "deletable": true,
        "editable": true
      }
    },
    {
      "cell_type": "code",
      "source": [
        "NaN == 0.0/0.0"
      ],
      "outputs": [],
      "execution_count": null,
      "metadata": {
        "collapsed": true,
        "deletable": true,
        "editable": true
      }
    },
    {
      "cell_type": "markdown",
      "source": [
        "Para saber si cierta variable es (o no) `Inf` o `NaN` se utilizan las funciones `isinf` e `isnan`:"
      ],
      "metadata": {
        "deletable": true,
        "editable": true
      }
    },
    {
      "cell_type": "code",
      "source": [
        "isinf(2.0/0.0)"
      ],
      "outputs": [],
      "execution_count": null,
      "metadata": {
        "collapsed": false,
        "deletable": true,
        "editable": true
      }
    },
    {
      "cell_type": "code",
      "source": [
        "isnan(0.0/0.0)"
      ],
      "outputs": [],
      "execution_count": null,
      "metadata": {
        "collapsed": false,
        "deletable": true,
        "editable": true
      }
    },
    {
      "cell_type": "markdown",
      "source": [
        "Dado que, en mi máquina, los enteros son tipo `Int64` (se guardan en 64 bits), uno puede obtener el entero *más* grande de esta representación:"
      ],
      "metadata": {
        "deletable": true,
        "editable": true
      }
    },
    {
      "cell_type": "code",
      "source": [
        "2^63-1"
      ],
      "outputs": [],
      "execution_count": null,
      "metadata": {
        "collapsed": false,
        "deletable": true,
        "editable": true
      }
    },
    {
      "cell_type": "markdown",
      "source": [
        "Y entonces, ¿qué pasa si le sumamos 1 a ese entero?"
      ],
      "metadata": {
        "deletable": true,
        "editable": true
      }
    },
    {
      "cell_type": "code",
      "source": [
        "ans + 1"
      ],
      "outputs": [],
      "execution_count": null,
      "metadata": {
        "collapsed": false,
        "deletable": true,
        "editable": true
      }
    },
    {
      "cell_type": "markdown",
      "source": [
        "El resultado anterior pareciera ser salvajemente incorrecto. La razón de esto es que la aritmética de `Int` es modular (o periódica)."
      ],
      "metadata": {
        "deletable": true,
        "editable": true
      }
    },
    {
      "cell_type": "markdown",
      "source": [
        "Otra manera de obtener el entero más grande es:"
      ],
      "metadata": {
        "deletable": true,
        "editable": true
      }
    },
    {
      "cell_type": "code",
      "source": [
        "typemax(Int)"
      ],
      "outputs": [],
      "execution_count": null,
      "metadata": {
        "collapsed": false,
        "deletable": true,
        "editable": true
      }
    },
    {
      "cell_type": "code",
      "source": [
        "typemax(1)"
      ],
      "outputs": [],
      "execution_count": null,
      "metadata": {
        "collapsed": false,
        "deletable": true,
        "editable": true
      }
    },
    {
      "cell_type": "code",
      "source": [
        "ans + 1"
      ],
      "outputs": [],
      "execution_count": null,
      "metadata": {
        "collapsed": false,
        "deletable": true,
        "editable": true
      }
    },
    {
      "cell_type": "markdown",
      "source": [
        "Para lograr el resultado con la aritmética de números, hay que trabajar con enteros de precisión extendida, o sea, con `BigInt`:"
      ],
      "metadata": {
        "deletable": true,
        "editable": true
      }
    },
    {
      "cell_type": "code",
      "source": [
        "BigInt(typemax(Int64))+1"
      ],
      "outputs": [],
      "execution_count": null,
      "metadata": {
        "collapsed": false,
        "deletable": true,
        "editable": true
      }
    },
    {
      "cell_type": "code",
      "source": [
        "typemax(BigInt)"
      ],
      "outputs": [],
      "execution_count": null,
      "metadata": {
        "collapsed": false,
        "deletable": true,
        "editable": true
      }
    },
    {
      "cell_type": "markdown",
      "source": [
        "A pesar de que la función `typemax` no está definida para enteros, hay operaciones que dan resultados \"raros\":"
      ],
      "metadata": {
        "deletable": true,
        "editable": true
      }
    },
    {
      "cell_type": "code",
      "source": [
        "BigInt(2)^BigInt(2)^2^2^2^2"
      ],
      "outputs": [],
      "execution_count": null,
      "metadata": {
        "collapsed": false,
        "deletable": true,
        "editable": true
      }
    },
    {
      "cell_type": "markdown",
      "source": [
        "Cuál es el número de punto flotante más grande?"
      ],
      "metadata": {
        "deletable": true,
        "editable": true
      }
    },
    {
      "cell_type": "code",
      "source": [
        "typemax(Float64)"
      ],
      "outputs": [],
      "execution_count": null,
      "metadata": {
        "collapsed": false,
        "deletable": true,
        "editable": true
      }
    },
    {
      "cell_type": "code",
      "source": [
        "Inf > Inf"
      ],
      "outputs": [],
      "execution_count": null,
      "metadata": {
        "collapsed": false,
        "deletable": true,
        "editable": true
      }
    },
    {
      "cell_type": "code",
      "source": [
        "Inf == Inf"
      ],
      "outputs": [],
      "execution_count": null,
      "metadata": {
        "collapsed": false,
        "deletable": true,
        "editable": true
      }
    },
    {
      "cell_type": "markdown",
      "source": [
        "`Inf` es el número de punto flotante mayor o igual a cualquier otro número de punto flotante."
      ],
      "metadata": {
        "deletable": true,
        "editable": true
      }
    },
    {
      "cell_type": "code",
      "source": [
        "typemax(Float64)-1"
      ],
      "outputs": [],
      "execution_count": null,
      "metadata": {
        "collapsed": false,
        "deletable": true,
        "editable": true
      }
    },
    {
      "cell_type": "markdown",
      "source": [
        "¿Y cuál es el número de punto flotante anterior a `Inf`? Una manera de obtener dicho número es usando `prevfloat`; también existe `nextfloat`"
      ],
      "metadata": {
        "deletable": true,
        "editable": true
      }
    },
    {
      "cell_type": "code",
      "source": [
        "prevfloat(Inf)"
      ],
      "outputs": [],
      "execution_count": null,
      "metadata": {
        "collapsed": false,
        "deletable": true,
        "editable": true
      }
    },
    {
      "cell_type": "code",
      "source": [
        "prevfloat(Inf)+1.0"
      ],
      "outputs": [],
      "execution_count": null,
      "metadata": {
        "collapsed": false,
        "deletable": true,
        "editable": true
      }
    },
    {
      "cell_type": "markdown",
      "source": [
        "¿Por qué da el resultado anterior? Simplemente, porque `Float64` utiliza 64 bits de precisión; más de esto vendrá después."
      ],
      "metadata": {
        "deletable": true,
        "editable": true
      }
    },
    {
      "cell_type": "code",
      "source": [
        "nextfloat(typemin(Float64))"
      ],
      "outputs": [],
      "execution_count": null,
      "metadata": {
        "collapsed": false,
        "deletable": true,
        "editable": true
      }
    },
    {
      "cell_type": "markdown",
      "source": [
        "## Representación binaria de `Int` y `Float64`"
      ],
      "metadata": {}
    },
    {
      "cell_type": "markdown",
      "source": [
        "Julia incluye funciones específicas para obtener la representación binaria de ciertos tipos. Esta función es extremadamente útil cuando uno quiere entender, o recordar, las sutilezas de la aritmética de enteros (`Int`) o de los números de punto flotante (`Float64`)."
      ],
      "metadata": {
        "deletable": true,
        "editable": true
      }
    },
    {
      "cell_type": "code",
      "source": [
        "bits(4)"
      ],
      "outputs": [],
      "execution_count": 3,
      "metadata": {
        "collapsed": false
      }
    },
    {
      "cell_type": "code",
      "source": [
        "bits(5)"
      ],
      "outputs": [],
      "execution_count": 1,
      "metadata": {
        "collapsed": false,
        "deletable": true,
        "editable": true
      }
    },
    {
      "cell_type": "code",
      "source": [
        "bits(-5)"
      ],
      "outputs": [],
      "execution_count": 2,
      "metadata": {
        "collapsed": false,
        "deletable": true,
        "editable": true
      }
    },
    {
      "cell_type": "markdown",
      "source": [
        "De las tres celdas anteriores es claro que la representación interna binaria de un número negativo entero $-n$ corresponde a la negación lógica (cambiar `0`s por `1`s y viceversa) del valor $n-1$; en el ejemplo anterior, la representación binaria de $-5$ corresponde a la negación lógica de la representación de $4$."
      ],
      "metadata": {}
    },
    {
      "cell_type": "code",
      "source": [
        "bits(typemax(Int))"
      ],
      "outputs": [],
      "execution_count": null,
      "metadata": {
        "collapsed": false,
        "deletable": true,
        "editable": true
      }
    },
    {
      "cell_type": "code",
      "source": [
        "bits(typemax(Int)+1)"
      ],
      "outputs": [],
      "execution_count": null,
      "metadata": {
        "collapsed": false,
        "deletable": true,
        "editable": true
      }
    },
    {
      "cell_type": "markdown",
      "source": [
        "Como se dijo antes, la aritmética de `Int` es claramente modular."
      ],
      "metadata": {}
    },
    {
      "cell_type": "markdown",
      "source": [
        "`bits` también permite obtener la representación binaria de los números de punto flotante."
      ],
      "metadata": {
        "deletable": true,
        "editable": true
      }
    },
    {
      "cell_type": "code",
      "source": [
        "bits(0.0)"
      ],
      "outputs": [],
      "execution_count": null,
      "metadata": {
        "collapsed": false,
        "deletable": true,
        "editable": true
      }
    },
    {
      "cell_type": "code",
      "source": [
        "bits(-0.0)"
      ],
      "outputs": [],
      "execution_count": null,
      "metadata": {
        "collapsed": false,
        "deletable": true,
        "editable": true
      }
    },
    {
      "cell_type": "code",
      "source": [
        "bits(0.125)"
      ],
      "outputs": [],
      "execution_count": null,
      "metadata": {
        "collapsed": false,
        "deletable": true,
        "editable": true
      }
    },
    {
      "cell_type": "code",
      "source": [
        "bits(-0.125)"
      ],
      "outputs": [],
      "execution_count": null,
      "metadata": {
        "collapsed": false,
        "deletable": true,
        "editable": true
      }
    },
    {
      "cell_type": "markdown",
      "source": [
        "Claramente, el primer bit corresponde al signo. Sin embargo, también es claro que el resto de bits no son directamente la representación binaria  del número, que corresponde a:\n",
        "\n$$0.125 = 1/8 = 1/2^3 = 2^{-3} = 0.001_{(2)}.$$"
      ],
      "metadata": {}
    },
    {
      "cell_type": "markdown",
      "source": [
        "Para aclarar esto, usemos casos más sencillos, por ejemplo el `1.0` y el `2.0`.\n",
        "\n",
        "Vale la pena recalcar que la representación binaria de estos números está dada por\n",
        "\n",
        "\\begin{eqnarray}\n",
        "1.0 & = & 1\\times 2^0 = 1.0_{(2)}\\nonumber,\\cr\n",
        "2.0 & = & 1\\times 2^1 = 10.0_{(2)}\\nonumber,\\cr\n",
        "\\end{eqnarray}\n",
        "\ndonde, multiplicar por 2 corresponde a mover el punto *binario) hacia la derecha."
      ],
      "metadata": {}
    },
    {
      "cell_type": "code",
      "source": [
        "bits(1.0)"
      ],
      "outputs": [],
      "execution_count": 5,
      "metadata": {
        "collapsed": false,
        "deletable": true,
        "editable": true
      }
    },
    {
      "cell_type": "code",
      "source": [
        "bits(2.0) "
      ],
      "outputs": [],
      "execution_count": 6,
      "metadata": {
        "collapsed": false,
        "deletable": true,
        "editable": true
      }
    },
    {
      "cell_type": "markdown",
      "source": [
        "Claramente, los resultados de `bits()` muestran que, después del primer bit (el del signo), los siguientes 11 tienen algo que ver con el exponente, pero no es muy claro qué. Se trata de 11 ya que es ahí donde cambian las cosas en la representación binaria de `1.0` y `2.0`, y esos 11 bits (en binario) difieren en 1."
      ],
      "metadata": {}
    },
    {
      "cell_type": "markdown",
      "source": [
        "Los 11 bits del exponente de `1.0` corresponden a:"
      ],
      "metadata": {}
    },
    {
      "cell_type": "code",
      "source": [
        "2^10-1"
      ],
      "outputs": [],
      "execution_count": 7,
      "metadata": {
        "collapsed": false,
        "deletable": true,
        "editable": true
      }
    },
    {
      "cell_type": "markdown",
      "source": [
        "Claramente hay un cambio de origen (*offset*) del exponente que tiene que ver con 1023. Entonces, hasta ahora tenemos que los números de punto flotante se escriben como\n",
        "\n",
        "\\begin{equation*}\n",
        "x = \\sigma * 2^{e-1023} * m,\n",
        "\\end{equation*}\n",
        "\n",
        "donde $\\sigma = (-1)^b_1$ es el signo (dado por el primer bit), $e$ es\n",
        "el exponente en binario dado por los siguientes 11 bits, y los 52 restantes representan la mantisa, $m$. \n",
        "\nDe hecho, y como se puede ver en los ejemplos con `1.0`, `2.0` y `0.125`, la mantisa son puros ceros. Esto sugiere que uno \"absorve\" el 1 (*bit omitido*) asociado con el exponente, y los 52 bits restantes son la parte fraccionaria. Entonces, un número de punto flotante *normal* corresponde a 53 bits (52 de mantisa y el 1 que se omite)."
      ],
      "metadata": {}
    },
    {
      "cell_type": "markdown",
      "source": [
        "Dado que tenemos un número finito de puntos del tipo `Float64`, surge la pregunta de ¿cuál es el menor número que sumado (por ejemplo) a 1.0 da un número distinto de punto 1.0? Este número (en particular en torno al ejemplo de 1.0) se llama \"el epsilon de la máquina\"; claramente, el concepto se puede generalizar a otros números."
      ],
      "metadata": {
        "deletable": true,
        "editable": true
      }
    },
    {
      "cell_type": "code",
      "source": [
        "1.0 + 1.0e-70"
      ],
      "outputs": [],
      "execution_count": null,
      "metadata": {
        "collapsed": false,
        "deletable": true,
        "editable": true
      }
    },
    {
      "cell_type": "code",
      "source": [
        "1.0 + 1.0e-15"
      ],
      "outputs": [],
      "execution_count": null,
      "metadata": {
        "collapsed": false,
        "deletable": true,
        "editable": true
      }
    },
    {
      "cell_type": "code",
      "source": [
        "eps(1.0)"
      ],
      "outputs": [],
      "execution_count": null,
      "metadata": {
        "collapsed": false,
        "deletable": true,
        "editable": true
      }
    },
    {
      "cell_type": "code",
      "source": [
        "eps()"
      ],
      "outputs": [],
      "execution_count": null,
      "metadata": {
        "collapsed": false,
        "deletable": true,
        "editable": true
      }
    },
    {
      "cell_type": "code",
      "source": [
        "1.0 + eps()"
      ],
      "outputs": [],
      "execution_count": null,
      "metadata": {
        "collapsed": false,
        "deletable": true,
        "editable": true
      }
    },
    {
      "cell_type": "markdown",
      "source": [
        "¿Cual es el menor número positivo representable como `Float64`?"
      ],
      "metadata": {
        "deletable": true,
        "editable": true
      }
    },
    {
      "cell_type": "code",
      "source": [
        "2.0^-52"
      ],
      "outputs": [],
      "execution_count": 8,
      "metadata": {
        "collapsed": false,
        "deletable": true,
        "editable": true
      }
    },
    {
      "cell_type": "code",
      "source": [
        "2.0^-1065"
      ],
      "outputs": [],
      "execution_count": 23,
      "metadata": {
        "collapsed": false,
        "deletable": true,
        "editable": true
      }
    },
    {
      "cell_type": "code",
      "source": [
        "nextfloat(0.0)"
      ],
      "outputs": [],
      "execution_count": 24,
      "metadata": {
        "collapsed": false,
        "deletable": true,
        "editable": true
      }
    },
    {
      "cell_type": "code",
      "source": [
        "bits(ans)"
      ],
      "outputs": [],
      "execution_count": 25,
      "metadata": {
        "collapsed": false,
        "deletable": true,
        "editable": true
      }
    },
    {
      "cell_type": "code",
      "source": [
        "2.0^(-1023)"
      ],
      "outputs": [],
      "execution_count": 20,
      "metadata": {
        "collapsed": false
      }
    },
    {
      "cell_type": "code",
      "source": [
        "bits(ans)"
      ],
      "outputs": [],
      "execution_count": 21,
      "metadata": {
        "collapsed": false
      }
    },
    {
      "cell_type": "markdown",
      "source": [
        "Cuando el exponente en la representación binaria es cero, el \"bit omitido\" por convención es cero; este tipo de números de punto flotante son los *subnormales*."
      ],
      "metadata": {}
    },
    {
      "cell_type": "markdown",
      "source": [
        "## Vectores y matrices"
      ],
      "metadata": {
        "deletable": true,
        "editable": true
      }
    },
    {
      "cell_type": "markdown",
      "source": [
        "Para definir vectores usamos los *corchetes*, y los elementos se separan por *comas*:"
      ],
      "metadata": {
        "deletable": true,
        "editable": true
      }
    },
    {
      "cell_type": "code",
      "source": [
        "v = [1,2,3]"
      ],
      "outputs": [],
      "execution_count": 1,
      "metadata": {
        "collapsed": false,
        "deletable": true,
        "editable": true
      }
    },
    {
      "cell_type": "markdown",
      "source": [
        "y su traspuesto:"
      ],
      "metadata": {
        "deletable": true,
        "editable": true
      }
    },
    {
      "cell_type": "code",
      "source": [
        "v'"
      ],
      "outputs": [],
      "execution_count": 27,
      "metadata": {
        "collapsed": false,
        "deletable": true,
        "editable": true
      }
    },
    {
      "cell_type": "markdown",
      "source": [
        "Vale la pena notar aquí que los vectores típicos (`v = [1,2,3]`) son *vectores columna*; su traspuesto (que es un vector renglón) de hecho es una matriz; esto es lo que indica el 2 en `Array{Int64,2}`.\n",
        "\nOtra manera de generar un vector columna es:"
      ],
      "metadata": {
        "deletable": true,
        "editable": true
      }
    },
    {
      "cell_type": "code",
      "source": [
        "[1 2 3]"
      ],
      "outputs": [],
      "execution_count": 28,
      "metadata": {
        "collapsed": false,
        "deletable": true,
        "editable": true
      }
    },
    {
      "cell_type": "markdown",
      "source": [
        "**NOTA:** Las componentes de los arreglos por convención se numeran desde el 1; aunque uno puede definir cualquier rango (entero) para los índices de los vectores, pero eso lo dejaremos aquí de lado."
      ],
      "metadata": {
        "deletable": true,
        "editable": true
      }
    },
    {
      "cell_type": "code",
      "source": [
        "v[1]"
      ],
      "outputs": [],
      "execution_count": null,
      "metadata": {
        "collapsed": false,
        "deletable": true,
        "editable": true
      }
    },
    {
      "cell_type": "markdown",
      "source": [
        "La última componente se puede abreviar con `end`:"
      ],
      "metadata": {
        "deletable": true,
        "editable": true
      }
    },
    {
      "cell_type": "code",
      "source": [
        "v[end]"
      ],
      "outputs": [],
      "execution_count": 29,
      "metadata": {
        "collapsed": false,
        "deletable": true,
        "editable": true
      }
    },
    {
      "cell_type": "markdown",
      "source": [
        "... y uno puede hacer operaciones aritméticas con los índices de los vectores:"
      ],
      "metadata": {
        "deletable": true,
        "editable": true
      }
    },
    {
      "cell_type": "code",
      "source": [
        "v[end-2]"
      ],
      "outputs": [],
      "execution_count": 30,
      "metadata": {
        "collapsed": false,
        "deletable": true,
        "editable": true
      }
    },
    {
      "cell_type": "code",
      "source": [
        "v[17]"
      ],
      "outputs": [],
      "execution_count": 31,
      "metadata": {
        "collapsed": false,
        "deletable": true,
        "editable": true
      }
    },
    {
      "cell_type": "markdown",
      "source": [
        "Para añadir un elemento al final de un vector, se puede utilizar `push!` o también `append!`:"
      ],
      "metadata": {
        "deletable": true,
        "editable": true
      }
    },
    {
      "cell_type": "code",
      "source": [
        "push!(v, 2*v[end])"
      ],
      "outputs": [],
      "execution_count": null,
      "metadata": {
        "collapsed": false,
        "deletable": true,
        "editable": true
      }
    },
    {
      "cell_type": "code",
      "source": [
        "append!(v,v)"
      ],
      "outputs": [],
      "execution_count": null,
      "metadata": {
        "collapsed": false,
        "deletable": true,
        "editable": true
      }
    },
    {
      "cell_type": "code",
      "source": [
        "append!(v, [-1, -2, -3])"
      ],
      "outputs": [],
      "execution_count": null,
      "metadata": {
        "collapsed": false,
        "deletable": true,
        "editable": true
      }
    },
    {
      "cell_type": "markdown",
      "source": [
        "Para borrar elementos de un vector se utilizan las funciones `pop!` (borra el último elemento) o `deleteat!` que borra un elemento (por su índice) concreto"
      ],
      "metadata": {
        "deletable": true,
        "editable": true
      }
    },
    {
      "cell_type": "code",
      "source": [
        "\npop!(v)"
      ],
      "outputs": [],
      "execution_count": null,
      "metadata": {
        "collapsed": false,
        "deletable": true,
        "editable": true
      }
    },
    {
      "cell_type": "code",
      "source": [
        "v"
      ],
      "outputs": [],
      "execution_count": null,
      "metadata": {
        "collapsed": false,
        "deletable": true,
        "editable": true
      }
    },
    {
      "cell_type": "code",
      "source": [
        "deleteat!(v, 1)"
      ],
      "outputs": [],
      "execution_count": null,
      "metadata": {
        "collapsed": false,
        "deletable": true,
        "editable": true
      }
    },
    {
      "cell_type": "code",
      "source": [
        "v[1]"
      ],
      "outputs": [],
      "execution_count": null,
      "metadata": {
        "collapsed": false,
        "deletable": true,
        "editable": true
      }
    },
    {
      "cell_type": "markdown",
      "source": [
        "**NOTA** En Julia, por convención el símbolo `!` al final del nombre de una función implica que la función *cambia* el contenido de alguno de los argumentos que se pasan a la función, es decir, uno de los argumentos es *mutable*. En los ejemplos anteriores el vector `v` ha cambiado."
      ],
      "metadata": {
        "deletable": true,
        "editable": true
      }
    },
    {
      "cell_type": "markdown",
      "source": [
        "Algunas funciones muy útiles relacionadas con la estructura de vectores son:"
      ],
      "metadata": {
        "deletable": true,
        "editable": true
      }
    },
    {
      "cell_type": "code",
      "source": [
        "length(v)"
      ],
      "outputs": [],
      "execution_count": 32,
      "metadata": {
        "collapsed": false,
        "deletable": true,
        "editable": true
      }
    },
    {
      "cell_type": "code",
      "source": [
        "size(v)"
      ],
      "outputs": [],
      "execution_count": 33,
      "metadata": {
        "collapsed": false,
        "deletable": true,
        "editable": true
      }
    },
    {
      "cell_type": "code",
      "source": [
        "v'"
      ],
      "outputs": [],
      "execution_count": 34,
      "metadata": {
        "collapsed": false,
        "deletable": true,
        "editable": true
      }
    },
    {
      "cell_type": "code",
      "source": [
        "size(v')"
      ],
      "outputs": [],
      "execution_count": 35,
      "metadata": {
        "collapsed": false,
        "deletable": true,
        "editable": true
      }
    },
    {
      "cell_type": "markdown",
      "source": [
        "En Julia uno puede definir vectores con cero elementos; eso es útil cuando uno desconoce cuantos elementos se requerirán."
      ],
      "metadata": {
        "deletable": true,
        "editable": true
      }
    },
    {
      "cell_type": "code",
      "source": [
        "v = []"
      ],
      "outputs": [],
      "execution_count": 36,
      "metadata": {
        "collapsed": false,
        "deletable": true,
        "editable": true
      }
    },
    {
      "cell_type": "code",
      "source": [
        "size(ans)"
      ],
      "outputs": [],
      "execution_count": 37,
      "metadata": {
        "collapsed": false,
        "deletable": true,
        "editable": true
      }
    },
    {
      "cell_type": "code",
      "source": [
        "v = Float64[]"
      ],
      "outputs": [],
      "execution_count": 38,
      "metadata": {
        "collapsed": false,
        "deletable": true,
        "editable": true
      }
    },
    {
      "cell_type": "markdown",
      "source": [
        "Para calcular el producto punto, entonces hacemos"
      ],
      "metadata": {
        "deletable": true,
        "editable": true
      }
    },
    {
      "cell_type": "code",
      "source": [
        "v = [1, 2, 3]"
      ],
      "outputs": [],
      "execution_count": 39,
      "metadata": {
        "collapsed": false,
        "deletable": true,
        "editable": true
      }
    },
    {
      "cell_type": "code",
      "source": [
        "v' * v"
      ],
      "outputs": [],
      "execution_count": 40,
      "metadata": {
        "collapsed": false,
        "deletable": true,
        "editable": true
      }
    },
    {
      "cell_type": "markdown",
      "source": [
        "... pero también existe la función `dot()` que hace lo mismo:"
      ],
      "metadata": {}
    },
    {
      "cell_type": "code",
      "source": [
        "dot(v,v)"
      ],
      "outputs": [],
      "execution_count": 41,
      "metadata": {
        "collapsed": false,
        "deletable": true,
        "editable": true
      }
    },
    {
      "cell_type": "code",
      "source": [
        "v ⋅ v # v \\cdot<TAB> v"
      ],
      "outputs": [],
      "execution_count": 42,
      "metadata": {
        "collapsed": false,
        "deletable": true,
        "editable": true
      }
    },
    {
      "cell_type": "markdown",
      "source": [
        "Para el producto cruz uno puede usar"
      ],
      "metadata": {
        "collapsed": true,
        "deletable": true,
        "editable": true
      }
    },
    {
      "cell_type": "code",
      "source": [
        "v × v # v \\times<TAB> v"
      ],
      "outputs": [],
      "execution_count": 45,
      "metadata": {
        "collapsed": false,
        "deletable": true,
        "editable": true
      }
    },
    {
      "cell_type": "markdown",
      "source": [
        "Otras opciones son el producto externo:"
      ],
      "metadata": {
        "deletable": true,
        "editable": true
      }
    },
    {
      "cell_type": "code",
      "source": [
        "v2 = v * v'"
      ],
      "outputs": [],
      "execution_count": 46,
      "metadata": {
        "collapsed": false,
        "deletable": true,
        "editable": true
      }
    },
    {
      "cell_type": "code",
      "source": [
        "typeof(v2)"
      ],
      "outputs": [],
      "execution_count": 47,
      "metadata": {
        "collapsed": false,
        "deletable": true,
        "editable": true
      }
    },
    {
      "cell_type": "code",
      "source": [
        "size(v2)"
      ],
      "outputs": [],
      "execution_count": 48,
      "metadata": {
        "collapsed": false,
        "deletable": true,
        "editable": true
      }
    },
    {
      "cell_type": "markdown",
      "source": [
        "Para construir matrices hacemos un \"vector de vectores\""
      ],
      "metadata": {
        "deletable": true,
        "editable": true
      }
    },
    {
      "cell_type": "code",
      "source": [
        "A = [[2,1] [1,1]] # Arnold's cat"
      ],
      "outputs": [],
      "execution_count": 50,
      "metadata": {
        "collapsed": false,
        "deletable": true,
        "editable": true
      }
    },
    {
      "cell_type": "code",
      "source": [
        "det(A)"
      ],
      "outputs": [],
      "execution_count": null,
      "metadata": {
        "collapsed": false,
        "deletable": true,
        "editable": true
      }
    },
    {
      "cell_type": "code",
      "source": [
        "eigvals(A)"
      ],
      "outputs": [],
      "execution_count": null,
      "metadata": {
        "collapsed": false,
        "deletable": true,
        "editable": true
      }
    },
    {
      "cell_type": "code",
      "source": [
        "eigvecs(A)"
      ],
      "outputs": [],
      "execution_count": null,
      "metadata": {
        "collapsed": false,
        "deletable": true,
        "editable": true
      }
    },
    {
      "cell_type": "code",
      "source": [
        "eig(A)"
      ],
      "outputs": [],
      "execution_count": null,
      "metadata": {
        "collapsed": false,
        "deletable": true,
        "editable": true
      }
    },
    {
      "cell_type": "code",
      "source": [
        "typeof(ans)"
      ],
      "outputs": [],
      "execution_count": null,
      "metadata": {
        "collapsed": false,
        "deletable": true,
        "editable": true
      }
    },
    {
      "cell_type": "markdown",
      "source": [
        "Una matriz aleatoria:"
      ],
      "metadata": {
        "deletable": true,
        "editable": true
      }
    },
    {
      "cell_type": "code",
      "source": [
        "H = randn(3,3)"
      ],
      "outputs": [],
      "execution_count": null,
      "metadata": {
        "collapsed": false,
        "deletable": true,
        "editable": true
      }
    },
    {
      "cell_type": "code",
      "source": [
        "typeof(H)"
      ],
      "outputs": [],
      "execution_count": null,
      "metadata": {
        "collapsed": false,
        "deletable": true,
        "editable": true
      }
    },
    {
      "cell_type": "code",
      "source": [
        "v = rand(3)"
      ],
      "outputs": [],
      "execution_count": null,
      "metadata": {
        "collapsed": false,
        "deletable": true,
        "editable": true
      }
    },
    {
      "cell_type": "code",
      "source": [
        "H * v"
      ],
      "outputs": [],
      "execution_count": null,
      "metadata": {
        "collapsed": false,
        "deletable": true,
        "editable": true
      }
    },
    {
      "cell_type": "code",
      "source": [
        "exp(H)"
      ],
      "outputs": [],
      "execution_count": null,
      "metadata": {
        "collapsed": false,
        "deletable": true,
        "editable": true
      }
    },
    {
      "cell_type": "code",
      "source": [
        "exp(v)"
      ],
      "outputs": [],
      "execution_count": null,
      "metadata": {
        "collapsed": false,
        "deletable": true,
        "editable": true
      }
    },
    {
      "cell_type": "code",
      "source": [
        "rand(1000, 1000)"
      ],
      "outputs": [],
      "execution_count": null,
      "metadata": {
        "collapsed": false,
        "deletable": true,
        "editable": true
      }
    },
    {
      "cell_type": "code",
      "source": [
        "H"
      ],
      "outputs": [],
      "execution_count": null,
      "metadata": {
        "collapsed": false,
        "deletable": true,
        "editable": true
      }
    },
    {
      "cell_type": "code",
      "source": [
        "H[3,2]"
      ],
      "outputs": [],
      "execution_count": null,
      "metadata": {
        "collapsed": false,
        "deletable": true,
        "editable": true
      }
    },
    {
      "cell_type": "code",
      "source": [
        "H[6]"
      ],
      "outputs": [],
      "execution_count": null,
      "metadata": {
        "collapsed": false,
        "deletable": true,
        "editable": true
      }
    },
    {
      "cell_type": "markdown",
      "source": [
        "Uno puede definir vectores con elementos no necesariamente del mismo tipo, aunque esto *puede* tener penalizaciones a nivel manejo de memoria. Si los distintos tipos pueden ser *promocionados* a algo que tenga sentido, entonces se hace la promoción; esto da un vector con uso eficiente de memoria. "
      ],
      "metadata": {
        "deletable": true,
        "editable": true
      }
    },
    {
      "cell_type": "code",
      "source": [
        "[1//3, 7.2, BigFloat(0.5)] # la promoción da un vector de tipo definido"
      ],
      "outputs": [],
      "execution_count": 51,
      "metadata": {
        "collapsed": false,
        "deletable": true,
        "editable": true
      }
    },
    {
      "cell_type": "code",
      "source": [
        "# la imposibilidad de hacer una promoción a algo común d\n",
        "#a un vector de tipo `Any`\n",
        "[\"Hola\", 16, pi]"
      ],
      "outputs": [],
      "execution_count": 52,
      "metadata": {
        "collapsed": false,
        "deletable": true,
        "editable": true
      }
    },
    {
      "cell_type": "code",
      "source": [
        "typeof(ans)"
      ],
      "outputs": [],
      "execution_count": 53,
      "metadata": {
        "collapsed": false,
        "deletable": true,
        "editable": true
      }
    },
    {
      "cell_type": "markdown",
      "source": [
        "¿Cuál es la jerarquía en la promoción de tipos?"
      ],
      "metadata": {
        "deletable": true,
        "editable": true
      }
    },
    {
      "cell_type": "code",
      "source": [
        "?promote_type"
      ],
      "outputs": [],
      "execution_count": 54,
      "metadata": {
        "collapsed": false,
        "deletable": true,
        "editable": true
      }
    },
    {
      "cell_type": "code",
      "source": [
        "promote_type(typeof(\"s\"), Float64)"
      ],
      "outputs": [],
      "execution_count": 55,
      "metadata": {
        "collapsed": false,
        "deletable": true,
        "editable": true
      }
    },
    {
      "cell_type": "code",
      "source": [
        "supertype(Float64)"
      ],
      "outputs": [],
      "execution_count": 57,
      "metadata": {
        "collapsed": false,
        "deletable": true,
        "editable": true
      }
    },
    {
      "cell_type": "code",
      "source": [
        "subtypes(Any)"
      ],
      "outputs": [],
      "execution_count": 58,
      "metadata": {
        "collapsed": false,
        "deletable": true,
        "editable": true
      }
    },
    {
      "cell_type": "markdown",
      "source": [
        "## I/O"
      ],
      "metadata": {
        "deletable": true,
        "editable": true
      }
    },
    {
      "cell_type": "code",
      "source": [
        "println(2, 3,4)"
      ],
      "outputs": [],
      "execution_count": null,
      "metadata": {
        "collapsed": false,
        "deletable": true,
        "editable": true
      }
    },
    {
      "cell_type": "code",
      "source": [
        "println(2,\" \", 3,\"\\t\",4)"
      ],
      "outputs": [],
      "execution_count": null,
      "metadata": {
        "collapsed": false,
        "deletable": true,
        "editable": true
      }
    },
    {
      "cell_type": "code",
      "source": [
        "print(2,\" \", 3,\"\\t\",4)"
      ],
      "outputs": [],
      "execution_count": null,
      "metadata": {
        "collapsed": false,
        "deletable": true,
        "editable": true
      }
    },
    {
      "cell_type": "code",
      "source": [
        "println(2,3,4), print(2,3,4), println(2,3,4);"
      ],
      "outputs": [],
      "execution_count": null,
      "metadata": {
        "collapsed": false,
        "deletable": true,
        "editable": true
      }
    },
    {
      "cell_type": "code",
      "source": [
        "α"
      ],
      "outputs": [],
      "execution_count": null,
      "metadata": {
        "collapsed": false,
        "deletable": true,
        "editable": true
      }
    },
    {
      "cell_type": "code",
      "source": [
        "println(\"α = \", α)"
      ],
      "outputs": [],
      "execution_count": null,
      "metadata": {
        "collapsed": false,
        "deletable": true,
        "editable": true
      }
    },
    {
      "cell_type": "code",
      "source": [
        "typeof(\"2\")"
      ],
      "outputs": [],
      "execution_count": null,
      "metadata": {
        "collapsed": false,
        "deletable": true,
        "editable": true
      }
    },
    {
      "cell_type": "code",
      "source": [
        "typeof(\"α = \")"
      ],
      "outputs": [],
      "execution_count": null,
      "metadata": {
        "collapsed": false,
        "deletable": true,
        "editable": true
      }
    },
    {
      "cell_type": "code",
      "source": [
        "println(\"\"\"El resultado de la operación es $α, cosa que indica que \n",
        "todo funciona perfectamente\"\"\")"
      ],
      "outputs": [],
      "execution_count": null,
      "metadata": {
        "collapsed": false,
        "deletable": true,
        "editable": true
      }
    },
    {
      "cell_type": "code",
      "source": [
        "println(\"\"\"El resultado de la operación es $(sin(α)), cosa que indica que \n",
        "todo funciona perfectamente\"\"\")"
      ],
      "outputs": [],
      "execution_count": null,
      "metadata": {
        "collapsed": false,
        "deletable": true,
        "editable": true
      }
    },
    {
      "cell_type": "code",
      "source": [
        "cadena = \"10985746314\""
      ],
      "outputs": [],
      "execution_count": null,
      "metadata": {
        "collapsed": false,
        "deletable": true,
        "editable": true
      }
    },
    {
      "cell_type": "code",
      "source": [
        "typeof(cadena)"
      ],
      "outputs": [],
      "execution_count": null,
      "metadata": {
        "collapsed": false,
        "deletable": true,
        "editable": true
      }
    },
    {
      "cell_type": "code",
      "source": [
        "typeof('1')"
      ],
      "outputs": [],
      "execution_count": null,
      "metadata": {
        "collapsed": false,
        "deletable": true,
        "editable": true
      }
    },
    {
      "cell_type": "code",
      "source": [
        "typeof('α')"
      ],
      "outputs": [],
      "execution_count": null,
      "metadata": {
        "collapsed": false,
        "deletable": true,
        "editable": true
      }
    },
    {
      "cell_type": "code",
      "source": [
        "'10'"
      ],
      "outputs": [],
      "execution_count": null,
      "metadata": {
        "collapsed": false,
        "deletable": true,
        "editable": true
      }
    },
    {
      "cell_type": "code",
      "source": [
        "length(cadena)"
      ],
      "outputs": [],
      "execution_count": null,
      "metadata": {
        "collapsed": false,
        "deletable": true,
        "editable": true
      }
    },
    {
      "cell_type": "code",
      "source": [
        "cadena[1]\n"
      ],
      "outputs": [],
      "execution_count": null,
      "metadata": {
        "collapsed": false,
        "deletable": true,
        "editable": true
      }
    },
    {
      "cell_type": "code",
      "source": [
        "cadena[end]"
      ],
      "outputs": [],
      "execution_count": null,
      "metadata": {
        "collapsed": false,
        "deletable": true,
        "editable": true
      }
    },
    {
      "cell_type": "code",
      "source": [
        "cadena"
      ],
      "outputs": [],
      "execution_count": null,
      "metadata": {
        "collapsed": false,
        "deletable": true,
        "editable": true
      }
    },
    {
      "cell_type": "code",
      "source": [
        "cadena[2:5]"
      ],
      "outputs": [],
      "execution_count": null,
      "metadata": {
        "collapsed": false,
        "deletable": true,
        "editable": true
      }
    },
    {
      "cell_type": "code",
      "source": [
        "cadena[1:1]"
      ],
      "outputs": [],
      "execution_count": null,
      "metadata": {
        "collapsed": false,
        "deletable": true,
        "editable": true
      }
    },
    {
      "cell_type": "code",
      "source": [
        "typeof(2:5)"
      ],
      "outputs": [],
      "execution_count": null,
      "metadata": {
        "collapsed": false,
        "deletable": true,
        "editable": true
      }
    },
    {
      "cell_type": "markdown",
      "source": [
        "## Variables booleanas"
      ],
      "metadata": {
        "deletable": true,
        "editable": true
      }
    },
    {
      "cell_type": "code",
      "source": [
        "typeof(true)"
      ],
      "outputs": [],
      "execution_count": null,
      "metadata": {
        "collapsed": false,
        "deletable": true,
        "editable": true
      }
    },
    {
      "cell_type": "code",
      "source": [
        "Bool(1), Bool(0)"
      ],
      "outputs": [],
      "execution_count": null,
      "metadata": {
        "collapsed": false,
        "deletable": true,
        "editable": true
      }
    },
    {
      "cell_type": "code",
      "source": [
        "typeof(ans)"
      ],
      "outputs": [],
      "execution_count": null,
      "metadata": {
        "collapsed": false,
        "deletable": true,
        "editable": true
      }
    },
    {
      "cell_type": "code",
      "source": [
        "(1,2,3,\"hola\")"
      ],
      "outputs": [],
      "execution_count": null,
      "metadata": {
        "collapsed": false,
        "deletable": true,
        "editable": true
      }
    },
    {
      "cell_type": "code",
      "source": [
        "typeof(ans)"
      ],
      "outputs": [],
      "execution_count": null,
      "metadata": {
        "collapsed": false,
        "deletable": true,
        "editable": true
      }
    },
    {
      "cell_type": "markdown",
      "source": [
        "## Ciclos"
      ],
      "metadata": {
        "deletable": true,
        "editable": true
      }
    },
    {
      "cell_type": "code",
      "source": [
        "for i in -1:3\n",
        "    println(i)\n",
        "end"
      ],
      "outputs": [],
      "execution_count": null,
      "metadata": {
        "collapsed": false,
        "deletable": true,
        "editable": true
      }
    },
    {
      "cell_type": "code",
      "source": [
        "typeof(-1:3)"
      ],
      "outputs": [],
      "execution_count": null,
      "metadata": {
        "collapsed": false,
        "deletable": true,
        "editable": true
      }
    },
    {
      "cell_type": "code",
      "source": [
        "-1:3"
      ],
      "outputs": [],
      "execution_count": null,
      "metadata": {
        "collapsed": false,
        "deletable": true,
        "editable": true
      }
    },
    {
      "cell_type": "code",
      "source": [
        "collect(ans)"
      ],
      "outputs": [],
      "execution_count": null,
      "metadata": {
        "collapsed": false,
        "deletable": true,
        "editable": true
      }
    },
    {
      "cell_type": "code",
      "source": [
        "?collect"
      ],
      "outputs": [],
      "execution_count": null,
      "metadata": {
        "collapsed": false,
        "deletable": true,
        "editable": true
      }
    },
    {
      "cell_type": "code",
      "source": [
        "methods(collect)"
      ],
      "outputs": [],
      "execution_count": null,
      "metadata": {
        "collapsed": false,
        "deletable": true,
        "editable": true
      }
    },
    {
      "cell_type": "markdown",
      "source": [
        "En Julia hay varias reglas relacionadas con el lugar en el que están definidas las variables; esto es lo que se entiende por \"scope of variables\". Esto es importante en varias partes, y las iremos mencionando poco a poco."
      ],
      "metadata": {
        "deletable": true,
        "editable": true
      }
    },
    {
      "cell_type": "code",
      "source": [
        "i"
      ],
      "outputs": [],
      "execution_count": null,
      "metadata": {
        "collapsed": false,
        "deletable": true,
        "editable": true
      }
    },
    {
      "cell_type": "code",
      "source": [
        "for i = 1:3\n",
        "    x = i\n",
        "    println(x)\n",
        "end"
      ],
      "outputs": [],
      "execution_count": null,
      "metadata": {
        "collapsed": false,
        "deletable": true,
        "editable": true
      }
    },
    {
      "cell_type": "code",
      "source": [
        "x"
      ],
      "outputs": [],
      "execution_count": null,
      "metadata": {
        "collapsed": false,
        "deletable": true,
        "editable": true
      }
    },
    {
      "cell_type": "code",
      "source": [
        "x = 0\n",
        "for i in 1:3\n",
        "    x = i\n",
        "    println(x)\n",
        "end"
      ],
      "outputs": [],
      "execution_count": null,
      "metadata": {
        "collapsed": false,
        "deletable": true,
        "editable": true
      }
    },
    {
      "cell_type": "code",
      "source": [
        "x"
      ],
      "outputs": [],
      "execution_count": null,
      "metadata": {
        "collapsed": false,
        "deletable": true,
        "editable": true
      }
    },
    {
      "cell_type": "code",
      "source": [
        "typeof(1:2:5)"
      ],
      "outputs": [],
      "execution_count": null,
      "metadata": {
        "collapsed": false,
        "deletable": true,
        "editable": true
      }
    },
    {
      "cell_type": "code",
      "source": [
        "for i in 1:2:5\n",
        "    x = i\n",
        "    println(x)\n",
        "end"
      ],
      "outputs": [],
      "execution_count": null,
      "metadata": {
        "collapsed": false,
        "deletable": true,
        "editable": true
      }
    },
    {
      "cell_type": "code",
      "source": [
        "for i in .1:.2:1.0\n",
        "    x = i\n",
        "    println(x)\n",
        "end"
      ],
      "outputs": [],
      "execution_count": null,
      "metadata": {
        "collapsed": false,
        "deletable": true,
        "editable": true
      }
    },
    {
      "cell_type": "code",
      "source": [
        "# Empieza en .3, termina en 2, y genera 3 puntos\n",
        "linspace(.3, 2, 3)"
      ],
      "outputs": [],
      "execution_count": null,
      "metadata": {
        "collapsed": true,
        "deletable": true,
        "editable": true
      }
    },
    {
      "cell_type": "code",
      "source": [
        "typeof(ans)"
      ],
      "outputs": [],
      "execution_count": null,
      "metadata": {
        "collapsed": true,
        "deletable": true,
        "editable": true
      }
    },
    {
      "cell_type": "markdown",
      "source": [
        "El empleo de ciclos hace fácil ciertas cosas; por ejemplo"
      ],
      "metadata": {
        "deletable": true,
        "editable": true
      }
    },
    {
      "cell_type": "code",
      "source": [
        "[i^2 for i=1:10]"
      ],
      "outputs": [],
      "execution_count": null,
      "metadata": {
        "collapsed": false,
        "deletable": true,
        "editable": true
      }
    },
    {
      "cell_type": "markdown",
      "source": [
        "Al igual que existen los ciclos `for`, uno puede usar ciclos `while`:"
      ],
      "metadata": {
        "deletable": true,
        "editable": true
      }
    },
    {
      "cell_type": "code",
      "source": [
        "x = 0\n",
        "while x < 5\n",
        "    println(x)\n",
        "    x += 1 # asignación con incremento\n",
        "end"
      ],
      "outputs": [],
      "execution_count": null,
      "metadata": {
        "collapsed": false,
        "deletable": true,
        "editable": true
      }
    },
    {
      "cell_type": "markdown",
      "source": [
        "## Comparaciones y condicionales"
      ],
      "metadata": {
        "deletable": true,
        "editable": true
      }
    },
    {
      "cell_type": "code",
      "source": [
        "0.0 == -0.0"
      ],
      "outputs": [],
      "execution_count": null,
      "metadata": {
        "collapsed": false,
        "deletable": true,
        "editable": true
      }
    },
    {
      "cell_type": "code",
      "source": [
        "0.0 === -0.0"
      ],
      "outputs": [],
      "execution_count": null,
      "metadata": {
        "collapsed": false,
        "deletable": true,
        "editable": true
      }
    },
    {
      "cell_type": "markdown",
      "source": [
        "Julia distingue entre mayúsculas y minúsculas"
      ],
      "metadata": {
        "deletable": true,
        "editable": true
      }
    },
    {
      "cell_type": "code",
      "source": [
        "x"
      ],
      "outputs": [],
      "execution_count": null,
      "metadata": {
        "collapsed": false,
        "deletable": true,
        "editable": true
      }
    },
    {
      "cell_type": "code",
      "source": [
        "X = -2.1"
      ],
      "outputs": [],
      "execution_count": null,
      "metadata": {
        "collapsed": false,
        "deletable": true,
        "editable": true
      }
    },
    {
      "cell_type": "code",
      "source": [
        "x == X"
      ],
      "outputs": [],
      "execution_count": null,
      "metadata": {
        "collapsed": false,
        "deletable": true,
        "editable": true
      }
    },
    {
      "cell_type": "code",
      "source": [
        "1 == 3//3"
      ],
      "outputs": [],
      "execution_count": null,
      "metadata": {
        "collapsed": false,
        "deletable": true,
        "editable": true
      }
    },
    {
      "cell_type": "markdown",
      "source": [
        "A veces, uno requiere hacer comparaciones entre variables booleanas; a estas comparaciones se llama \"bitwise\", ya que esencialmente sólo se requiere un bit para guardar una variable booleana. Así, tenemos definidos `&` para \"and\" y `|` para \"or\"."
      ],
      "metadata": {
        "deletable": true,
        "editable": true
      }
    },
    {
      "cell_type": "code",
      "source": [
        "(1 == 3//3) & (0.0 == -0.0)"
      ],
      "outputs": [],
      "execution_count": null,
      "metadata": {
        "collapsed": false,
        "deletable": true,
        "editable": true
      }
    },
    {
      "cell_type": "code",
      "source": [
        "(1 == 3//4) | (0.1 == -0.0)"
      ],
      "outputs": [],
      "execution_count": null,
      "metadata": {
        "collapsed": false,
        "deletable": true,
        "editable": true
      }
    },
    {
      "cell_type": "markdown",
      "source": [
        "Esto genera la tabla de verdad de `&` y `|`"
      ],
      "metadata": {
        "deletable": true,
        "editable": true
      }
    },
    {
      "cell_type": "code",
      "source": [
        "for ib = (true, false)\n",
        "    for jb = (true,false)\n",
        "        println( \"$ib & $jb = \", ib & jb)\n",
        "        println( \"$ib | $jb = \", ib | jb)\n",
        "    end\n",
        "end"
      ],
      "outputs": [],
      "execution_count": null,
      "metadata": {
        "collapsed": false,
        "deletable": true,
        "editable": true
      }
    },
    {
      "cell_type": "code",
      "source": [
        "\"\"\"\n",
        "    pr(x)\n",
        "\n",
        "Imprime `x` con cierto formato.\n",
        "\"\"\"\n",
        "function pr(x)\n",
        "    println(\"x = \", x)\n",
        "    return x\n",
        "end"
      ],
      "outputs": [],
      "execution_count": null,
      "metadata": {
        "collapsed": false,
        "deletable": true,
        "editable": true
      }
    },
    {
      "cell_type": "code",
      "source": [
        "?pr"
      ],
      "outputs": [],
      "execution_count": null,
      "metadata": {
        "collapsed": false,
        "deletable": true,
        "editable": true
      }
    },
    {
      "cell_type": "code",
      "source": [
        "pr(pi)"
      ],
      "outputs": [],
      "execution_count": null,
      "metadata": {
        "collapsed": false,
        "deletable": true,
        "editable": true
      }
    },
    {
      "cell_type": "code",
      "source": [
        "ans"
      ],
      "outputs": [],
      "execution_count": null,
      "metadata": {
        "collapsed": false,
        "deletable": true,
        "editable": true
      }
    },
    {
      "cell_type": "code",
      "source": [
        "pr(v)"
      ],
      "outputs": [],
      "execution_count": null,
      "metadata": {
        "collapsed": false,
        "deletable": true,
        "editable": true
      }
    },
    {
      "cell_type": "code",
      "source": [
        "pr(true)"
      ],
      "outputs": [],
      "execution_count": null,
      "metadata": {
        "collapsed": false,
        "deletable": true,
        "editable": true
      }
    },
    {
      "cell_type": "code",
      "source": [
        "for ib = (true, false)\n",
        "    for jb = (true,false)\n",
        "        println( \"OPERACION: $ib & $jb = \", pr(ib) & pr(jb) )\n",
        "        println( \"OPERACION: $ib | $jb = \", pr(ib) | pr(jb) )\n",
        "    end\n",
        "end"
      ],
      "outputs": [],
      "execution_count": null,
      "metadata": {
        "collapsed": false,
        "deletable": true,
        "editable": true
      }
    },
    {
      "cell_type": "code",
      "source": [
        "for ib = (true, false)\n",
        "    for jb = (true,false)\n",
        "        println( \"OPERACION: $ib && $jb = \", pr(ib) && pr(jb))\n",
        "        println( \"OPERACION: $ib || $jb = \", pr(ib) || pr(jb))\n",
        "    end\n",
        "end"
      ],
      "outputs": [],
      "execution_count": null,
      "metadata": {
        "collapsed": false,
        "deletable": true,
        "editable": true
      }
    },
    {
      "cell_type": "code",
      "source": [
        "x"
      ],
      "outputs": [],
      "execution_count": null,
      "metadata": {
        "collapsed": false,
        "deletable": true,
        "editable": true
      }
    },
    {
      "cell_type": "code",
      "source": [
        "for i in 1:5\n",
        "    i == 3 && println(i)\n",
        "end"
      ],
      "outputs": [],
      "execution_count": null,
      "metadata": {
        "collapsed": false,
        "deletable": true,
        "editable": true
      }
    },
    {
      "cell_type": "code",
      "source": [
        "for i in 1:5\n",
        "    i == 3 || println(i)\n",
        "end"
      ],
      "outputs": [],
      "execution_count": null,
      "metadata": {
        "collapsed": false,
        "deletable": true,
        "editable": true
      }
    },
    {
      "cell_type": "markdown",
      "source": [
        "Los condicionales usan `if`; pueden incluir otros casos con `elseif`, o si es la última opción `else`."
      ],
      "metadata": {
        "deletable": true,
        "editable": true
      }
    },
    {
      "cell_type": "code",
      "source": [
        "for i in 1:10\n",
        "    if i == 3\n",
        "        println(i)\n",
        "    elseif i == 4 || i == 8\n",
        "        pr(i)\n",
        "    else\n",
        "        println(\"Otro caso: $i\")\n",
        "    end\n",
        "end"
      ],
      "outputs": [],
      "execution_count": null,
      "metadata": {
        "collapsed": false,
        "deletable": true,
        "editable": true
      }
    },
    {
      "cell_type": "code",
      "source": [
        "for i in 1:5\n",
        "    if i == 3\n",
        "        println(i)\n",
        "    else\n",
        "        println(\"i neq 3\")\n",
        "    end\n",
        "end"
      ],
      "outputs": [],
      "execution_count": null,
      "metadata": {
        "collapsed": false,
        "deletable": true,
        "editable": true
      }
    },
    {
      "cell_type": "code",
      "source": [
        "true == 1"
      ],
      "outputs": [],
      "execution_count": null,
      "metadata": {
        "collapsed": false,
        "deletable": true,
        "editable": true
      }
    },
    {
      "cell_type": "code",
      "source": [
        "sizeof(1)"
      ],
      "outputs": [],
      "execution_count": null,
      "metadata": {
        "collapsed": false,
        "deletable": true,
        "editable": true
      }
    },
    {
      "cell_type": "code",
      "source": [
        "sizeof(0.1)"
      ],
      "outputs": [],
      "execution_count": null,
      "metadata": {
        "collapsed": false,
        "deletable": true,
        "editable": true
      }
    },
    {
      "cell_type": "code",
      "source": [
        "sizeof(true)"
      ],
      "outputs": [],
      "execution_count": null,
      "metadata": {
        "collapsed": false,
        "deletable": true,
        "editable": true
      }
    },
    {
      "cell_type": "code",
      "source": [
        "x"
      ],
      "outputs": [],
      "execution_count": null,
      "metadata": {
        "collapsed": false,
        "deletable": true,
        "editable": true
      }
    },
    {
      "cell_type": "code",
      "source": [
        "for i in 1:5\n",
        "    x = i==3 ? 1 : 0\n",
        "    @show(i, x)\n",
        "end"
      ],
      "outputs": [],
      "execution_count": null,
      "metadata": {
        "collapsed": false,
        "deletable": true,
        "editable": true
      }
    },
    {
      "cell_type": "code",
      "source": [
        "x"
      ],
      "outputs": [],
      "execution_count": null,
      "metadata": {
        "collapsed": false,
        "deletable": true,
        "editable": true
      }
    },
    {
      "cell_type": "markdown",
      "source": [
        "## Funciones"
      ],
      "metadata": {
        "deletable": true,
        "editable": true
      }
    },
    {
      "cell_type": "markdown",
      "source": [
        "Ya hemos visto que Julia tiene definidas varias funciones típicas (exp, log, sin, etc) y otras no tan típicas (besselj0, zeta, etc).\n",
        "\n",
        "El último resultado indica que varios operadores son, simplemente, funciones en Julia. En este sentido, Julia es un lenguaje funcional.\n",
        "\n"
      ],
      "metadata": {
        "deletable": true,
        "editable": true
      }
    },
    {
      "cell_type": "code",
      "source": [
        "typeof(exp)"
      ],
      "outputs": [],
      "execution_count": null,
      "metadata": {
        "collapsed": false,
        "deletable": true,
        "editable": true
      }
    },
    {
      "cell_type": "code",
      "source": [
        "typeof(^)"
      ],
      "outputs": [],
      "execution_count": null,
      "metadata": {
        "collapsed": false,
        "deletable": true,
        "editable": true
      }
    },
    {
      "cell_type": "markdown",
      "source": [
        "Lo que haremos ahora es ver cómo podemos definir nuestras propias funciones. Esencialmente hay tres maneras."
      ],
      "metadata": {
        "deletable": true,
        "editable": true
      }
    },
    {
      "cell_type": "code",
      "source": [
        "f(x) = x^2"
      ],
      "outputs": [],
      "execution_count": null,
      "metadata": {
        "collapsed": false,
        "deletable": true,
        "editable": true
      }
    },
    {
      "cell_type": "code",
      "source": [
        "typeof(f)"
      ],
      "outputs": [],
      "execution_count": null,
      "metadata": {
        "collapsed": false,
        "deletable": true,
        "editable": true
      }
    },
    {
      "cell_type": "code",
      "source": [
        "f(1//4)"
      ],
      "outputs": [],
      "execution_count": null,
      "metadata": {
        "collapsed": false,
        "deletable": true,
        "editable": true
      }
    },
    {
      "cell_type": "code",
      "source": [
        "f(0.25)"
      ],
      "outputs": [],
      "execution_count": null,
      "metadata": {
        "collapsed": false,
        "deletable": true,
        "editable": true
      }
    },
    {
      "cell_type": "code",
      "source": [
        "f(\"Hola\")"
      ],
      "outputs": [],
      "execution_count": null,
      "metadata": {
        "collapsed": false,
        "deletable": true,
        "editable": true
      }
    },
    {
      "cell_type": "code",
      "source": [
        "function ff(x)\n",
        "    return x^2-1\n",
        "end"
      ],
      "outputs": [],
      "execution_count": null,
      "metadata": {
        "collapsed": false,
        "deletable": true,
        "editable": true
      }
    },
    {
      "cell_type": "code",
      "source": [
        "typeof(ff)"
      ],
      "outputs": [],
      "execution_count": null,
      "metadata": {
        "collapsed": false,
        "deletable": true,
        "editable": true
      }
    },
    {
      "cell_type": "code",
      "source": [
        "ff(1//16)"
      ],
      "outputs": [],
      "execution_count": null,
      "metadata": {
        "collapsed": false,
        "deletable": true,
        "editable": true
      }
    },
    {
      "cell_type": "code",
      "source": [
        "ff(\"Hola\")"
      ],
      "outputs": [],
      "execution_count": null,
      "metadata": {
        "collapsed": false,
        "deletable": true,
        "editable": true
      }
    },
    {
      "cell_type": "code",
      "source": [
        "fa = x -> x^2 - 1"
      ],
      "outputs": [],
      "execution_count": null,
      "metadata": {
        "collapsed": false,
        "deletable": true,
        "editable": true
      }
    },
    {
      "cell_type": "code",
      "source": [
        "fa(3//1)"
      ],
      "outputs": [],
      "execution_count": null,
      "metadata": {
        "collapsed": false,
        "deletable": true,
        "editable": true
      }
    },
    {
      "cell_type": "code",
      "source": [
        "typeof(fa)"
      ],
      "outputs": [],
      "execution_count": null,
      "metadata": {
        "collapsed": false,
        "deletable": true,
        "editable": true
      }
    },
    {
      "cell_type": "markdown",
      "source": [
        "Las funciones anónimas son muy útiles, ya que permiten pasar funciones como argumentos a otras funciones."
      ],
      "metadata": {
        "deletable": true,
        "editable": true
      }
    },
    {
      "cell_type": "code",
      "source": [
        "map(x-> x^2-1, [1,2,3])"
      ],
      "outputs": [],
      "execution_count": null,
      "metadata": {
        "collapsed": false,
        "deletable": true,
        "editable": true
      }
    },
    {
      "cell_type": "code",
      "source": [
        "map(ff, [1,2,3])"
      ],
      "outputs": [],
      "execution_count": null,
      "metadata": {
        "collapsed": false,
        "deletable": true,
        "editable": true
      }
    },
    {
      "cell_type": "markdown",
      "source": [
        "¿Cómo uno hace específica (respecto al tipo) una función?\n",
        "\n",
        "En el ejemplo de la función f(x) (arriba) la definimos como:\n",
        "\n",
        "```\n",
        "    f(x) = x^2\n",
        "```\n",
        "\nEsta definición es genérica, en el sentido de que se usa para cualquier *tipo* `x`. Pero podemos hacer que `f` tenga un comportamiento particular para cierto tipo de argumentos de la función; esta posibilidad de hacer cosas específicas es lo que se llama *multiple dispatch*: la función que se usa depende de los tipos específicos de los argumentos."
      ],
      "metadata": {
        "deletable": true,
        "editable": true
      }
    },
    {
      "cell_type": "code",
      "source": [
        "f(x::AbstractString) = x * \"Luis\""
      ],
      "outputs": [],
      "execution_count": null,
      "metadata": {
        "collapsed": false,
        "deletable": true,
        "editable": true
      }
    },
    {
      "cell_type": "code",
      "source": [
        "methods(f)"
      ],
      "outputs": [],
      "execution_count": null,
      "metadata": {
        "collapsed": false,
        "deletable": true,
        "editable": true
      }
    },
    {
      "cell_type": "code",
      "source": [
        "f(1//3)"
      ],
      "outputs": [],
      "execution_count": null,
      "metadata": {
        "collapsed": false,
        "deletable": true,
        "editable": true
      }
    },
    {
      "cell_type": "code",
      "source": [
        "f(\"Hola\")"
      ],
      "outputs": [],
      "execution_count": null,
      "metadata": {
        "collapsed": false,
        "deletable": true,
        "editable": true
      }
    },
    {
      "cell_type": "code",
      "source": [
        "f(\"α\")"
      ],
      "outputs": [],
      "execution_count": null,
      "metadata": {
        "collapsed": false,
        "deletable": true,
        "editable": true
      }
    },
    {
      "cell_type": "markdown",
      "source": [
        "## Estabilidad de tipo"
      ],
      "metadata": {
        "deletable": true,
        "editable": true
      }
    },
    {
      "cell_type": "markdown",
      "source": [
        "Para que quede claro la importancia de la *estabilidad de tipo*, hagamos un ejemplo de una función que **no** es estable según el tipo, y comparemos su rendimiento con una que sí lo es. El ejemplo es muy malo, pero ilustrativo."
      ],
      "metadata": {
        "deletable": true,
        "editable": true
      }
    },
    {
      "cell_type": "code",
      "source": [
        "# Aquí, x puede ser un Float64 o un racional, según el valor de `n`\n",
        "function bad_choice(n::Int)\n",
        "    x = rem(n,2) == 0 ? n/2 : n//3\n",
        "    return x^2\n",
        "end\n",
        "\n",
        "# Aquí, x sólo puede ser un Float64\n",
        "function good_choice(n::Int)\n",
        "    x = rem(n,2) == 0 ? n/2 : n/3\n",
        "    return x^2\n",
        "end"
      ],
      "outputs": [],
      "execution_count": 7,
      "metadata": {
        "collapsed": false,
        "deletable": true,
        "editable": true
      }
    },
    {
      "cell_type": "code",
      "source": [
        "bad_choice(3), good_choice(3)"
      ],
      "outputs": [],
      "execution_count": 8,
      "metadata": {
        "collapsed": false,
        "deletable": true,
        "editable": true
      }
    },
    {
      "cell_type": "code",
      "source": [
        "bad_choice(4), good_choice(4)"
      ],
      "outputs": [],
      "execution_count": 9,
      "metadata": {
        "collapsed": false,
        "deletable": true,
        "editable": true
      }
    },
    {
      "cell_type": "markdown",
      "source": [
        "Ejecutamos la siguiente celda dos veces:"
      ],
      "metadata": {
        "deletable": true,
        "editable": true
      }
    },
    {
      "cell_type": "code",
      "source": [
        "@time begin\n",
        "    x = bad_choice(1)\n",
        "    for i = 1:100000\n",
        "        x = bad_choice(i)\n",
        "    end\n",
        "    x\n",
        "end"
      ],
      "outputs": [],
      "execution_count": 12,
      "metadata": {
        "collapsed": false,
        "deletable": true,
        "editable": true
      }
    },
    {
      "cell_type": "markdown",
      "source": [
        "Y hacemos lo mismo aquí:"
      ],
      "metadata": {
        "deletable": true,
        "editable": true
      }
    },
    {
      "cell_type": "code",
      "source": [
        "@time begin\n",
        "    x = good_choice(1)\n",
        "    for i = 1:100000\n",
        "        x = good_choice(i)\n",
        "    end\n",
        "    x\n",
        "end"
      ],
      "outputs": [],
      "execution_count": 13,
      "metadata": {
        "collapsed": false,
        "deletable": true,
        "editable": true
      }
    },
    {
      "cell_type": "markdown",
      "source": [
        "Como se muestra en los tiempos y en el uso de memoria, `good_choice` es mejor!"
      ],
      "metadata": {
        "deletable": true,
        "editable": true
      }
    },
    {
      "cell_type": "markdown",
      "source": [
        "Una manera de visualizar si una función es estable bajo el tipo o no, es usando `@code_warntype`:"
      ],
      "metadata": {
        "deletable": true,
        "editable": true
      }
    },
    {
      "cell_type": "code",
      "source": [
        "@code_warntype bad_choice(1)"
      ],
      "outputs": [],
      "execution_count": 14,
      "metadata": {
        "collapsed": false,
        "deletable": true,
        "editable": true
      }
    },
    {
      "cell_type": "markdown",
      "source": [
        "Lo que vale la pena enfatizar es el `Any` asociado a la variable `x` en la función `bad_choice`, y el hecho de que la última línea (y de hecho también antes) señala `Union{Float64,Rational{Int64}}`, lo que significa que el resultado puede ser uno de esos tipos.\n",
        "\nEsinteresante contrastar esto con lo que se obtiene con `good_choice`."
      ],
      "metadata": {
        "deletable": true,
        "editable": true
      }
    },
    {
      "cell_type": "code",
      "source": [
        "@code_warntype good_choice(1)"
      ],
      "outputs": [],
      "execution_count": 16,
      "metadata": {
        "collapsed": false,
        "deletable": true,
        "editable": true
      }
    },
    {
      "cell_type": "markdown",
      "source": [
        "Otra posibilidad de inestabilidad de tipo tiene que ver con *cambios* del tipo de una variable concreta en una función."
      ],
      "metadata": {
        "deletable": true,
        "editable": true
      }
    },
    {
      "cell_type": "code",
      "source": [
        "function bad_sum(n)\n",
        "    suma = 0   # suma es Int64\n",
        "    for i = 1:n\n",
        "        suma += 1/i^2 # ... y ahora cambia a ser un Float64\n",
        "    end\n",
        "    suma\n",
        "end"
      ],
      "outputs": [],
      "execution_count": null,
      "metadata": {
        "collapsed": false,
        "deletable": true,
        "editable": true
      }
    },
    {
      "cell_type": "code",
      "source": [
        "@time bad_sum(1)"
      ],
      "outputs": [],
      "execution_count": null,
      "metadata": {
        "collapsed": false,
        "deletable": true,
        "editable": true
      }
    },
    {
      "cell_type": "code",
      "source": [
        "@time bad_sum(1)"
      ],
      "outputs": [],
      "execution_count": null,
      "metadata": {
        "collapsed": false,
        "deletable": true,
        "editable": true
      }
    },
    {
      "cell_type": "code",
      "source": [
        "@time bad_sum(10000000)"
      ],
      "outputs": [],
      "execution_count": null,
      "metadata": {
        "collapsed": false,
        "deletable": true,
        "editable": true
      }
    },
    {
      "cell_type": "markdown",
      "source": [
        "Lo siguiente es la misma función pero sin cambios de tipo de variables dentro de la función."
      ],
      "metadata": {
        "deletable": true,
        "editable": true
      }
    },
    {
      "cell_type": "code",
      "source": [
        "function good_sum(n)\n",
        "    suma = 0.0 # suma es Float64\n",
        "    for i = 1:n\n",
        "        suma += 1/i^2\n",
        "    end\n",
        "    suma\n",
        "end"
      ],
      "outputs": [],
      "execution_count": null,
      "metadata": {
        "collapsed": false,
        "deletable": true,
        "editable": true
      }
    },
    {
      "cell_type": "code",
      "source": [
        "good_sum(1)"
      ],
      "outputs": [],
      "execution_count": null,
      "metadata": {
        "collapsed": false,
        "deletable": true,
        "editable": true
      }
    },
    {
      "cell_type": "code",
      "source": [
        "@time good_sum(10000000)"
      ],
      "outputs": [],
      "execution_count": null,
      "metadata": {
        "collapsed": false,
        "deletable": true,
        "editable": true
      }
    },
    {
      "cell_type": "markdown",
      "source": [
        "La función que no tiene cambios de estabilidad es más eficiente que la que sí los tiene. Esto se puede apreciar con `code_warntype`, como antes."
      ],
      "metadata": {
        "deletable": true,
        "editable": true
      }
    },
    {
      "cell_type": "code",
      "source": [
        "@code_warntype bad_sum(1)"
      ],
      "outputs": [],
      "execution_count": null,
      "metadata": {
        "collapsed": false,
        "deletable": true,
        "editable": true
      }
    }
  ],
  "metadata": {
    "kernelspec": {
      "name": "julia-0.5",
      "language": "julia",
      "display_name": "Julia 0.5.1-pre"
    },
    "language_info": {
      "file_extension": ".jl",
      "name": "julia",
      "mimetype": "application/julia",
      "version": "0.5.1"
    },
    "kernel_info": {
      "name": "julia-0.5"
    }
  },
  "nbformat": 4,
  "nbformat_minor": 0
}