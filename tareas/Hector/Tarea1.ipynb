{
 "cells": [
  {
   "cell_type": "markdown",
   "metadata": {
    "deletable": true,
    "editable": true
   },
   "source": [
    "# Tarea 1"
   ]
  },
  {
   "cell_type": "markdown",
   "metadata": {
    "deletable": true,
    "editable": true
   },
   "source": [
    "Fecha de envío del PR inicial: **26 de febrero**\n",
    "\n",
    "Fecha de aceptación del PR: **12 de marzo**\n"
   ]
  },
  {
   "cell_type": "markdown",
   "metadata": {
    "deletable": true,
    "editable": true
   },
   "source": [
    "## 1. Raíces de una ecuación de segundo grado\n",
    "\n",
    "Implementen en julia una función que devuelva las raíces de una ecuación de segundo grado general con coeficientes reales. La función debe ser estable según el tipo ([type-stable](http://docs.julialang.org/en/release-0.5/manual/faq/?highlight=type%20stability#what-does-type-stable-mean)), lo que significa que el tipo del resultado sólamente depende del tipo de las entradas. En particular, muestren que su función devuelve raíces consistentes para $a=1$, $b=1$, $c=10^{-17}$.\n",
    "\n",
    "La función debe estar documentada de manera apropiada, lo que significa que, al correr el Jupyter notebook de su tarea, la instrucción\n",
    "```julia\n",
    "? nombre_funcion\n",
    "```\n",
    "debe dar información apropiada.\n",
    "\n",
    "Incluyan cualquier comentario prudente del algoritmo que usan, ya sea en el notebook (usando markdown) o en la propia función incluyendo comentarios.\n"
   ]
  },
  {
   "cell_type": "markdown",
   "metadata": {
    "collapsed": true
   },
   "source": [
    "**Valores de prueba para los casos del discriminante**\n",
    "\n",
    "Si D > 0: a = 2, b = 1, c = -6  Las soluciones son reales.\n",
    "\n",
    "Si D = 0: a = 1, b = 2, c = 1 Existe una única solución real.\n",
    "\n",
    "Si D < 0: a = 1, b = -4, c = 13 Las soluciones son complejas."
   ]
  },
  {
   "cell_type": "markdown",
   "metadata": {},
   "source": [
    "Aplicación de la fórmula general:"
   ]
  },
  {
   "cell_type": "code",
   "execution_count": 1,
   "metadata": {
    "collapsed": false
   },
   "outputs": [
    {
     "data": {
      "text/plain": [
       "f_general"
      ]
     },
     "execution_count": 1,
     "metadata": {},
     "output_type": "execute_result"
    }
   ],
   "source": [
    "doc\"\"\"\n",
    "f_general(a,b,c)\n",
    "\n",
    "Esta función calcula las raices de una ecuación de segundo grado de la forma:\n",
    "\\$ ax²+bx+c=0\\$ implemetando la fórmula general para la primera y segunda raíz:\n",
    "\n",
    "\\$ x_{1} = \\frac{{ - b-{\\rm sign}(b) \\sqrt {b^2 - 4ac} }}{2a} \\$\n",
    "\n",
    "\\$x_2 = \\frac{c}{a\\,x_1}\\$\n",
    "\n",
    "La segunda raíz considera la fórmula de Citardauq:\n",
    "\n",
    "\\$ x_{1,2}=\\frac{2c}{-b\\mp \\sqrt{b^2-4ac}}. \\$\n",
    "\n",
    "para tener una buena preción el el resultado cuando el producto a*c es muy pequeño.\n",
    "\"\"\"\n",
    "\n",
    "function f_general(a,b,c)\n",
    "    \n",
    "    \n",
    "    D=(b^2)-4*a*c  #Cálculo del discriminante\n",
    "    deno=2*a\n",
    "    \n",
    "    if a==0\n",
    "        return println(\"Error, el valor de a debe ser distinto de cero.\")\n",
    "    end\n",
    "   \n",
    "    x1 =x1 =(-b -sign(b)*sqrt(complex(D))) / deno\n",
    "    x2 =c/(a*x1) \n",
    "\n",
    "    return x1,x2\n",
    "    \n",
    "    \n",
    "end"
   ]
  },
  {
   "cell_type": "code",
   "execution_count": 2,
   "metadata": {
    "collapsed": false
   },
   "outputs": [
    {
     "data": {
      "text/plain": [
       "(-9.999999999999999899999999999999991845757594537807386062346272263816299462941115e-01 - 0.000000000000000000000000000000000000000000000000000000000000000000000000000000im,-1.00000000000000008154242405462192613937653727736183700537058902528362239445459e-17 + 0.000000000000000000000000000000000000000000000000000000000000000000000000000000im)"
      ]
     },
     "execution_count": 2,
     "metadata": {},
     "output_type": "execute_result"
    }
   ],
   "source": [
    "x1,x2=f_general(BigFloat(1.0),BigFloat(1.0),BigFloat(1.0*10.0^-17))"
   ]
  },
  {
   "cell_type": "code",
   "execution_count": 3,
   "metadata": {
    "collapsed": false
   },
   "outputs": [
    {
     "data": {
      "text/plain": [
       "-9.999999999999999899999999999999991845757594537807386062346272263816299462941115e-01 - 0.000000000000000000000000000000000000000000000000000000000000000000000000000000im"
      ]
     },
     "execution_count": 3,
     "metadata": {},
     "output_type": "execute_result"
    }
   ],
   "source": [
    "x1"
   ]
  },
  {
   "cell_type": "code",
   "execution_count": 4,
   "metadata": {
    "collapsed": false
   },
   "outputs": [
    {
     "data": {
      "text/plain": [
       "-1.00000000000000008154242405462192613937653727736183700537058902528362239445459e-17 + 0.000000000000000000000000000000000000000000000000000000000000000000000000000000im"
      ]
     },
     "execution_count": 4,
     "metadata": {},
     "output_type": "execute_result"
    }
   ],
   "source": [
    "x2"
   ]
  },
  {
   "cell_type": "code",
   "execution_count": 5,
   "metadata": {
    "collapsed": false
   },
   "outputs": [
    {
     "name": "stdout",
     "output_type": "stream",
     "text": [
      "search:\n",
      "\n"
     ]
    },
    {
     "data": {
      "text/markdown": [
       "f_general(a,b,c)\n",
       "\n",
       "Esta función calcula las raices de una ecuación de segundo grado de la forma: $ ax²+bx+c=0$ implemetando la fórmula general para la primera y segunda raíz:\n",
       "\n",
       "$ x_{1} = \\frac{{ - b-{\\rm sign}(b) \\sqrt {b^2 - 4ac} }}{2a} $\n",
       "\n",
       "$x_2 = \\frac{c}{a\\,x_1}$\n",
       "\n",
       "La segunda raíz considera la fórmula de Citardauq:\n",
       "\n",
       "$ x_{1,2}=\\frac{2c}{-b\\mp \\sqrt{b^2-4ac}}. $\n",
       "\n",
       "para tener una buena preción el el resultado cuando el producto a*c es muy pequeño.\n"
      ],
      "text/plain": [
       "f_general(a,b,c)\n",
       "\n",
       "Esta función calcula las raices de una ecuación de segundo grado de la forma: $ ax²+bx+c=0$ implemetando la fórmula general para la primera y segunda raíz:\n",
       "\n",
       "$ x_{1} = \\frac{{ - b-{\\rm sign}(b) \\sqrt {b^2 - 4ac} }}{2a} $\n",
       "\n",
       "$x_2 = \\frac{c}{a\\,x_1}$\n",
       "\n",
       "La segunda raíz considera la fórmula de Citardauq:\n",
       "\n",
       "$ x_{1,2}=\\frac{2c}{-b\\mp \\sqrt{b^2-4ac}}. $\n",
       "\n",
       "para tener una buena preción el el resultado cuando el producto a*c es muy pequeño.\n"
      ]
     },
     "execution_count": 5,
     "metadata": {},
     "output_type": "execute_result"
    }
   ],
   "source": [
    "?f_general"
   ]
  },
  {
   "cell_type": "markdown",
   "metadata": {},
   "source": [
    "Caso donde sólo hay una solución. Considetramos los valores $a=1$  $b=2$  $c=1$"
   ]
  },
  {
   "cell_type": "code",
   "execution_count": 6,
   "metadata": {
    "collapsed": false
   },
   "outputs": [
    {
     "data": {
      "text/plain": [
       "(-1.0 - 0.0im,-1.0 + 0.0im)"
      ]
     },
     "execution_count": 6,
     "metadata": {},
     "output_type": "execute_result"
    }
   ],
   "source": [
    "f_general(1,2,1)"
   ]
  },
  {
   "cell_type": "markdown",
   "metadata": {},
   "source": [
    "Caso $a=0$"
   ]
  },
  {
   "cell_type": "code",
   "execution_count": 7,
   "metadata": {
    "collapsed": false
   },
   "outputs": [
    {
     "name": "stdout",
     "output_type": "stream",
     "text": [
      "Error, el valor de a debe ser distinto de cero.\n"
     ]
    }
   ],
   "source": [
    "f_general(0,2,1)"
   ]
  },
  {
   "cell_type": "markdown",
   "metadata": {},
   "source": [
    "Caso donde el valor de $ac$ es pequeño"
   ]
  },
  {
   "cell_type": "code",
   "execution_count": 8,
   "metadata": {
    "collapsed": false
   },
   "outputs": [
    {
     "data": {
      "text/plain": [
       "(-9.999999999999999284575759453780805097903834264221476964449648024752098753706698e+16 - 0.000000000000000000000000000000000000000000000000000000000000000000000000000000im,-1.000000000000000071542424054621924608528056184923269188897852826780541430949424e-17 + 0.000000000000000000000000000000000000000000000000000000000000000000000000000000im)"
      ]
     },
     "execution_count": 8,
     "metadata": {},
     "output_type": "execute_result"
    }
   ],
   "source": [
    "f_general(BigFloat(1.0*10.0^-17),BigFloat(1.0),BigFloat(1.0*10.0^-17))"
   ]
  },
  {
   "cell_type": "markdown",
   "metadata": {
    "deletable": true,
    "editable": true
   },
   "source": [
    "## 2. Promedio y varianza\n",
    "\n",
    "(a) Escriban dos funciones (`promedio` y `varianza`) que calculen el promedio y la varianza de un vector de datos. \n",
    "    \n",
    "(b) Comparen su resultado con lo que se obtiene al utilizar `mean` y `var`, que son las funciones nativas de Julia que hacen eso. En particular, consideren el siguiente vector de datos\n",
    "```julia\n",
    "v = 1.0e7 + randn(10^8)\n",
    "```\n",
    "¿Qué hace la función `randn(10^8)`?\n",
    "\n",
    "(c) Implementen el [algoritmo recursivo](https://en.wikipedia.org/wiki/Algorithms_for_calculating_variance#Online_algorithm), ampliamente desconocido, que  calcula el promedio (`promedio_rec`) y la varianza (`varianza_rec`) con una sóla lectura de los datos. Usen sus funciones en el vector anterior y comparen sus resultados con los obtenidos en (a).\n",
    "\n",
    "(d) ¿Cuál de todos los algoritmos es el más rápido? (Pueden usar `@time` o `@elapsed`.) Usen vectores de varias longitudes, que cubran varios órdenes de magnitud."
   ]
  },
  {
   "cell_type": "markdown",
   "metadata": {},
   "source": [
    "**a)**"
   ]
  },
  {
   "cell_type": "markdown",
   "metadata": {},
   "source": [
    "Definimos el vector:"
   ]
  },
  {
   "cell_type": "code",
   "execution_count": 9,
   "metadata": {
    "collapsed": false,
    "scrolled": false
   },
   "outputs": [
    {
     "data": {
      "text/plain": [
       "100000000-element Array{Float64,1}:\n",
       " 1.0e7\n",
       " 1.0e7\n",
       " 1.0e7\n",
       " 1.0e7\n",
       " 1.0e7\n",
       " 1.0e7\n",
       " 1.0e7\n",
       " 1.0e7\n",
       " 1.0e7\n",
       " 1.0e7\n",
       " 1.0e7\n",
       " 1.0e7\n",
       " 1.0e7\n",
       " ⋮    \n",
       " 1.0e7\n",
       " 1.0e7\n",
       " 1.0e7\n",
       " 1.0e7\n",
       " 1.0e7\n",
       " 1.0e7\n",
       " 1.0e7\n",
       " 1.0e7\n",
       " 1.0e7\n",
       " 1.0e7\n",
       " 1.0e7\n",
       " 1.0e7"
      ]
     },
     "execution_count": 9,
     "metadata": {},
     "output_type": "execute_result"
    }
   ],
   "source": [
    "v1= 1.0e7 + randn(10^8)"
   ]
  },
  {
   "cell_type": "markdown",
   "metadata": {},
   "source": [
    "La función randn(10^8) genera un vector con una dimensión de 10⁸ datos aleatorios de una distribución normal "
   ]
  },
  {
   "cell_type": "markdown",
   "metadata": {},
   "source": [
    "**Promedio del vector**"
   ]
  },
  {
   "cell_type": "code",
   "execution_count": 10,
   "metadata": {
    "collapsed": false
   },
   "outputs": [
    {
     "data": {
      "text/plain": [
       "prom_v"
      ]
     },
     "execution_count": 10,
     "metadata": {},
     "output_type": "execute_result"
    }
   ],
   "source": [
    "doc\"\"\"\n",
    "prom_v(v)\n",
    "\n",
    "Esta función calcula el promedio de un vector\n",
    "\\$ \\bar{v}=({v_1, v_2, \\ldots, v_n\\})\\$ implementando la fórmula:\n",
    "\n",
    "\\$\\bar{v} = \\frac{1}{n} \\sum_{i=1}^{n} v_i  \\$\n",
    ".\n",
    "\"\"\"\n",
    "function prom_v(v)\n",
    "    suma=0.0\n",
    "    len=length(v)\n",
    "    for i = 1:len\n",
    "        suma = suma+v[i]#Sumamos cada valor del vector.\n",
    "    end\n",
    "\n",
    "    promedio=suma/len#Dividimos el valor de la suma obtenida \n",
    "    #entre la cantidad de valores del vector.\n",
    "\n",
    "    return promedio\n",
    "end"
   ]
  },
  {
   "cell_type": "code",
   "execution_count": 11,
   "metadata": {
    "collapsed": false
   },
   "outputs": [
    {
     "data": {
      "text/markdown": [
       "prom_v(v)\n",
       "\n",
       "Esta función calcula el promedio de un vector $ \\bar{v}=({v_1, v_2, \\ldots, v_n})$ implementando la fórmula:\n",
       "\n",
       "$\\bar{v} = \\frac{1}{n} \\sum_{i=1}^{n} v_i  $ .\n"
      ],
      "text/plain": [
       "prom_v(v)\n",
       "\n",
       "Esta función calcula el promedio de un vector $ \\bar{v}=({v_1, v_2, \\ldots, v_n})$ implementando la fórmula:\n",
       "\n",
       "$\\bar{v} = \\frac{1}{n} \\sum_{i=1}^{n} v_i  $ .\n"
      ]
     },
     "execution_count": 11,
     "metadata": {},
     "output_type": "execute_result"
    }
   ],
   "source": [
    "?prom_v()"
   ]
  },
  {
   "cell_type": "code",
   "execution_count": 12,
   "metadata": {
    "collapsed": false
   },
   "outputs": [
    {
     "data": {
      "text/plain": [
       "9.999999999952674e6"
      ]
     },
     "execution_count": 12,
     "metadata": {},
     "output_type": "execute_result"
    }
   ],
   "source": [
    "prom_v(v1)"
   ]
  },
  {
   "cell_type": "markdown",
   "metadata": {},
   "source": [
    "**Varianza del vector**"
   ]
  },
  {
   "cell_type": "code",
   "execution_count": 13,
   "metadata": {
    "collapsed": false
   },
   "outputs": [
    {
     "data": {
      "text/plain": [
       "vari"
      ]
     },
     "execution_count": 13,
     "metadata": {},
     "output_type": "execute_result"
    }
   ],
   "source": [
    "doc\"\"\"\n",
    "vari(v)\n",
    "\n",
    "Esta función calcula la varianza de un vector\n",
    "\\$ \\bar{v}=({v_1, v_2, \\ldots, v_n\\})\\$ implementando la fórmula:\n",
    "\n",
    "\\$\\sigma_n^2 = \\frac 1n \\sum_{i=1}^n \\left(V_i - \\overline{V} \\right)^ 2 \\$\n",
    " donde \\$ \\overline{V}\\$ es el promedio del vector\n",
    ".\n",
    "\"\"\"\n",
    "function vari(v)\n",
    " \n",
    "    len=length(v)\n",
    "    varianza=0.0\n",
    "    dif=0.0\n",
    "    sdi=0.0\n",
    "    \n",
    "    promedio = prom_v(v) #Usamos la función del promedio que hicimos.\n",
    "    \n",
    "    for i = 1:len\n",
    "        dif = v[i]-promedio#Diferencia entre el promedio y cada valor del vector.\n",
    "        dif2=dif^2       #Elevamos al cuadrado las diferencias obtenidas. \n",
    "        sdi=sdi+dif2     #Suma de los cuadrados de las diferencias.\n",
    "\n",
    "    end\n",
    "\n",
    "    varianza=1/len*sdi\n",
    "    #Obtenemos la varianza dividiendo la suma de \n",
    "    #los cuadrados de las diferencias entre la cantidad de\n",
    "    #valores en el vector. \n",
    "    \n",
    "    return varianza\n",
    "    \n",
    "end"
   ]
  },
  {
   "cell_type": "code",
   "execution_count": 14,
   "metadata": {
    "collapsed": false
   },
   "outputs": [
    {
     "data": {
      "text/markdown": [
       "vari(v)\n",
       "\n",
       "Esta función calcula la varianza de un vector $ \\bar{v}=({v_1, v_2, \\ldots, v_n})$ implementando la fórmula:\n",
       "\n",
       "$\\sigma_n^2 = \\frac 1n \\sum_{i=1}^n \\left(V_i - \\overline{V} \\right)^ 2 $  donde $ \\overline{V}$ es el promedio del vector .\n"
      ],
      "text/plain": [
       "vari(v)\n",
       "\n",
       "Esta función calcula la varianza de un vector $ \\bar{v}=({v_1, v_2, \\ldots, v_n})$ implementando la fórmula:\n",
       "\n",
       "$\\sigma_n^2 = \\frac 1n \\sum_{i=1}^n \\left(V_i - \\overline{V} \\right)^ 2 $  donde $ \\overline{V}$ es el promedio del vector .\n"
      ]
     },
     "execution_count": 14,
     "metadata": {},
     "output_type": "execute_result"
    }
   ],
   "source": [
    "?vari()"
   ]
  },
  {
   "cell_type": "code",
   "execution_count": 15,
   "metadata": {
    "collapsed": false
   },
   "outputs": [
    {
     "data": {
      "text/plain": [
       "1.0000127120539803"
      ]
     },
     "execution_count": 15,
     "metadata": {},
     "output_type": "execute_result"
    }
   ],
   "source": [
    "vari(v1)"
   ]
  },
  {
   "cell_type": "markdown",
   "metadata": {},
   "source": [
    "**b)**\n",
    "**Comparación con las funciones mean y var**"
   ]
  },
  {
   "cell_type": "code",
   "execution_count": 17,
   "metadata": {
    "collapsed": false
   },
   "outputs": [
    {
     "name": "stdout",
     "output_type": "stream",
     "text": [
      "  0.104358 seconds (5 allocations: 176 bytes)\n"
     ]
    },
    {
     "data": {
      "text/plain": [
       "9.999999999952674e6"
      ]
     },
     "execution_count": 17,
     "metadata": {},
     "output_type": "execute_result"
    }
   ],
   "source": [
    "@time prom_v(v1)"
   ]
  },
  {
   "cell_type": "code",
   "execution_count": 19,
   "metadata": {
    "collapsed": false
   },
   "outputs": [
    {
     "name": "stdout",
     "output_type": "stream",
     "text": [
      "  0.050939 seconds (5 allocations: 176 bytes)\n"
     ]
    },
    {
     "data": {
      "text/plain": [
       "9.999999999955976e6"
      ]
     },
     "execution_count": 19,
     "metadata": {},
     "output_type": "execute_result"
    }
   ],
   "source": [
    "@time mean(v1)"
   ]
  },
  {
   "cell_type": "code",
   "execution_count": 21,
   "metadata": {
    "collapsed": false
   },
   "outputs": [
    {
     "name": "stdout",
     "output_type": "stream",
     "text": [
      "  0.206047 seconds (5 allocations: 176 bytes)\n"
     ]
    },
    {
     "data": {
      "text/plain": [
       "1.0000127120539803"
      ]
     },
     "execution_count": 21,
     "metadata": {},
     "output_type": "execute_result"
    }
   ],
   "source": [
    "@time vari(v1)"
   ]
  },
  {
   "cell_type": "code",
   "execution_count": 23,
   "metadata": {
    "collapsed": false,
    "scrolled": true
   },
   "outputs": [
    {
     "name": "stdout",
     "output_type": "stream",
     "text": [
      "  0.109709 seconds (9 allocations: 320 bytes)\n"
     ]
    },
    {
     "data": {
      "text/plain": [
       "1.0000127220431774"
      ]
     },
     "execution_count": 23,
     "metadata": {},
     "output_type": "execute_result"
    }
   ],
   "source": [
    "@time var(v1)"
   ]
  },
  {
   "cell_type": "markdown",
   "metadata": {},
   "source": [
    "**c)**"
   ]
  },
  {
   "cell_type": "code",
   "execution_count": 24,
   "metadata": {
    "collapsed": false
   },
   "outputs": [
    {
     "data": {
      "text/plain": [
       "varianza_promedio_rec"
      ]
     },
     "execution_count": 24,
     "metadata": {},
     "output_type": "execute_result"
    }
   ],
   "source": [
    "doc\"\"\"\n",
    "varianza_promedio_rec(v)\n",
    "\n",
    "Esta función calcula la varianza y el promedio de un vector\n",
    "\\$ \\bar{v}=({v_1, v_2, \\ldots, v_n\\})\\$ con una sola lectura de datos, aplicando la siguiente secuencia de fórmulas:\n",
    "\n",
    "\\$M_{2,n}\\ = M_{2,n-1} + (v_n - \\bar v_{n-1})(v_n - \\bar v_n)\\$\n",
    "\n",
    "\\$s^2_n = \\frac{M_{2,n}}{n-1}\\$\n",
    "\n",
    "\\$\\sigma^2_n = \\frac{M_{2,n}}{n} \\$\n",
    "\n",
    "donde \\$M_{2,n}\\ =\\sum_{i=1}^n \\left(V_i - \\overline{V} \\right)^ 2\\$.\n",
    "\n",
    "el resultado se muestra de la siguente forma: \\$([varianza],[promedio])\\$\n",
    "\n",
    "\"\"\"\n",
    "\n",
    "function varianza_promedio_rec(v)\n",
    "    \n",
    "    n=0\n",
    "    prom=0.0\n",
    "    M2=0.0\n",
    "    varianza=0.0\n",
    "    \n",
    "    for x=1:length(v)\n",
    "        \n",
    "        n+=1                    #n=n+1  \n",
    "        delta = v[x] - prom\n",
    "        prom += delta/n         #prom = prom + delta/n\n",
    "        delta2 = v[x] - prom\n",
    "        M2 += delta*delta2      # M2 = M2 + (delta*delta2)\n",
    "                    \n",
    "    end\n",
    "       varianza = M2/(n-1) \n",
    "    return  varianza,prom\n",
    "end  "
   ]
  },
  {
   "cell_type": "code",
   "execution_count": 25,
   "metadata": {
    "collapsed": false
   },
   "outputs": [
    {
     "name": "stdout",
     "output_type": "stream",
     "text": [
      "search:\n",
      "\n"
     ]
    },
    {
     "data": {
      "text/markdown": [
       "varianza_promedio_rec(v)\n",
       "\n",
       "Esta función calcula la varianza y el promedio de un vector $ \\bar{v}=({v_1, v_2, \\ldots, v_n})$ con una sola lectura de datos, aplicando la siguiente secuencia de fórmulas:\n",
       "\n",
       "$M_{2,n}\\ = M_{2,n-1} + (v_n - \\bar v_{n-1})(v_n - \\bar v_n)$\n",
       "\n",
       "$s^2_n = \\frac{M_{2,n}}{n-1}$\n",
       "\n",
       "$\\sigma^2_n = \\frac{M_{2,n}}{n} $\n",
       "\n",
       "donde $M_{2,n}\\ =\\sum_{i=1}^n \\left(V_i - \\overline{V} \\right)^ 2$.\n",
       "\n",
       "el resultado se muestra de la siguente forma: $([varianza],[promedio])$\n"
      ],
      "text/plain": [
       "varianza_promedio_rec(v)\n",
       "\n",
       "Esta función calcula la varianza y el promedio de un vector $ \\bar{v}=({v_1, v_2, \\ldots, v_n})$ con una sola lectura de datos, aplicando la siguiente secuencia de fórmulas:\n",
       "\n",
       "$M_{2,n}\\ = M_{2,n-1} + (v_n - \\bar v_{n-1})(v_n - \\bar v_n)$\n",
       "\n",
       "$s^2_n = \\frac{M_{2,n}}{n-1}$\n",
       "\n",
       "$\\sigma^2_n = \\frac{M_{2,n}}{n} $\n",
       "\n",
       "donde $M_{2,n}\\ =\\sum_{i=1}^n \\left(V_i - \\overline{V} \\right)^ 2$.\n",
       "\n",
       "el resultado se muestra de la siguente forma: $([varianza],[promedio])$\n"
      ]
     },
     "execution_count": 25,
     "metadata": {},
     "output_type": "execute_result"
    }
   ],
   "source": [
    "?varianza_promedio_rec"
   ]
  },
  {
   "cell_type": "markdown",
   "metadata": {},
   "source": [
    "**d)**"
   ]
  },
  {
   "cell_type": "code",
   "execution_count": 26,
   "metadata": {
    "collapsed": false
   },
   "outputs": [
    {
     "name": "stdout",
     "output_type": "stream",
     "text": [
      "  0.110777 seconds (5 allocations: 176 bytes)\n"
     ]
    },
    {
     "data": {
      "text/plain": [
       "9.999999999952674e6"
      ]
     },
     "execution_count": 26,
     "metadata": {},
     "output_type": "execute_result"
    }
   ],
   "source": [
    "@time prom_v(v1)"
   ]
  },
  {
   "cell_type": "code",
   "execution_count": 27,
   "metadata": {
    "collapsed": false
   },
   "outputs": [
    {
     "name": "stdout",
     "output_type": "stream",
     "text": [
      "  0.050981 seconds (5 allocations: 176 bytes)\n"
     ]
    },
    {
     "data": {
      "text/plain": [
       "9.999999999955976e6"
      ]
     },
     "execution_count": 27,
     "metadata": {},
     "output_type": "execute_result"
    }
   ],
   "source": [
    "@time mean(v1)"
   ]
  },
  {
   "cell_type": "code",
   "execution_count": 29,
   "metadata": {
    "collapsed": false
   },
   "outputs": [
    {
     "name": "stdout",
     "output_type": "stream",
     "text": [
      "  0.867589 seconds (5 allocations: 192 bytes)\n"
     ]
    },
    {
     "data": {
      "text/plain": [
       "(1.0000127221539794,9.999999999954589e6)"
      ]
     },
     "execution_count": 29,
     "metadata": {},
     "output_type": "execute_result"
    }
   ],
   "source": [
    "@time varianza_promedio_rec(v1)"
   ]
  },
  {
   "cell_type": "code",
   "execution_count": 30,
   "metadata": {
    "collapsed": false
   },
   "outputs": [
    {
     "name": "stdout",
     "output_type": "stream",
     "text": [
      "  0.211969 seconds (5 allocations: 176 bytes)\n"
     ]
    },
    {
     "data": {
      "text/plain": [
       "1.0000127120539803"
      ]
     },
     "execution_count": 30,
     "metadata": {},
     "output_type": "execute_result"
    }
   ],
   "source": [
    "@time vari(v1)"
   ]
  },
  {
   "cell_type": "code",
   "execution_count": 32,
   "metadata": {
    "collapsed": false
   },
   "outputs": [
    {
     "name": "stdout",
     "output_type": "stream",
     "text": [
      "  0.108286 seconds (9 allocations: 320 bytes)\n"
     ]
    },
    {
     "data": {
      "text/plain": [
       "1.0000127220431774"
      ]
     },
     "execution_count": 32,
     "metadata": {},
     "output_type": "execute_result"
    }
   ],
   "source": [
    "@time var(v1)"
   ]
  },
  {
   "cell_type": "markdown",
   "metadata": {
    "deletable": true,
    "editable": true
   },
   "source": [
    "## 3. Método de Simpson para integrar $f(x)$ en un intervalo dado\n",
    "\n",
    "Implementen el método de Simpson para integrar una función arbitraria $f(x)$."
   ]
  },
  {
   "cell_type": "markdown",
   "metadata": {},
   "source": [
    " El método de Simpson a usar es el siguiente:\n",
    " \n",
    " $\\int_{a}^{b} f(x) dx  \\approx  \\frac{h}{3}(f(a)+2[f(a+2h)+f(a+4h)+...+f(a+(2n-2)h)]+4[f(a+h)+f(a+3h)+...+f(a+(2n-1)h)]+f(b))$\n",
    " \n",
    " con $h=\\frac{b-a}{n}$"
   ]
  },
  {
   "cell_type": "markdown",
   "metadata": {},
   "source": [
    "Función del método de Simpson:"
   ]
  },
  {
   "cell_type": "code",
   "execution_count": 33,
   "metadata": {
    "collapsed": false
   },
   "outputs": [
    {
     "data": {
      "text/plain": [
       "m_simpson"
      ]
     },
     "execution_count": 33,
     "metadata": {},
     "output_type": "execute_result"
    }
   ],
   "source": [
    "doc\"\"\"\n",
    "m_simpson(f,a,b,n)\n",
    "\n",
    "Esta función calcula el valor de la integral bajo la curva de una función \\$f(x)\\$ usando la regla de Simpson compuesta, dada por:\n",
    "\n",
    "\\$\\int_{a}^{b} f(x) dx  \\approx \\frac{h}{3}(f(a)+2[f(a+2h)+f(a+4h)+...+f(a+(2n-2)h)]+4[f(a+h)+f(a+3h)+...+f(a+(2n-1)h)]+f(b))\\$\n",
    " \n",
    "donde \\$a\\$ y \\$b\\$ son los extremos del intevalo de integración, \\$n\\$ es el número de divisiones de dicho intervalo y \\$ h=\\frac{b-a}{n}\\$.\n",
    "\"\"\"\n",
    "function m_simpson(f,a,b,n)\n",
    "    suma = 0.0\n",
    "    h = (b-a)/n #Cálculo de h.\n",
    "    suma = suma+(h/3)*(f(a)+f(b))#Suma con f evaluada en los extremos a y b.\n",
    "    for i=1:n\n",
    "        x_i=a+(i*h)#variable a evaluar.\n",
    "        \n",
    "        #Acontinuación se completa la suma anterior con los valores \n",
    "        #de la forma 2*f(a+(2n-2)h) y 4*f(a+(2n-1)h.\n",
    "        \n",
    "        if i%2==0\n",
    "            suma=suma+2*(f(x_i))#valores de la forma 2*f(a+(2n-2)h).\n",
    "            else\n",
    "                suma=suma+4*(f(x_i))#valores de la forma 4*f(a+(2n-1)h).\n",
    "        end\n",
    "        \n",
    "    end\n",
    "    suma=suma*h/3 #Multiplicamos la suma total obtenida por h/3.\n",
    "    return suma \n",
    "end"
   ]
  },
  {
   "cell_type": "code",
   "execution_count": 34,
   "metadata": {
    "collapsed": false,
    "scrolled": true
   },
   "outputs": [
    {
     "data": {
      "text/markdown": [
       "m_simpson(f,a,b,n)\n",
       "\n",
       "Esta función calcula el valor de la integral bajo la curva de una función $f(x)$ usando la regla de Simpson compuesta, dada por:\n",
       "\n",
       "$\\int_{a}^{b} f(x) dx  \\approx \\frac{h}{3}(f(a)+2[f(a+2h)+f(a+4h)+...+f(a+(2n-2)h)]+4[f(a+h)+f(a+3h)+...+f(a+(2n-1)h)]+f(b))$\n",
       "\n",
       "donde $a$ y $b$ son los extremos del intevalo de integración, $n$ es el número de divisiones de dicho intervalo y $ h=\\frac{b-a}{n}$.\n"
      ],
      "text/plain": [
       "m_simpson(f,a,b,n)\n",
       "\n",
       "Esta función calcula el valor de la integral bajo la curva de una función $f(x)$ usando la regla de Simpson compuesta, dada por:\n",
       "\n",
       "$\\int_{a}^{b} f(x) dx  \\approx \\frac{h}{3}(f(a)+2[f(a+2h)+f(a+4h)+...+f(a+(2n-2)h)]+4[f(a+h)+f(a+3h)+...+f(a+(2n-1)h)]+f(b))$\n",
       "\n",
       "donde $a$ y $b$ son los extremos del intevalo de integración, $n$ es el número de divisiones de dicho intervalo y $ h=\\frac{b-a}{n}$.\n"
      ]
     },
     "execution_count": 34,
     "metadata": {},
     "output_type": "execute_result"
    }
   ],
   "source": [
    "?m_simpson()"
   ]
  },
  {
   "cell_type": "markdown",
   "metadata": {},
   "source": [
    "Función a integrar:"
   ]
  },
  {
   "cell_type": "code",
   "execution_count": 35,
   "metadata": {
    "collapsed": false
   },
   "outputs": [
    {
     "data": {
      "text/plain": [
       "f (generic function with 1 method)"
      ]
     },
     "execution_count": 35,
     "metadata": {},
     "output_type": "execute_result"
    }
   ],
   "source": [
    "function f(x)\n",
    "     return 3*x^2\n",
    "end"
   ]
  },
  {
   "cell_type": "code",
   "execution_count": 36,
   "metadata": {
    "collapsed": false
   },
   "outputs": [
    {
     "data": {
      "text/plain": [
       "27.027027000000018"
      ]
     },
     "execution_count": 36,
     "metadata": {},
     "output_type": "execute_result"
    }
   ],
   "source": [
    "m_simpson(f,0,3,1000)"
   ]
  },
  {
   "cell_type": "code",
   "execution_count": null,
   "metadata": {
    "collapsed": true
   },
   "outputs": [],
   "source": []
  }
 ],
 "metadata": {
  "kernelspec": {
   "display_name": "Julia 0.5.0",
   "language": "julia",
   "name": "julia-0.5"
  },
  "language_info": {
   "file_extension": ".jl",
   "mimetype": "application/julia",
   "name": "julia",
   "version": "0.5.0"
  }
 },
 "nbformat": 4,
 "nbformat_minor": 2
}
