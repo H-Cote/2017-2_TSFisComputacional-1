{
 "cells": [
  {
   "cell_type": "markdown",
   "metadata": {
    "deletable": true,
    "editable": true
   },
   "source": [
    "# Tarea 1"
   ]
  },
  {
   "cell_type": "markdown",
   "metadata": {
    "deletable": true,
    "editable": true
   },
   "source": [
    "Fecha de envío del PR inicial: **26 de febrero**\n",
    "\n",
    "Fecha de aceptación del PR: **12 de marzo**\n"
   ]
  },
  {
   "cell_type": "markdown",
   "metadata": {
    "deletable": true,
    "editable": true
   },
   "source": [
    "## 1. Raíces de una ecuación de segundo grado\n",
    "\n",
    "Implementen en julia una función que devuelva las raíces de una ecuación de segundo grado general con coeficientes reales. La función debe ser estable según el tipo ([type-stable](http://docs.julialang.org/en/release-0.5/manual/faq/?highlight=type%20stability#what-does-type-stable-mean)), lo que significa que el tipo del resultado sólamente depende del tipo de las entradas. En particular, muestren que su función devuelve raíces consistentes para $a=1$, $b=1$, $c=10^{-17}$.\n",
    "\n",
    "La función debe estar documentada de manera apropiada, lo que significa que, al correr el Jupyter notebook de su tarea, la instrucción\n",
    "```julia\n",
    "? nombre_funcion\n",
    "```\n",
    "debe dar información apropiada.\n",
    "\n",
    "Incluyan cualquier comentario prudente del algoritmo que usan, ya sea en el notebook (usando markdown) o en la propia función incluyendo comentarios.\n"
   ]
  },
  {
   "cell_type": "markdown",
   "metadata": {
    "collapsed": true
   },
   "source": [
    "**Valores de prueba para los casos del discriminante**\n",
    "\n",
    "Si D > 0: a = 2, b = 1, c = -6  Las soluciones son reales.\n",
    "\n",
    "Si D = 0: a = 1, b = 2, c = 1 Existe una única solución real.\n",
    "\n",
    "Si D < 0: a = 1, b = -4, c = 13 Las soluciones son complejas."
   ]
  },
  {
   "cell_type": "markdown",
   "metadata": {},
   "source": [
    "Aplicación de la fórmula general:"
   ]
  },
  {
   "cell_type": "code",
   "execution_count": 1,
   "metadata": {
    "collapsed": false
   },
   "outputs": [
    {
     "data": {
      "text/plain": [
       "h"
      ]
     },
     "execution_count": 1,
     "metadata": {},
     "output_type": "execute_result"
    }
   ],
   "source": [
    "doc\"\"\"\n",
    "    h(a,b,c)\n",
    "\n",
    "Esta función calcula las raices de una ecuación de segundo grado de la forma:\n",
    "\\$ ax²+bx+c=0\\$ implementando la fórmula:\n",
    "\n",
    "\\$ x_{1,2} = \\frac{{ - b \\pm \\sqrt {b^2 - 4ac} }}{2a} \\$\n",
    ".\n",
    "\"\"\"\n",
    "function h(a,b,c)\n",
    "    \n",
    "    D=(b^2)-4*a*c#Cálculo del discriminante\n",
    "    \n",
    "    if D >= 0\n",
    "        x1 = (-b + sqrt(complex(b^2 - 4*a*c))) / (2 * a)\n",
    "        x2 = (-b - sqrt(complex(b^2 - 4*a*c))) / (2 * a)\n",
    "        println( \"Las soluciones son reales: x1= $x1 y x2= $x2\")\n",
    "    end   \n",
    "\n",
    "    if D == 0\n",
    "        x1 = (-b + sqrt(complex(b^2 - 4*a*c))) / (2 * a)\n",
    "        println( \"La solución es única: x1= $x1\")\n",
    "    end   \n",
    "\n",
    "    if D < 0\n",
    "        x1 = (-b + sqrt(complex(b^2 - 4*a*c))) / (2 * a)\n",
    "        x2 = (-b - sqrt(complex(b^2 - 4*a*c)))/ (2 * a)  \n",
    "        println( \"Las soluciones son complejas: x1= $x1 y x2= $x2\")    \n",
    "    end\n",
    "end"
   ]
  },
  {
   "cell_type": "code",
   "execution_count": 2,
   "metadata": {
    "collapsed": false
   },
   "outputs": [
    {
     "name": "stdout",
     "output_type": "stream",
     "text": [
      "Las soluciones son reales: x1= 0.0 + 0.0im y x2= -1.0 - 0.0im\n"
     ]
    }
   ],
   "source": [
    "h(1.0,1.0,1.0*10.0^-17)"
   ]
  },
  {
   "cell_type": "code",
   "execution_count": 3,
   "metadata": {
    "collapsed": false
   },
   "outputs": [
    {
     "name": "stdout",
     "output_type": "stream",
     "text": [
      "search: \u001b[1mh\u001b[22mex \u001b[1mh\u001b[22mton \u001b[1mh\u001b[22mtol \u001b[1mh\u001b[22mist \u001b[1mh\u001b[22mcat \u001b[1mh\u001b[22mash \u001b[1mh\u001b[22mypot \u001b[1mh\u001b[22mvcat \u001b[1mh\u001b[22mist! \u001b[1mH\u001b[22mTML \u001b[1mh\u001b[22mist2d \u001b[1mh\u001b[22maskey\n",
      "\n"
     ]
    },
    {
     "data": {
      "text/markdown": [
       "```\n",
       "h(a,b,c)\n",
       "```\n",
       "\n",
       "Esta función calcula las raices de una ecuación de segundo grado de la forma: $ ax²+bx+c=0$ implementando la fórmula:\n",
       "\n",
       "$ x_{1,2} = \\frac{{ - b \\pm \\sqrt {b^2 - 4ac} }}{2a} $ .\n"
      ],
      "text/plain": [
       "```\n",
       "h(a,b,c)\n",
       "```\n",
       "\n",
       "Esta función calcula las raices de una ecuación de segundo grado de la forma: $ ax²+bx+c=0$ implementando la fórmula:\n",
       "\n",
       "$ x_{1,2} = \\frac{{ - b \\pm \\sqrt {b^2 - 4ac} }}{2a} $ .\n"
      ]
     },
     "execution_count": 3,
     "metadata": {},
     "output_type": "execute_result"
    }
   ],
   "source": [
    "?h"
   ]
  },
  {
   "cell_type": "markdown",
   "metadata": {
    "deletable": true,
    "editable": true
   },
   "source": [
    "## 2. Promedio y varianza\n",
    "\n",
    "(a) Escriban dos funciones (`promedio` y `varianza`) que calculen el promedio y la varianza de un vector de datos. \n",
    "    \n",
    "(b) Comparen su resultado con lo que se obtiene al utilizar `mean` y `var`, que son las funciones nativas de Julia que hacen eso. En particular, consideren el siguiente vector de datos\n",
    "```julia\n",
    "v = 1.0e7 + randn(10^8)\n",
    "```\n",
    "¿Qué hace la función `randn(10^8)`?\n",
    "\n",
    "(c) Implementen el [algoritmo recursivo](https://en.wikipedia.org/wiki/Algorithms_for_calculating_variance#Online_algorithm), ampliamente desconocido, que  calcula el promedio (`promedio_rec`) y la varianza (`varianza_rec`) con una sóla lectura de los datos. Usen sus funciones en el vector anterior y comparen sus resultados con los obtenidos en (a).\n",
    "\n",
    "(d) ¿Cuál de todos los algoritmos es el más rápido? (Pueden usar `@time` o `@elapsed`.) Usen vectores de varias longitudes, que cubran varios órdenes de magnitud."
   ]
  },
  {
   "cell_type": "markdown",
   "metadata": {},
   "source": [
    "**a)**"
   ]
  },
  {
   "cell_type": "markdown",
   "metadata": {},
   "source": [
    "Definimos el vector:"
   ]
  },
  {
   "cell_type": "code",
   "execution_count": 4,
   "metadata": {
    "collapsed": false,
    "scrolled": true
   },
   "outputs": [
    {
     "data": {
      "text/plain": [
       "100000000-element Array{Float64,1}:\n",
       " 1.0e7\n",
       " 1.0e7\n",
       " 1.0e7\n",
       " 1.0e7\n",
       " 1.0e7\n",
       " 1.0e7\n",
       " 1.0e7\n",
       " 1.0e7\n",
       " 1.0e7\n",
       " 1.0e7\n",
       " 1.0e7\n",
       " 1.0e7\n",
       " 1.0e7\n",
       " ⋮    \n",
       " 1.0e7\n",
       " 1.0e7\n",
       " 1.0e7\n",
       " 1.0e7\n",
       " 1.0e7\n",
       " 1.0e7\n",
       " 1.0e7\n",
       " 1.0e7\n",
       " 1.0e7\n",
       " 1.0e7\n",
       " 1.0e7\n",
       " 1.0e7"
      ]
     },
     "execution_count": 4,
     "metadata": {},
     "output_type": "execute_result"
    }
   ],
   "source": [
    "v1= 1.0e7 + randn(10^8)"
   ]
  },
  {
   "cell_type": "markdown",
   "metadata": {},
   "source": [
    "**Promedio del vector**"
   ]
  },
  {
   "cell_type": "code",
   "execution_count": 5,
   "metadata": {
    "collapsed": false
   },
   "outputs": [
    {
     "data": {
      "text/plain": [
       "pv (generic function with 1 method)"
      ]
     },
     "execution_count": 5,
     "metadata": {},
     "output_type": "execute_result"
    }
   ],
   "source": [
    "function pv(v)\n",
    "    \n",
    "    suma=0.0\n",
    "\n",
    "    for i = 1:length(v)\n",
    "        suma = suma+v[i]#Sumamos cada valor del vector.\n",
    "    end\n",
    "\n",
    "    promedio=suma/length(v)#Dividimos el valor de la suma obtenida \n",
    "    #entre la cantidad de valores del vector.\n",
    "\n",
    "    println(promedio)\n",
    "end"
   ]
  },
  {
   "cell_type": "code",
   "execution_count": 6,
   "metadata": {
    "collapsed": false
   },
   "outputs": [
    {
     "name": "stdout",
     "output_type": "stream",
     "text": [
      "9.999999999814272e6\n"
     ]
    }
   ],
   "source": [
    "pv(v1)"
   ]
  },
  {
   "cell_type": "markdown",
   "metadata": {},
   "source": [
    "**Varianza del vector**"
   ]
  },
  {
   "cell_type": "code",
   "execution_count": 7,
   "metadata": {
    "collapsed": false
   },
   "outputs": [
    {
     "data": {
      "text/plain": [
       "vari (generic function with 1 method)"
      ]
     },
     "execution_count": 7,
     "metadata": {},
     "output_type": "execute_result"
    }
   ],
   "source": [
    "function vari(v)\n",
    "    #Calculamos el promedio.\n",
    "    \n",
    "    s=0.0\n",
    "    for i = 1:length(v)\n",
    "        s = s+v[i]#Sumamos cada valor del vector.\n",
    "    end\n",
    "    promedio=s/length(v)#Dividimos el valor de la suma obtenida \n",
    "    #entre la cantidad de valores del vector.\n",
    "    \n",
    "    \n",
    "\n",
    "    dif=0.0\n",
    "    sdi=0.0\n",
    "    for i = 1:length(v)\n",
    "        dif = v[i]-promedio#Diferencia entre el promedio y cada valor del vector.\n",
    "        dif2=dif^2#Elevamos al cuadrado las diferencias obtenidas. \n",
    "        sdi=sdi+dif2#Suma de los cuadrados de las diferencias.\n",
    "\n",
    "    end\n",
    "\n",
    "    varianza=1/length(v)*sdi\n",
    "    #Obtenemos la varianza dividiendo la suma de \n",
    "    #los cuadrados de las diferencias entre la cantidad de\n",
    "    #valores en el vector. \n",
    "\n",
    "    println(varianza)\n",
    "end"
   ]
  },
  {
   "cell_type": "code",
   "execution_count": 8,
   "metadata": {
    "collapsed": false
   },
   "outputs": [
    {
     "name": "stdout",
     "output_type": "stream",
     "text": [
      "0.9994860141679069\n"
     ]
    }
   ],
   "source": [
    "vari(v1)"
   ]
  },
  {
   "cell_type": "markdown",
   "metadata": {},
   "source": [
    "**b)**\n",
    "**Comparación con las funciones mean y var**"
   ]
  },
  {
   "cell_type": "code",
   "execution_count": 9,
   "metadata": {
    "collapsed": false
   },
   "outputs": [
    {
     "name": "stdout",
     "output_type": "stream",
     "text": [
      "9.999999999814272e6\n"
     ]
    }
   ],
   "source": [
    "pv(v1)"
   ]
  },
  {
   "cell_type": "code",
   "execution_count": 10,
   "metadata": {
    "collapsed": false
   },
   "outputs": [
    {
     "data": {
      "text/plain": [
       "9.99999999981252e6"
      ]
     },
     "execution_count": 10,
     "metadata": {},
     "output_type": "execute_result"
    }
   ],
   "source": [
    "mean(v1)"
   ]
  },
  {
   "cell_type": "code",
   "execution_count": 11,
   "metadata": {
    "collapsed": false
   },
   "outputs": [
    {
     "name": "stdout",
     "output_type": "stream",
     "text": [
      "0.9994860141679069\n"
     ]
    }
   ],
   "source": [
    "vari(v1)"
   ]
  },
  {
   "cell_type": "code",
   "execution_count": 12,
   "metadata": {
    "collapsed": false,
    "scrolled": true
   },
   "outputs": [
    {
     "data": {
      "text/plain": [
       "0.9994860241595336"
      ]
     },
     "execution_count": 12,
     "metadata": {},
     "output_type": "execute_result"
    }
   ],
   "source": [
    "var(v1)"
   ]
  },
  {
   "cell_type": "markdown",
   "metadata": {},
   "source": [
    "**c)**"
   ]
  },
  {
   "cell_type": "code",
   "execution_count": 13,
   "metadata": {
    "collapsed": false
   },
   "outputs": [
    {
     "data": {
      "text/plain": [
       "varianza_rec (generic function with 1 method)"
      ]
     },
     "execution_count": 13,
     "metadata": {},
     "output_type": "execute_result"
    }
   ],
   "source": [
    "function varianza_rec(v)\n",
    "    n=0\n",
    "    prom=0.0\n",
    "    M2=0.0\n",
    "    \n",
    "    for x=1:length(v)\n",
    "        \n",
    "        n+=1                    #n=n+1  \n",
    "        delta = v[x] - prom\n",
    "        prom += delta/n         #prom = prom + delta/n\n",
    "        delta2 = v[x] - prom\n",
    "        M2 += delta*delta2      # M2 = M2 + (delta*delta2)\n",
    "        \n",
    "        varianza = M2/(n-1)\n",
    "        return varianza\n",
    "        #if n < 2\n",
    "        #     return float(\"nan\")\n",
    "        #else\n",
    "             #return M2 / (n - 1)\n",
    "        #end\n",
    "        \n",
    "    end\n",
    "end    "
   ]
  },
  {
   "cell_type": "code",
   "execution_count": 14,
   "metadata": {
    "collapsed": false
   },
   "outputs": [
    {
     "data": {
      "text/plain": [
       "NaN"
      ]
     },
     "execution_count": 14,
     "metadata": {},
     "output_type": "execute_result"
    }
   ],
   "source": [
    "varianza_rec(v1)"
   ]
  },
  {
   "cell_type": "markdown",
   "metadata": {},
   "source": [
    "**d)**"
   ]
  },
  {
   "cell_type": "markdown",
   "metadata": {
    "deletable": true,
    "editable": true
   },
   "source": [
    "## 3. Método de Simpson para integrar $f(x)$ en un intervalo dado\n",
    "\n",
    "Implementen el método de Simpson para integrar una función arbitraria $f(x)$."
   ]
  },
  {
   "cell_type": "markdown",
   "metadata": {},
   "source": [
    " El método de Simpson a usar es el siguiente:\n",
    " \n",
    " $\\int_{a}^{b} f(x) dx=\\frac{h}{3}(f(a)+2[f(a+2h)+f(a+4h)+...+f(a+(2n-2)h)]+4[f(a+h)+f(a+3h)+...+f(a+(2n-1)h)]+f(b))$\n",
    " \n",
    " con $h=\\frac{b-a}{n}$"
   ]
  },
  {
   "cell_type": "markdown",
   "metadata": {},
   "source": [
    "Función del método de Simpson:"
   ]
  },
  {
   "cell_type": "code",
   "execution_count": 15,
   "metadata": {
    "collapsed": false
   },
   "outputs": [
    {
     "data": {
      "text/plain": [
       "sim (generic function with 1 method)"
      ]
     },
     "execution_count": 15,
     "metadata": {},
     "output_type": "execute_result"
    }
   ],
   "source": [
    "function sim(f,a,b,n)\n",
    "    suma = 0.0\n",
    "    h = (b-a)/n #Cálculo de h.\n",
    "    suma = suma+(h/3)*(f(a)+f(b))#Suma con f evaluada en los extremos a y b.\n",
    "    for i=1:n\n",
    "        x_i=a+(i*h)#variable a evaluar.\n",
    "        \n",
    "        #Acontinuación se completa la suma anterior con los valores \n",
    "        #de la forma 2*f(a+(2n-2)h) y 4*f(a+(2n-1)h.\n",
    "        \n",
    "        if i%2==0\n",
    "            suma=suma+2*(f(x_i))#valores de la forma 2*f(a+(2n-2)h).\n",
    "            else\n",
    "                suma=suma+4*(f(x_i))#valores de la forma 4*f(a+(2n-1)h).\n",
    "        end\n",
    "        \n",
    "    end\n",
    "    suma=suma*h/3 #Multiplicamos la suma total obtenida por h/3.\n",
    "    println(suma)     \n",
    "end"
   ]
  },
  {
   "cell_type": "markdown",
   "metadata": {},
   "source": [
    "Función a integrar:"
   ]
  },
  {
   "cell_type": "code",
   "execution_count": 16,
   "metadata": {
    "collapsed": false
   },
   "outputs": [
    {
     "data": {
      "text/plain": [
       "f (generic function with 1 method)"
      ]
     },
     "execution_count": 16,
     "metadata": {},
     "output_type": "execute_result"
    }
   ],
   "source": [
    "function f(x)\n",
    "     return 3*x^2\n",
    "end"
   ]
  },
  {
   "cell_type": "code",
   "execution_count": 17,
   "metadata": {
    "collapsed": false
   },
   "outputs": [
    {
     "name": "stdout",
     "output_type": "stream",
     "text": [
      "26.833333333333332\n"
     ]
    }
   ],
   "source": [
    "sim(f,1,3,20)"
   ]
  },
  {
   "cell_type": "code",
   "execution_count": null,
   "metadata": {
    "collapsed": true
   },
   "outputs": [],
   "source": []
  }
 ],
 "metadata": {
  "kernelspec": {
   "display_name": "Julia 0.5.0",
   "language": "julia",
   "name": "julia-0.5"
  },
  "language_info": {
   "file_extension": ".jl",
   "mimetype": "application/julia",
   "name": "julia",
   "version": "0.5.0"
  }
 },
 "nbformat": 4,
 "nbformat_minor": 2
}
