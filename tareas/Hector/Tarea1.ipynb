{
 "cells": [
  {
   "cell_type": "markdown",
   "metadata": {
    "deletable": true,
    "editable": true
   },
   "source": [
    "# Tarea 1"
   ]
  },
  {
   "cell_type": "markdown",
   "metadata": {
    "deletable": true,
    "editable": true
   },
   "source": [
    "Fecha de envío del PR inicial: **26 de febrero**\n",
    "\n",
    "Fecha de aceptación del PR: **12 de marzo**\n"
   ]
  },
  {
   "cell_type": "markdown",
   "metadata": {
    "deletable": true,
    "editable": true
   },
   "source": [
    "## 1. Raíces de una ecuación de segundo grado\n",
    "\n",
    "Implementen en julia una función que devuelva las raíces de una ecuación de segundo grado general con coeficientes reales. La función debe ser estable según el tipo ([type-stable](http://docs.julialang.org/en/release-0.5/manual/faq/?highlight=type%20stability#what-does-type-stable-mean)), lo que significa que el tipo del resultado sólamente depende del tipo de las entradas. En particular, muestren que su función devuelve raíces consistentes para $a=1$, $b=1$, $c=10^{-17}$.\n",
    "\n",
    "La función debe estar documentada de manera apropiada, lo que significa que, al correr el Jupyter notebook de su tarea, la instrucción\n",
    "```julia\n",
    "? nombre_funcion\n",
    "```\n",
    "debe dar información apropiada.\n",
    "\n",
    "Incluyan cualquier comentario prudente del algoritmo que usan, ya sea en el notebook (usando markdown) o en la propia función incluyendo comentarios.\n"
   ]
  },
  {
   "cell_type": "markdown",
   "metadata": {
    "collapsed": true
   },
   "source": [
    "**Valores de prueba para los casos del discriminante**\n",
    "\n",
    "Si D > 0: a = 2, b = 1, c = -6  Las soluciones son reales.\n",
    "\n",
    "Si D = 0: a = 1, b = 2, c = 1 Existe una única solución real.\n",
    "\n",
    "Si D < 0: a = 1, b = -4, c = 13 Las soluciones son complejas."
   ]
  },
  {
   "cell_type": "markdown",
   "metadata": {},
   "source": [
    "Aplicación de la fórmula general:"
   ]
  },
  {
   "cell_type": "code",
   "execution_count": 1,
   "metadata": {
    "collapsed": false
   },
   "outputs": [
    {
     "data": {
      "text/plain": [
       "f_general"
      ]
     },
     "execution_count": 1,
     "metadata": {},
     "output_type": "execute_result"
    }
   ],
   "source": [
    "doc\"\"\"\n",
    "f_general(a,b,c)\n",
    "\n",
    "Esta función calcula las raices de una ecuación de segundo grado de la forma:\n",
    "\\$ ax²+bx+c=0\\$ implementando la fórmula:\n",
    "\n",
    "\\$ x_{1,2} = \\frac{{ - b \\pm \\sqrt {b^2 - 4ac} }}{2a} \\$\n",
    ".\n",
    "\"\"\"\n",
    "\n",
    "function f_general(a,b,c)\n",
    "    \n",
    "    D=(b^2)-4*a*c  #Cálculo del discriminante\n",
    "    deno=2*a       #denominador: 2*a\n",
    "    \n",
    "    if D >= 0\n",
    "        x1 =(-b + sqrt(complex(D))) / deno\n",
    "        x2 =(-b - sqrt(complex(D))) / deno\n",
    "       \n",
    "    end   \n",
    "\n",
    "    if D == 0\n",
    "        x1 = (-b + sqrt(complex(D))) / deno\n",
    "       \n",
    "    end   \n",
    "\n",
    "    if D < 0\n",
    "        x1 =(-b + sqrt(complex(D))) / deno\n",
    "        x2 =(-b - sqrt(complex(D)))/ deno\n",
    "        \n",
    "    end\n",
    "    \n",
    "    return x1,x2\n",
    "    \n",
    "    \n",
    "end"
   ]
  },
  {
   "cell_type": "code",
   "execution_count": 2,
   "metadata": {
    "collapsed": false
   },
   "outputs": [
    {
     "data": {
      "text/plain": [
       "(-1.000000000000000081542424054621926139376537277361837005370588849638847781510787e-17 + 0.000000000000000000000000000000000000000000000000000000000000000000000000000000im,-9.999999999999999899999999999999991845757594537807386062346272263816299462941115e-01 - 0.000000000000000000000000000000000000000000000000000000000000000000000000000000im)"
      ]
     },
     "execution_count": 2,
     "metadata": {},
     "output_type": "execute_result"
    }
   ],
   "source": [
    "x1,x2=f_general(BigFloat(1.0),BigFloat(1.0),BigFloat(1.0*10.0^-17))"
   ]
  },
  {
   "cell_type": "code",
   "execution_count": 3,
   "metadata": {
    "collapsed": false
   },
   "outputs": [
    {
     "data": {
      "text/plain": [
       "-1.000000000000000081542424054621926139376537277361837005370588849638847781510787e-17 + 0.000000000000000000000000000000000000000000000000000000000000000000000000000000im"
      ]
     },
     "execution_count": 3,
     "metadata": {},
     "output_type": "execute_result"
    }
   ],
   "source": [
    "x1"
   ]
  },
  {
   "cell_type": "code",
   "execution_count": 4,
   "metadata": {
    "collapsed": false
   },
   "outputs": [
    {
     "data": {
      "text/plain": [
       "-9.999999999999999899999999999999991845757594537807386062346272263816299462941115e-01 - 0.000000000000000000000000000000000000000000000000000000000000000000000000000000im"
      ]
     },
     "execution_count": 4,
     "metadata": {},
     "output_type": "execute_result"
    }
   ],
   "source": [
    "x2"
   ]
  },
  {
   "cell_type": "code",
   "execution_count": 5,
   "metadata": {
    "collapsed": false
   },
   "outputs": [
    {
     "name": "stdout",
     "output_type": "stream",
     "text": [
      "search:\n",
      "\n"
     ]
    },
    {
     "data": {
      "text/markdown": [
       "f_general(a,b,c)\n",
       "\n",
       "Esta función calcula las raices de una ecuación de segundo grado de la forma: $ ax²+bx+c=0$ implementando la fórmula:\n",
       "\n",
       "$ x_{1,2} = \\frac{{ - b \\pm \\sqrt {b^2 - 4ac} }}{2a} $ .\n"
      ],
      "text/plain": [
       "f_general(a,b,c)\n",
       "\n",
       "Esta función calcula las raices de una ecuación de segundo grado de la forma: $ ax²+bx+c=0$ implementando la fórmula:\n",
       "\n",
       "$ x_{1,2} = \\frac{{ - b \\pm \\sqrt {b^2 - 4ac} }}{2a} $ .\n"
      ]
     },
     "execution_count": 5,
     "metadata": {},
     "output_type": "execute_result"
    }
   ],
   "source": [
    "?f_general"
   ]
  },
  {
   "cell_type": "markdown",
   "metadata": {
    "deletable": true,
    "editable": true
   },
   "source": [
    "## 2. Promedio y varianza\n",
    "\n",
    "(a) Escriban dos funciones (`promedio` y `varianza`) que calculen el promedio y la varianza de un vector de datos. \n",
    "    \n",
    "(b) Comparen su resultado con lo que se obtiene al utilizar `mean` y `var`, que son las funciones nativas de Julia que hacen eso. En particular, consideren el siguiente vector de datos\n",
    "```julia\n",
    "v = 1.0e7 + randn(10^8)\n",
    "```\n",
    "¿Qué hace la función `randn(10^8)`?\n",
    "\n",
    "(c) Implementen el [algoritmo recursivo](https://en.wikipedia.org/wiki/Algorithms_for_calculating_variance#Online_algorithm), ampliamente desconocido, que  calcula el promedio (`promedio_rec`) y la varianza (`varianza_rec`) con una sóla lectura de los datos. Usen sus funciones en el vector anterior y comparen sus resultados con los obtenidos en (a).\n",
    "\n",
    "(d) ¿Cuál de todos los algoritmos es el más rápido? (Pueden usar `@time` o `@elapsed`.) Usen vectores de varias longitudes, que cubran varios órdenes de magnitud."
   ]
  },
  {
   "cell_type": "markdown",
   "metadata": {},
   "source": [
    "**a)**"
   ]
  },
  {
   "cell_type": "markdown",
   "metadata": {},
   "source": [
    "Definimos el vector:"
   ]
  },
  {
   "cell_type": "code",
   "execution_count": 6,
   "metadata": {
    "collapsed": false,
    "scrolled": false
   },
   "outputs": [
    {
     "data": {
      "text/plain": [
       "100000000-element Array{Float64,1}:\n",
       " 1.0e7\n",
       " 1.0e7\n",
       " 1.0e7\n",
       " 1.0e7\n",
       " 1.0e7\n",
       " 1.0e7\n",
       " 1.0e7\n",
       " 1.0e7\n",
       " 1.0e7\n",
       " 1.0e7\n",
       " 1.0e7\n",
       " 1.0e7\n",
       " 1.0e7\n",
       " ⋮    \n",
       " 1.0e7\n",
       " 1.0e7\n",
       " 1.0e7\n",
       " 1.0e7\n",
       " 1.0e7\n",
       " 1.0e7\n",
       " 1.0e7\n",
       " 1.0e7\n",
       " 1.0e7\n",
       " 1.0e7\n",
       " 1.0e7\n",
       " 1.0e7"
      ]
     },
     "execution_count": 6,
     "metadata": {},
     "output_type": "execute_result"
    }
   ],
   "source": [
    "v1= 1.0e7 + randn(10^8)"
   ]
  },
  {
   "cell_type": "markdown",
   "metadata": {},
   "source": [
    "La función randn(10^8) genera un vector de dimensión de 10⁸ datos aleatorios de una distribución normal "
   ]
  },
  {
   "cell_type": "markdown",
   "metadata": {},
   "source": [
    "**Promedio del vector**"
   ]
  },
  {
   "cell_type": "code",
   "execution_count": 7,
   "metadata": {
    "collapsed": false
   },
   "outputs": [
    {
     "data": {
      "text/plain": [
       "prom_v (generic function with 1 method)"
      ]
     },
     "execution_count": 7,
     "metadata": {},
     "output_type": "execute_result"
    }
   ],
   "source": [
    "function prom_v(v)\n",
    "    suma=0.0\n",
    "    len=length(v)\n",
    "    for i = 1:len\n",
    "        suma = suma+v[i]#Sumamos cada valor del vector.\n",
    "    end\n",
    "\n",
    "    promedio=suma/len#Dividimos el valor de la suma obtenida \n",
    "    #entre la cantidad de valores del vector.\n",
    "\n",
    "    return promedio\n",
    "end"
   ]
  },
  {
   "cell_type": "code",
   "execution_count": 8,
   "metadata": {
    "collapsed": false
   },
   "outputs": [
    {
     "data": {
      "text/plain": [
       "1.0000000000103012e7"
      ]
     },
     "execution_count": 8,
     "metadata": {},
     "output_type": "execute_result"
    }
   ],
   "source": [
    "prom_v(v1)"
   ]
  },
  {
   "cell_type": "markdown",
   "metadata": {},
   "source": [
    "**Varianza del vector**"
   ]
  },
  {
   "cell_type": "code",
   "execution_count": 9,
   "metadata": {
    "collapsed": false
   },
   "outputs": [
    {
     "data": {
      "text/plain": [
       "vari (generic function with 1 method)"
      ]
     },
     "execution_count": 9,
     "metadata": {},
     "output_type": "execute_result"
    }
   ],
   "source": [
    "function vari(v)\n",
    " \n",
    "    len=length(v)\n",
    "    varianza=0.0\n",
    "    dif=0.0\n",
    "    sdi=0.0\n",
    "    \n",
    "    promedio = prom_v(v) #Usamos la función del promedio que hicimos.\n",
    "    \n",
    "    for i = 1:len\n",
    "        dif = v[i]-promedio#Diferencia entre el promedio y cada valor del vector.\n",
    "        dif2=dif^2       #Elevamos al cuadrado las diferencias obtenidas. \n",
    "        sdi=sdi+dif2     #Suma de los cuadrados de las diferencias.\n",
    "\n",
    "    end\n",
    "\n",
    "    varianza=1/len*sdi\n",
    "    #Obtenemos la varianza dividiendo la suma de \n",
    "    #los cuadrados de las diferencias entre la cantidad de\n",
    "    #valores en el vector. \n",
    "    \n",
    "    return varianza\n",
    "    \n",
    "end"
   ]
  },
  {
   "cell_type": "code",
   "execution_count": 10,
   "metadata": {
    "collapsed": false
   },
   "outputs": [
    {
     "data": {
      "text/plain": [
       "1.0001458214603258"
      ]
     },
     "execution_count": 10,
     "metadata": {},
     "output_type": "execute_result"
    }
   ],
   "source": [
    "vari(v1)"
   ]
  },
  {
   "cell_type": "markdown",
   "metadata": {},
   "source": [
    "**b)**\n",
    "**Comparación con las funciones mean y var**"
   ]
  },
  {
   "cell_type": "code",
   "execution_count": 15,
   "metadata": {
    "collapsed": false
   },
   "outputs": [
    {
     "name": "stdout",
     "output_type": "stream",
     "text": [
      "  0.106810 seconds (5 allocations: 176 bytes)\n"
     ]
    },
    {
     "data": {
      "text/plain": [
       "1.0000000000103012e7"
      ]
     },
     "execution_count": 15,
     "metadata": {},
     "output_type": "execute_result"
    }
   ],
   "source": [
    "@time prom_v(v1)"
   ]
  },
  {
   "cell_type": "code",
   "execution_count": 16,
   "metadata": {
    "collapsed": false
   },
   "outputs": [
    {
     "name": "stdout",
     "output_type": "stream",
     "text": [
      "  0.048762 seconds (5 allocations: 176 bytes)\n"
     ]
    },
    {
     "data": {
      "text/plain": [
       "1.000000000010484e7"
      ]
     },
     "execution_count": 16,
     "metadata": {},
     "output_type": "execute_result"
    }
   ],
   "source": [
    "@time mean(v1)"
   ]
  },
  {
   "cell_type": "code",
   "execution_count": 17,
   "metadata": {
    "collapsed": false
   },
   "outputs": [
    {
     "name": "stdout",
     "output_type": "stream",
     "text": [
      "  0.209809 seconds (5 allocations: 176 bytes)\n"
     ]
    },
    {
     "data": {
      "text/plain": [
       "1.0001458214603258"
      ]
     },
     "execution_count": 17,
     "metadata": {},
     "output_type": "execute_result"
    }
   ],
   "source": [
    "@time vari(v1)"
   ]
  },
  {
   "cell_type": "code",
   "execution_count": 18,
   "metadata": {
    "collapsed": false,
    "scrolled": true
   },
   "outputs": [
    {
     "name": "stdout",
     "output_type": "stream",
     "text": [
      "  0.116330 seconds (9 allocations: 320 bytes)\n"
     ]
    },
    {
     "data": {
      "text/plain": [
       "1.0001458314586098"
      ]
     },
     "execution_count": 18,
     "metadata": {},
     "output_type": "execute_result"
    }
   ],
   "source": [
    "@time var(v1)"
   ]
  },
  {
   "cell_type": "markdown",
   "metadata": {},
   "source": [
    "**c)**"
   ]
  },
  {
   "cell_type": "code",
   "execution_count": 19,
   "metadata": {
    "collapsed": false
   },
   "outputs": [
    {
     "data": {
      "text/plain": [
       "varianza_promedio_rec (generic function with 1 method)"
      ]
     },
     "execution_count": 19,
     "metadata": {},
     "output_type": "execute_result"
    }
   ],
   "source": [
    "function varianza_promedio_rec(v)\n",
    "    \n",
    "    n=0\n",
    "    prom=0.0\n",
    "    M2=0.0\n",
    "    varianza=0.0\n",
    "    \n",
    "    for x=1:length(v)\n",
    "        \n",
    "        n+=1                    #n=n+1  \n",
    "        delta = v[x] - prom\n",
    "        prom += delta/n         #prom = prom + delta/n\n",
    "        delta2 = v[x] - prom\n",
    "        M2 += delta*delta2      # M2 = M2 + (delta*delta2)\n",
    "        \n",
    "        varianza = M2/(n-1)        \n",
    "    end\n",
    "    return varianza,prom\n",
    "end  "
   ]
  },
  {
   "cell_type": "markdown",
   "metadata": {},
   "source": [
    "**d)**"
   ]
  },
  {
   "cell_type": "code",
   "execution_count": 20,
   "metadata": {
    "collapsed": false
   },
   "outputs": [
    {
     "name": "stdout",
     "output_type": "stream",
     "text": [
      "  0.876296 seconds (3.10 k allocations: 142.518 KB)\n"
     ]
    },
    {
     "data": {
      "text/plain": [
       "(1.0001458319158971,1.0000000000109732e7)"
      ]
     },
     "execution_count": 20,
     "metadata": {},
     "output_type": "execute_result"
    }
   ],
   "source": [
    "@time varianza_promedio_rec(v1)"
   ]
  },
  {
   "cell_type": "code",
   "execution_count": 21,
   "metadata": {
    "collapsed": false
   },
   "outputs": [
    {
     "name": "stdout",
     "output_type": "stream",
     "text": [
      "  0.105534 seconds (5 allocations: 176 bytes)\n"
     ]
    },
    {
     "data": {
      "text/plain": [
       "1.0000000000103012e7"
      ]
     },
     "execution_count": 21,
     "metadata": {},
     "output_type": "execute_result"
    }
   ],
   "source": [
    "@time prom_v(v1)"
   ]
  },
  {
   "cell_type": "code",
   "execution_count": 22,
   "metadata": {
    "collapsed": false
   },
   "outputs": [
    {
     "name": "stdout",
     "output_type": "stream",
     "text": [
      "  0.048694 seconds (5 allocations: 176 bytes)\n"
     ]
    },
    {
     "data": {
      "text/plain": [
       "1.000000000010484e7"
      ]
     },
     "execution_count": 22,
     "metadata": {},
     "output_type": "execute_result"
    }
   ],
   "source": [
    "@time mean(v1)"
   ]
  },
  {
   "cell_type": "code",
   "execution_count": 23,
   "metadata": {
    "collapsed": false
   },
   "outputs": [
    {
     "name": "stdout",
     "output_type": "stream",
     "text": [
      "  0.212480 seconds (5 allocations: 176 bytes)\n"
     ]
    },
    {
     "data": {
      "text/plain": [
       "1.0001458214603258"
      ]
     },
     "execution_count": 23,
     "metadata": {},
     "output_type": "execute_result"
    }
   ],
   "source": [
    "@time vari(v1)"
   ]
  },
  {
   "cell_type": "code",
   "execution_count": 24,
   "metadata": {
    "collapsed": false
   },
   "outputs": [
    {
     "name": "stdout",
     "output_type": "stream",
     "text": [
      "  0.104786 seconds (9 allocations: 320 bytes)\n"
     ]
    },
    {
     "data": {
      "text/plain": [
       "1.0001458314586098"
      ]
     },
     "execution_count": 24,
     "metadata": {},
     "output_type": "execute_result"
    }
   ],
   "source": [
    "@time var(v1)"
   ]
  },
  {
   "cell_type": "markdown",
   "metadata": {
    "deletable": true,
    "editable": true
   },
   "source": [
    "## 3. Método de Simpson para integrar $f(x)$ en un intervalo dado\n",
    "\n",
    "Implementen el método de Simpson para integrar una función arbitraria $f(x)$."
   ]
  },
  {
   "cell_type": "markdown",
   "metadata": {},
   "source": [
    " El método de Simpson a usar es el siguiente:\n",
    " \n",
    " $\\int_{a}^{b} f(x) dx=\\frac{h}{3}(f(a)+2[f(a+2h)+f(a+4h)+...+f(a+(2n-2)h)]+4[f(a+h)+f(a+3h)+...+f(a+(2n-1)h)]+f(b))$\n",
    " \n",
    " con $h=\\frac{b-a}{n}$"
   ]
  },
  {
   "cell_type": "markdown",
   "metadata": {},
   "source": [
    "Función del método de Simpson:"
   ]
  },
  {
   "cell_type": "code",
   "execution_count": 25,
   "metadata": {
    "collapsed": false
   },
   "outputs": [
    {
     "data": {
      "text/plain": [
       "m_simpson (generic function with 1 method)"
      ]
     },
     "execution_count": 25,
     "metadata": {},
     "output_type": "execute_result"
    }
   ],
   "source": [
    "function m_simpson(f,a,b,n)\n",
    "    suma = 0.0\n",
    "    h = (b-a)/n #Cálculo de h.\n",
    "    suma = suma+(h/3)*(f(a)+f(b))#Suma con f evaluada en los extremos a y b.\n",
    "    for i=1:n\n",
    "        x_i=a+(i*h)#variable a evaluar.\n",
    "        \n",
    "        #Acontinuación se completa la suma anterior con los valores \n",
    "        #de la forma 2*f(a+(2n-2)h) y 4*f(a+(2n-1)h.\n",
    "        \n",
    "        if i%2==0\n",
    "            suma=suma+2*(f(x_i))#valores de la forma 2*f(a+(2n-2)h).\n",
    "            else\n",
    "                suma=suma+4*(f(x_i))#valores de la forma 4*f(a+(2n-1)h).\n",
    "        end\n",
    "        \n",
    "    end\n",
    "    suma=suma*h/3 #Multiplicamos la suma total obtenida por h/3.\n",
    "    return suma \n",
    "end"
   ]
  },
  {
   "cell_type": "markdown",
   "metadata": {},
   "source": [
    "Función a integrar:"
   ]
  },
  {
   "cell_type": "code",
   "execution_count": 26,
   "metadata": {
    "collapsed": false
   },
   "outputs": [
    {
     "data": {
      "text/plain": [
       "f (generic function with 1 method)"
      ]
     },
     "execution_count": 26,
     "metadata": {},
     "output_type": "execute_result"
    }
   ],
   "source": [
    "function f(x)\n",
    "     return 3*x^2\n",
    "end"
   ]
  },
  {
   "cell_type": "code",
   "execution_count": 27,
   "metadata": {
    "collapsed": false
   },
   "outputs": [
    {
     "data": {
      "text/plain": [
       "26.833333333333332"
      ]
     },
     "execution_count": 27,
     "metadata": {},
     "output_type": "execute_result"
    }
   ],
   "source": [
    "m_simpson(f,1,3,20)"
   ]
  },
  {
   "cell_type": "code",
   "execution_count": null,
   "metadata": {
    "collapsed": true
   },
   "outputs": [],
   "source": []
  }
 ],
 "metadata": {
  "kernelspec": {
   "display_name": "Julia 0.5.0",
   "language": "julia",
   "name": "julia-0.5"
  },
  "language_info": {
   "file_extension": ".jl",
   "mimetype": "application/julia",
   "name": "julia",
   "version": "0.5.0"
  }
 },
 "nbformat": 4,
 "nbformat_minor": 2
}
