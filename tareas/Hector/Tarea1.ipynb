{
 "cells": [
  {
   "cell_type": "markdown",
   "metadata": {
    "deletable": true,
    "editable": true
   },
   "source": [
    "# Tarea 1"
   ]
  },
  {
   "cell_type": "markdown",
   "metadata": {
    "deletable": true,
    "editable": true
   },
   "source": [
    "Fecha de envío del PR inicial: **26 de febrero**\n",
    "\n",
    "Fecha de aceptación del PR: **12 de marzo**\n"
   ]
  },
  {
   "cell_type": "markdown",
   "metadata": {
    "deletable": true,
    "editable": true
   },
   "source": [
    "## 1. Raíces de una ecuación de segundo grado\n",
    "\n",
    "Implementen en julia una función que devuelva las raíces de una ecuación de segundo grado general con coeficientes reales. La función debe ser estable según el tipo ([type-stable](http://docs.julialang.org/en/release-0.5/manual/faq/?highlight=type%20stability#what-does-type-stable-mean)), lo que significa que el tipo del resultado sólamente depende del tipo de las entradas. En particular, muestren que su función devuelve raíces consistentes para $a=1$, $b=1$, $c=10^{-17}$.\n",
    "\n",
    "La función debe estar documentada de manera apropiada, lo que significa que, al correr el Jupyter notebook de su tarea, la instrucción\n",
    "```julia\n",
    "? nombre_funcion\n",
    "```\n",
    "debe dar información apropiada.\n",
    "\n",
    "Incluyan cualquier comentario prudente del algoritmo que usan, ya sea en el notebook (usando markdown) o en la propia función incluyendo comentarios.\n"
   ]
  },
  {
   "cell_type": "markdown",
   "metadata": {
    "collapsed": true
   },
   "source": [
    "**Valores de prueba para los casos del discriminante**\n",
    "\n",
    "Si D > 0: a = 2, b = 1, c = -6  Las soluciones son reales.\n",
    "\n",
    "Si D = 0: a = 1, b = 2, c = 1 Existe una única solución real.\n",
    "\n",
    "Si D < 0: a = 1, b = -4, c = 13 Las soluciones son complejas."
   ]
  },
  {
   "cell_type": "code",
   "execution_count": 18,
   "metadata": {
    "collapsed": false
   },
   "outputs": [
    {
     "data": {
      "text/plain": [
       "1.0"
      ]
     },
     "execution_count": 18,
     "metadata": {},
     "output_type": "execute_result"
    }
   ],
   "source": [
    "a=1.0"
   ]
  },
  {
   "cell_type": "code",
   "execution_count": 19,
   "metadata": {
    "collapsed": false
   },
   "outputs": [
    {
     "data": {
      "text/plain": [
       "1.0"
      ]
     },
     "execution_count": 19,
     "metadata": {},
     "output_type": "execute_result"
    }
   ],
   "source": [
    "b=1.0"
   ]
  },
  {
   "cell_type": "code",
   "execution_count": 20,
   "metadata": {
    "collapsed": false
   },
   "outputs": [
    {
     "data": {
      "text/plain": [
       "100000000000000000"
      ]
     },
     "execution_count": 20,
     "metadata": {},
     "output_type": "execute_result"
    }
   ],
   "source": [
    "c=1*10^17"
   ]
  },
  {
   "cell_type": "markdown",
   "metadata": {},
   "source": [
    "Calculamos el valor del discriminante:"
   ]
  },
  {
   "cell_type": "code",
   "execution_count": 21,
   "metadata": {
    "collapsed": false
   },
   "outputs": [
    {
     "name": "stdout",
     "output_type": "stream",
     "text": [
      "El discriminante es: D = -4.0e17\n"
     ]
    }
   ],
   "source": [
    "D=(b^2)-4*a*c\n",
    "println( \"El discriminante es: D = $D\")"
   ]
  },
  {
   "cell_type": "markdown",
   "metadata": {},
   "source": [
    "Aplicación de la fórmula general:"
   ]
  },
  {
   "cell_type": "code",
   "execution_count": 22,
   "metadata": {
    "collapsed": false
   },
   "outputs": [
    {
     "name": "stdout",
     "output_type": "stream",
     "text": [
      "Las soluciones son complejas: x1= -0.5 + 3.1622776601683795e8im y x2= -0.5 - 3.1622776601683795e8im\n"
     ]
    }
   ],
   "source": [
    "#function f_genf(a,b,c)\n",
    " #    return \n",
    "if D >= 0\n",
    "    x1 = (-b + sqrt(b^2 - 4*a*c)) / (2 * a)\n",
    "    x2 = (-b - sqrt(b^2 - 4*a*c)) / (2 * a)\n",
    "    println( \"Las soluciones son reales: x1= $x1 y x2= $x2\")\n",
    "end   \n",
    "\n",
    "if D == 0\n",
    "    x1 = (-b + sqrt(b^2 - 4*a*c)) / (2 * a)\n",
    "    println( \"La solución es única: x1= $x1\")\n",
    "end   \n",
    "\n",
    "if D < 0\n",
    "    x1 = (-b + sqrt(complex(b^2 - 4*a*c))) / (2 * a)\n",
    "    x2 = (-b - sqrt(complex(b^2 - 4*a*c)))/ (2 * a)  \n",
    "    println( \"Las soluciones son complejas: x1= $x1 y x2= $x2\")    \n",
    "end\n",
    "#end"
   ]
  },
  {
   "cell_type": "markdown",
   "metadata": {
    "deletable": true,
    "editable": true
   },
   "source": [
    "## 2. Promedio y varianza\n",
    "\n",
    "(a) Escriban dos funciones (`promedio` y `varianza`) que calculen el promedio y la varianza de un vector de datos. \n",
    "    \n",
    "(b) Comparen su resultado con lo que se obtiene al utilizar `mean` y `var`, que son las funciones nativas de Julia que hacen eso. En particular, consideren el siguiente vector de datos\n",
    "```julia\n",
    "v = 1.0e7 + randn(10^8)\n",
    "```\n",
    "¿Qué hace la función `randn(10^8)`?\n",
    "\n",
    "(c) Implementen el [algoritmo recursivo](https://en.wikipedia.org/wiki/Algorithms_for_calculating_variance#Online_algorithm), ampliamente desconocido, que  calcula el promedio (`promedio_rec`) y la varianza (`varianza_rec`) con una sóla lectura de los datos. Usen sus funciones en el vector anterior y comparen sus resultados con los obtenidos en (a).\n",
    "\n",
    "(d) ¿Cuál de todos los algoritmos es el más rápido? (Pueden usar `@time` o `@elapsed`.) Usen vectores de varias longitudes, que cubran varios órdenes de magnitud."
   ]
  },
  {
   "cell_type": "markdown",
   "metadata": {},
   "source": [
    "**a)**"
   ]
  },
  {
   "cell_type": "markdown",
   "metadata": {},
   "source": [
    "Definimos el vector:"
   ]
  },
  {
   "cell_type": "code",
   "execution_count": 45,
   "metadata": {
    "collapsed": false,
    "scrolled": true
   },
   "outputs": [
    {
     "data": {
      "text/plain": [
       "100000000-element Array{Float64,1}:\n",
       " 1.0e7\n",
       " 1.0e7\n",
       " 1.0e7\n",
       " 1.0e7\n",
       " 1.0e7\n",
       " 1.0e7\n",
       " 1.0e7\n",
       " 1.0e7\n",
       " 1.0e7\n",
       " 1.0e7\n",
       " 1.0e7\n",
       " 1.0e7\n",
       " 1.0e7\n",
       " ⋮    \n",
       " 1.0e7\n",
       " 1.0e7\n",
       " 1.0e7\n",
       " 1.0e7\n",
       " 1.0e7\n",
       " 1.0e7\n",
       " 1.0e7\n",
       " 1.0e7\n",
       " 1.0e7\n",
       " 1.0e7\n",
       " 1.0e7\n",
       " 1.0e7"
      ]
     },
     "execution_count": 45,
     "metadata": {},
     "output_type": "execute_result"
    }
   ],
   "source": [
    "v1= 1.0e7 + randn(10^8)#v1=[9,8,7]"
   ]
  },
  {
   "cell_type": "markdown",
   "metadata": {},
   "source": [
    "**Promedio del vector**"
   ]
  },
  {
   "cell_type": "code",
   "execution_count": 16,
   "metadata": {
    "collapsed": false
   },
   "outputs": [
    {
     "name": "stdout",
     "output_type": "stream",
     "text": [
      "9.999999999972539e6\n"
     ]
    }
   ],
   "source": [
    "suma=0.0\n",
    "\n",
    "for i = 1:length(v1)\n",
    "    suma = suma+v1[i]#Sumamos cada valor del vector.\n",
    "end\n",
    "\n",
    "promedio=suma/length(v1)#Dividimos el valor de la suma obtenida \n",
    "#entre la cantidad de valores del vector.\n",
    "\n",
    "println(promedio)"
   ]
  },
  {
   "cell_type": "markdown",
   "metadata": {},
   "source": [
    "**Varianza del vector**"
   ]
  },
  {
   "cell_type": "code",
   "execution_count": 17,
   "metadata": {
    "collapsed": false
   },
   "outputs": [
    {
     "name": "stdout",
     "output_type": "stream",
     "text": [
      "0.9999573338128027\n"
     ]
    }
   ],
   "source": [
    "dif=0.0\n",
    "sdi=0.0\n",
    "for i = 1:length(v1)\n",
    "    dif = v1[i]-promedio#Diferencia entre el promedio y cada valor del vector.\n",
    "    dif2=dif^2#Elevamos al cuadrado las diferencias obtenidas. \n",
    "    sdi=sdi+dif2#Suma de los cuadrados de las diferencias.\n",
    "\n",
    "end\n",
    "\n",
    "varianza=1/length(v1)*sdi\n",
    "#Obtenemos la varianza dividiendo la suma de \n",
    "#los cuadrados de las diferencias entre la cantidad de\n",
    "#valores en el vector \n",
    "\n",
    "println(varianza)"
   ]
  },
  {
   "cell_type": "markdown",
   "metadata": {},
   "source": [
    "**b)**\n",
    "**Comparación con las funciones mean y var**"
   ]
  },
  {
   "cell_type": "code",
   "execution_count": 18,
   "metadata": {
    "collapsed": false
   },
   "outputs": [
    {
     "data": {
      "text/plain": [
       "9.999999999976862e6"
      ]
     },
     "execution_count": 18,
     "metadata": {},
     "output_type": "execute_result"
    }
   ],
   "source": [
    "mean(v1)"
   ]
  },
  {
   "cell_type": "code",
   "execution_count": 19,
   "metadata": {
    "collapsed": false
   },
   "outputs": [
    {
     "data": {
      "text/plain": [
       "0.9999573437937047"
      ]
     },
     "execution_count": 19,
     "metadata": {},
     "output_type": "execute_result"
    }
   ],
   "source": [
    "var(v1)"
   ]
  },
  {
   "cell_type": "markdown",
   "metadata": {},
   "source": [
    "**c)**"
   ]
  },
  {
   "cell_type": "code",
   "execution_count": 46,
   "metadata": {
    "collapsed": false
   },
   "outputs": [
    {
     "ename": "LoadError",
     "evalue": "syntax: expected \"end\" in definition of function \"varianza_rec\"",
     "output_type": "error",
     "traceback": [
      "syntax: expected \"end\" in definition of function \"varianza_rec\"",
      ""
     ]
    }
   ],
   "source": [
    "function varianza_rec\n",
    "\n",
    "  return \n",
    "    n1=0\n",
    "    prom=0.0\n",
    "    m2=0.0\n",
    "    for cont=1:lenght(v1)\n",
    "        n1+=1\n",
    "        delta=v[cont]-prom\n",
    "        prom+=delta/n1\n",
    "        \n",
    "        delta2=v[cont]-prom\n",
    "        m2+=delta*delta2\n",
    "    \n",
    "        if n1<2\n",
    "             return float('nan')\n",
    "            else\n",
    "                return m2 / (n1 - 1)\n",
    "        end\n",
    "    end\n",
    "end    "
   ]
  },
  {
   "cell_type": "markdown",
   "metadata": {},
   "source": [
    "**d)**"
   ]
  },
  {
   "cell_type": "markdown",
   "metadata": {
    "deletable": true,
    "editable": true
   },
   "source": [
    "## 3. Método de Simpson para integrar $f(x)$ en un intervalo dado\n",
    "\n",
    "Implementen el método de Simpson para integrar una función arbitraria $f(x)$."
   ]
  },
  {
   "cell_type": "markdown",
   "metadata": {
    "collapsed": true,
    "deletable": true,
    "editable": true
   },
   "source": [
    "Intervalo:"
   ]
  },
  {
   "cell_type": "code",
   "execution_count": 20,
   "metadata": {
    "collapsed": false
   },
   "outputs": [
    {
     "data": {
      "text/plain": [
       "1.0"
      ]
     },
     "execution_count": 20,
     "metadata": {},
     "output_type": "execute_result"
    }
   ],
   "source": [
    "a1=1.0"
   ]
  },
  {
   "cell_type": "code",
   "execution_count": 21,
   "metadata": {
    "collapsed": false
   },
   "outputs": [
    {
     "data": {
      "text/plain": [
       "3.0"
      ]
     },
     "execution_count": 21,
     "metadata": {},
     "output_type": "execute_result"
    }
   ],
   "source": [
    "b1=3.0"
   ]
  },
  {
   "cell_type": "markdown",
   "metadata": {},
   "source": [
    "Número de pasos:"
   ]
  },
  {
   "cell_type": "code",
   "execution_count": 22,
   "metadata": {
    "collapsed": false
   },
   "outputs": [
    {
     "data": {
      "text/plain": [
       "20"
      ]
     },
     "execution_count": 22,
     "metadata": {},
     "output_type": "execute_result"
    }
   ],
   "source": [
    "n=20"
   ]
  },
  {
   "cell_type": "code",
   "execution_count": 23,
   "metadata": {
    "collapsed": false
   },
   "outputs": [
    {
     "data": {
      "text/plain": [
       "0.05"
      ]
     },
     "execution_count": 23,
     "metadata": {},
     "output_type": "execute_result"
    }
   ],
   "source": [
    "h = (b1-a1)/(2*n)"
   ]
  },
  {
   "cell_type": "markdown",
   "metadata": {},
   "source": [
    "Función:"
   ]
  },
  {
   "cell_type": "code",
   "execution_count": 25,
   "metadata": {
    "collapsed": false
   },
   "outputs": [
    {
     "data": {
      "text/plain": [
       "ff (generic function with 1 method)"
      ]
     },
     "execution_count": 25,
     "metadata": {},
     "output_type": "execute_result"
    }
   ],
   "source": [
    "function ff(x)\n",
    "     return 3*x^2\n",
    "end"
   ]
  },
  {
   "cell_type": "markdown",
   "metadata": {},
   "source": [
    "Aplicación del método:"
   ]
  },
  {
   "cell_type": "code",
   "execution_count": 27,
   "metadata": {
    "collapsed": false
   },
   "outputs": [
    {
     "data": {
      "text/plain": [
       "24.904999999999998"
      ]
     },
     "execution_count": 27,
     "metadata": {},
     "output_type": "execute_result"
    }
   ],
   "source": [
    "suma2=0.0\n",
    "integral=0.0\n",
    "for i=1:n\n",
    "    suma2=4*ff(a1+(2*i-1))*h+2*ff(a1+(2*(i+1)-2))*h#Suma \n",
    "end\n",
    "    integral= (h/3)*(ff(a1)+suma2+ff(b1))"
   ]
  },
  {
   "cell_type": "code",
   "execution_count": null,
   "metadata": {
    "collapsed": true
   },
   "outputs": [],
   "source": []
  }
 ],
 "metadata": {
  "kernelspec": {
   "display_name": "Julia 0.5.0",
   "language": "julia",
   "name": "julia-0.5"
  },
  "language_info": {
   "file_extension": ".jl",
   "mimetype": "application/julia",
   "name": "julia",
   "version": "0.5.0"
  }
 },
 "nbformat": 4,
 "nbformat_minor": 2
}
