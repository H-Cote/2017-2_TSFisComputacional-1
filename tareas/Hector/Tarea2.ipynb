{
 "cells": [
  {
   "cell_type": "markdown",
   "metadata": {
    "deletable": true,
    "editable": true
   },
   "source": [
    "# Tarea 2: Derivación numérica"
   ]
  },
  {
   "cell_type": "markdown",
   "metadata": {
    "deletable": true,
    "editable": true
   },
   "source": [
    "Fecha de envío del PR inicial: **martes 14 de marzo**\n",
    "\n",
    "Fecha de aceptación del PR: **lunes 20 de marzo**"
   ]
  },
  {
   "cell_type": "markdown",
   "metadata": {
    "deletable": true,
    "editable": true
   },
   "source": [
    "## Ejercicio 1: Derivada *derecha*\n",
    "\n",
    "(a) Definan una función `derivada_derecha` que calcule *numéricamente* la derivada de una función $f(x)$ en una variable (a priori arbitaria) que se debe introducir como argumento, en un punto $x_0$ arbitrario, pero que por default lo hace en  $x_0=0.0$. \n",
    "\n",
    "Para esto, utilicen la aproximación de la derivada, que se basa en su definición:\n",
    "\n",
    "\\begin{equation}\n",
    "f'(x_0) \\approx \\frac{\\Delta f_+}{\\Delta x} = \\frac{f(x_0+h)-f(x_0)}{h},\n",
    "\\end{equation}\n",
    "\n",
    "lo que requiere la especificación de `h`. (Este método también se conoce por el nombre de *diferencias finitas*.)\n",
    "\n",
    "(b) A fin de simular el $\\lim_{h\\to 0}$, consideren distintos valores de $h$ que precisamente simulen dicho límite. Para cada valor de $h$ calculen el error absoluto del cálculo numérico (respecto al valor *exacto*, que deberán conocer analíticamente). \n",
    "\n",
    "Para ser concretos, prueben su implementación de `derivada_derecha` con la función de prueba $f(x) = 3x^3-2$, en $x_0=1$. Dibujen, como función de $h$, el error de su cálculo; usen escala logarítmica en ambos ejes. A partir de eso, ¿qué conclusión podemos sacar sobre *la convergencia* del cálculo numérico de la derivada, o sea, cómo nos acercamos al valor *exacto* de la deriva al considerar $lim_{h\\to 0}$? \n"
   ]
  },
  {
   "cell_type": "code",
   "execution_count": 1,
   "metadata": {
    "collapsed": false,
    "deletable": true,
    "editable": true
   },
   "outputs": [
    {
     "data": {
      "text/plain": [
       "derivada_derecha"
      ]
     },
     "execution_count": 1,
     "metadata": {},
     "output_type": "execute_result"
    }
   ],
   "source": [
    "doc\"\"\"\n",
    "derivada_derecha(f,h,x0)\n",
    "\n",
    "Esta función calcula la derivada derecha de una función utilizando la expresión:\n",
    "\n",
    "\\$f'(x_0) \\approx \\frac{\\Delta f_+}{\\Delta x} = \\frac{f(x_0+h)-f(x_0)}{h}\\$\n",
    "\n",
    "Su estructura es la siguiente:\n",
    "\n",
    "derivada_derecha([función],[h],[x0])\n",
    "\n",
    "Por defecto \\$x_0=0.0\\$\n",
    "\n",
    "\"\"\"\n",
    "\n",
    "function derivada_derecha(f,h,x0 = 0.0)\n",
    "    # código\n",
    "    num=f(x0+h)-f(x0) #Numerador\n",
    "    deno=h            #Denominador\n",
    "    \n",
    "    derivada=num/deno\n",
    "    \n",
    "    return derivada \n",
    "    \n",
    "end"
   ]
  },
  {
   "cell_type": "code",
   "execution_count": 2,
   "metadata": {
    "collapsed": false
   },
   "outputs": [
    {
     "data": {
      "text/html": [
       "2 methods for generic function <b>derivada_derecha</b>:<ul><li> derivada_derecha(f, h) at In[1]:18</li> <li> derivada_derecha(f, h, x0) at In[1]:18</li> </ul>"
      ],
      "text/plain": [
       "# 2 methods for generic function \"derivada_derecha\":\n",
       "derivada_derecha(f, h) at In[1]:18\n",
       "derivada_derecha(f, h, x0) at In[1]:18"
      ]
     },
     "execution_count": 2,
     "metadata": {},
     "output_type": "execute_result"
    }
   ],
   "source": [
    "methods(derivada_derecha)"
   ]
  },
  {
   "cell_type": "code",
   "execution_count": 3,
   "metadata": {
    "collapsed": false
   },
   "outputs": [
    {
     "name": "stdout",
     "output_type": "stream",
     "text": [
      "search:\n",
      "\n"
     ]
    },
    {
     "data": {
      "text/markdown": [
       "derivada_derecha(f,h,x0)\n",
       "\n",
       "Esta función calcula la derivada derecha de una función utilizando la expresión:\n",
       "\n",
       "$f'(x_0) \\approx \\frac{\\Delta f_+}{\\Delta x} = \\frac{f(x_0+h)-f(x_0)}{h}$\n",
       "\n",
       "Su estructura es la siguiente:\n",
       "\n",
       "derivada_derecha([función],[h],[x0])\n",
       "\n",
       "Por defecto $x_0=0.0$\n"
      ],
      "text/plain": [
       "derivada_derecha(f,h,x0)\n",
       "\n",
       "Esta función calcula la derivada derecha de una función utilizando la expresión:\n",
       "\n",
       "$f'(x_0) \\approx \\frac{\\Delta f_+}{\\Delta x} = \\frac{f(x_0+h)-f(x_0)}{h}$\n",
       "\n",
       "Su estructura es la siguiente:\n",
       "\n",
       "derivada_derecha([función],[h],[x0])\n",
       "\n",
       "Por defecto $x_0=0.0$\n"
      ]
     },
     "execution_count": 3,
     "metadata": {},
     "output_type": "execute_result"
    }
   ],
   "source": [
    "?derivada_derecha"
   ]
  },
  {
   "cell_type": "code",
   "execution_count": 4,
   "metadata": {
    "collapsed": false
   },
   "outputs": [
    {
     "data": {
      "text/plain": [
       "f (generic function with 1 method)"
      ]
     },
     "execution_count": 4,
     "metadata": {},
     "output_type": "execute_result"
    }
   ],
   "source": [
    "#Función a evaluar\n",
    "function f(x)\n",
    "    return 3x^3-2\n",
    "end"
   ]
  },
  {
   "cell_type": "markdown",
   "metadata": {},
   "source": [
    "Cálculo analítico de la derivada"
   ]
  },
  {
   "cell_type": "markdown",
   "metadata": {},
   "source": [
    "Aplicando la fórmula para la derivada a la función $f(x)=3x³-2$ con $x_0=1$ tenemos: $\\lim_{h \\to 0} \\frac{(3(x_0+h)³-2)-(3x_0³-2)}{h} = \\lim_{h \\to 0} \\frac{(3(h³+3h²x_0+3hx_0²+x_0³)-2)-(3x_0³-2)}{h}=\\lim_{h \\to 0}  \\frac{(3h³+9h²x_0+9hx_0²+3x_0³-2)-(3x_0³-2)}{h} = \\lim_{h \\to 0} \\frac{3h³+9h²x_0+9hx_0²+3x_0³-2-3x_0³+2}{h}=\\lim_{h \\to 0}  \\frac{3h³+9h²x_0+9hx_0²}{h}=\\lim_{h \\to 0} \\frac{h(3h²+9hx_0+9x_0²)}{h} =\\lim_{h \\to 0}  (3h²+9hx_0+9x_0²) =9x_0²$ \n",
    "como $x_0=1$ entonces $\\lim_{h \\to 0} \\frac{(3(x_0+h)³-2)-(3x_0³-2)}{h} =9$"
   ]
  },
  {
   "cell_type": "code",
   "execution_count": 5,
   "metadata": {
    "collapsed": false,
    "deletable": true,
    "editable": true,
    "inputHidden": false,
    "outputHidden": false
   },
   "outputs": [
    {
     "data": {
      "text/plain": [
       "9.000000744663339"
      ]
     },
     "execution_count": 5,
     "metadata": {},
     "output_type": "execute_result"
    }
   ],
   "source": [
    "deri=derivada_derecha(f,0.00000000001,1.0)"
   ]
  },
  {
   "cell_type": "markdown",
   "metadata": {},
   "source": [
    "Cálculo del error absoluto"
   ]
  },
  {
   "cell_type": "code",
   "execution_count": 6,
   "metadata": {
    "collapsed": false
   },
   "outputs": [
    {
     "data": {
      "text/plain": [
       "7.446633389918134e-7"
      ]
     },
     "execution_count": 6,
     "metadata": {},
     "output_type": "execute_result"
    }
   ],
   "source": [
    "Error_absoluto=abs(deri-9)"
   ]
  },
  {
   "cell_type": "markdown",
   "metadata": {},
   "source": [
    "Para obtener un vector con los valores de h, generamos el vector v1 con valores aleatorios en el intervalo [0,1).En general, dichos valores no son muy chicos, por ello, se hace un segundo vector v2 con valores sean más pequeños en [0,1). De este modo, podemos hacer un vector_h que contega los valores de v1 y v2."
   ]
  },
  {
   "cell_type": "code",
   "execution_count": 7,
   "metadata": {
    "collapsed": false
   },
   "outputs": [
    {
     "data": {
      "text/plain": [
       "100-element Array{Float64,1}:\n",
       " 0.155499 \n",
       " 0.0717857\n",
       " 0.100555 \n",
       " 0.985491 \n",
       " 0.451138 \n",
       " 0.722861 \n",
       " 0.0832608\n",
       " 0.676134 \n",
       " 0.632424 \n",
       " 0.512358 \n",
       " 0.813268 \n",
       " 0.0982066\n",
       " 0.830169 \n",
       " ⋮        \n",
       " 0.637055 \n",
       " 0.708734 \n",
       " 0.682193 \n",
       " 0.411527 \n",
       " 0.0147118\n",
       " 0.108235 \n",
       " 0.415726 \n",
       " 0.898717 \n",
       " 0.806221 \n",
       " 0.362043 \n",
       " 0.390126 \n",
       " 0.36993  "
      ]
     },
     "execution_count": 7,
     "metadata": {},
     "output_type": "execute_result"
    }
   ],
   "source": [
    "v1=rand(10^2)"
   ]
  },
  {
   "cell_type": "code",
   "execution_count": 8,
   "metadata": {
    "collapsed": false
   },
   "outputs": [
    {
     "data": {
      "text/plain": [
       "100-element Array{Float64,1}:\n",
       " 8.84652e-15\n",
       " 3.49902e-15\n",
       " 5.88008e-15\n",
       " 9.01787e-15\n",
       " 8.89409e-15\n",
       " 8.30866e-15\n",
       " 6.83833e-15\n",
       " 1.93351e-15\n",
       " 5.48779e-16\n",
       " 3.93818e-15\n",
       " 6.17526e-15\n",
       " 8.63706e-16\n",
       " 8.30428e-15\n",
       " ⋮          \n",
       " 3.64121e-15\n",
       " 4.37804e-15\n",
       " 8.36987e-15\n",
       " 4.97326e-15\n",
       " 7.63781e-15\n",
       " 2.12954e-15\n",
       " 2.00953e-15\n",
       " 5.80577e-15\n",
       " 8.20485e-15\n",
       " 7.32981e-15\n",
       " 4.18232e-15\n",
       " 2.40794e-15"
      ]
     },
     "execution_count": 8,
     "metadata": {},
     "output_type": "execute_result"
    }
   ],
   "source": [
    "v2=abs(rand(10^2)/1e14)"
   ]
  },
  {
   "cell_type": "code",
   "execution_count": 9,
   "metadata": {
    "collapsed": false,
    "scrolled": true
   },
   "outputs": [
    {
     "data": {
      "text/plain": [
       "200-element Array{Float64,1}:\n",
       " 1.50349e-16\n",
       " 2.59189e-16\n",
       " 3.08494e-16\n",
       " 3.132e-16  \n",
       " 5.48779e-16\n",
       " 6.97321e-16\n",
       " 7.24147e-16\n",
       " 8.63706e-16\n",
       " 9.55571e-16\n",
       " 1.08971e-15\n",
       " 1.24536e-15\n",
       " 1.28023e-15\n",
       " 1.28979e-15\n",
       " ⋮          \n",
       " 0.830169   \n",
       " 0.837786   \n",
       " 0.843066   \n",
       " 0.859077   \n",
       " 0.876008   \n",
       " 0.887339   \n",
       " 0.898717   \n",
       " 0.899422   \n",
       " 0.962913   \n",
       " 0.971994   \n",
       " 0.983025   \n",
       " 0.985491   "
      ]
     },
     "execution_count": 9,
     "metadata": {},
     "output_type": "execute_result"
    }
   ],
   "source": [
    "vector_h=sort(append!(v2,v1))"
   ]
  },
  {
   "cell_type": "code",
   "execution_count": 10,
   "metadata": {
    "collapsed": false,
    "scrolled": true
   },
   "outputs": [],
   "source": [
    "len=length(vector_h) #Cantidad de valores de h\n",
    "error=[] #Vector vacio que será llenado con los valores de error para cada h.\n",
    "#der=[]\n",
    "for i=1:len\n",
    "    \n",
    "   derivadas=derivada_derecha(f,vector_h[i],1.0)#Valor de la derivada para cada h.\n",
    "    \n",
    "    Error_absoluto=abs(derivadas-9)#Valor del error para cada derivada. \n",
    "    #println(i,\"\\t\",Error_absoluto)\n",
    "    #println(i,\"\\t\",derivadas)\n",
    "    #push!(der,derivadas)\n",
    "    push!(error,Error_absoluto)#Agregamos los valores de error obtenidos al vector. \n",
    "    \n",
    "end"
   ]
  },
  {
   "cell_type": "code",
   "execution_count": 11,
   "metadata": {
    "collapsed": false
   },
   "outputs": [
    {
     "data": {
      "text/plain": [
       "200-element Array{Any,1}:\n",
       "  2.81486  \n",
       "  2.14649  \n",
       "  3.24185  \n",
       "  3.32837  \n",
       "  1.71691  \n",
       "  0.0840909\n",
       "  0.414388 \n",
       "  0.255009 \n",
       "  0.634731 \n",
       "  0.0343624\n",
       "  0.628096 \n",
       "  0.365824 \n",
       "  0.296379 \n",
       "  ⋮        \n",
       "  9.53906  \n",
       "  9.64574  \n",
       "  9.71987  \n",
       "  9.94573  \n",
       " 10.1862   \n",
       " 10.3482   \n",
       " 10.5115   \n",
       " 10.5217   \n",
       " 11.4478   \n",
       " 11.5823   \n",
       " 11.7462   \n",
       " 11.783    "
      ]
     },
     "execution_count": 11,
     "metadata": {},
     "output_type": "execute_result"
    }
   ],
   "source": [
    "error"
   ]
  },
  {
   "cell_type": "code",
   "execution_count": 12,
   "metadata": {
    "collapsed": false
   },
   "outputs": [
    {
     "data": {
      "image/png": "[encoded data removed]",
      "text/plain": [
       "PyPlot.Figure(PyObject <matplotlib.figure.Figure object at 0x7f9da8177f60>)"
      ]
     },
     "metadata": {},
     "output_type": "display_data"
    }
   ],
   "source": [
    "using PyPlot\n",
    "\n",
    "plot(vector_h,error)#Vectores a graficar: plot([vector de valores para el eje X],[vector de valores para el eje Y])\n",
    "#plot(vector_h,derivadas)\n",
    "xlabel(\"h\") #Etiqueta para el eje X\n",
    "ylabel(\"Error\")#Etiqueta para el eje Y\n",
    "title(\"Derivada derecha: Error en función de h\")#Título de la gráfica\n",
    "\n",
    "xscale(\"log\")#Escala logarítmica para el eje X\n",
    "yscale(\"log\")#Escala logarítmica para el eje Y\n",
    "\n",
    "show()\n",
    "\n",
    "\n"
   ]
  },
  {
   "cell_type": "markdown",
   "metadata": {},
   "source": [
    "El error disminuye confome damos una h más pequeña"
   ]
  },
  {
   "cell_type": "markdown",
   "metadata": {
    "deletable": true,
    "editable": true
   },
   "source": [
    "## Ejercicio 2: Derivada simétrica\n",
    "\n",
    "Repitan el ejercicio anterior usando la aproximación que se basa en la versión *simétrica* de la definición de la derivada, es decir:\n",
    "\n",
    "\\begin{equation}\n",
    "f'(x_0) \\approx \\frac{ \\Delta f_{sym}}{\\Delta x} = \\lim_{h\\to 0} \\frac{f(x_0+h)-f(x_0-h)}{2h}.\n",
    "\\end{equation}\n",
    "\n",
    "¿Qué pueden concluir respecto a la convergencia? ¿Cómo se compara este algoritmo con el del ejercicio anterior?"
   ]
  },
  {
   "cell_type": "code",
   "execution_count": 13,
   "metadata": {
    "collapsed": false,
    "deletable": true,
    "editable": true
   },
   "outputs": [
    {
     "data": {
      "text/plain": [
       "derivada_simetrica"
      ]
     },
     "execution_count": 13,
     "metadata": {},
     "output_type": "execute_result"
    }
   ],
   "source": [
    "doc\"\"\"\n",
    "derivada_simetrica(f,h,x0)\n",
    "\n",
    "Esta función calcula la derivada simetrica de una función utilizando la expresión:\n",
    "\n",
    "\\$f'(x_0) \\approx \\frac{ \\Delta f_{sym}}{\\Delta x} = \\lim_{h\\to 0} \\frac{f(x_0+h)-f(x_0-h)}{2h}\\$\n",
    "\n",
    "Su estructura es la siguiente:\n",
    "\n",
    "derivada_simetrica([función],[h],[x0])\n",
    "\n",
    "Por defecto \\$x_0=0.0\\$\n",
    "\n",
    "\"\"\"\n",
    "\n",
    "function derivada_simetrica(f,h,x0 = 0.0)\n",
    "    \n",
    "    num=f(x0+h)-f(x0-h)\n",
    "    deno=2*h\n",
    "    \n",
    "    derivada=num/deno\n",
    "    \n",
    "    return derivada \n",
    "    \n",
    "end"
   ]
  },
  {
   "cell_type": "code",
   "execution_count": 14,
   "metadata": {
    "collapsed": false
   },
   "outputs": [
    {
     "name": "stdout",
     "output_type": "stream",
     "text": [
      "search:\n",
      "\n"
     ]
    },
    {
     "data": {
      "text/markdown": [
       "derivada_simetrica(f,h,x0)\n",
       "\n",
       "Esta función calcula la derivada simetrica de una función utilizando la expresión:\n",
       "\n",
       "$f'(x_0) \\approx \\frac{ \\Delta f_{sym}}{\\Delta x} = \\lim_{h\\to 0} \\frac{f(x_0+h)-f(x_0-h)}{2h}$\n",
       "\n",
       "Su estructura es la siguiente:\n",
       "\n",
       "derivada_simetrica([función],[h],[x0])\n",
       "\n",
       "Por defecto $x_0=0.0$\n"
      ],
      "text/plain": [
       "derivada_simetrica(f,h,x0)\n",
       "\n",
       "Esta función calcula la derivada simetrica de una función utilizando la expresión:\n",
       "\n",
       "$f'(x_0) \\approx \\frac{ \\Delta f_{sym}}{\\Delta x} = \\lim_{h\\to 0} \\frac{f(x_0+h)-f(x_0-h)}{2h}$\n",
       "\n",
       "Su estructura es la siguiente:\n",
       "\n",
       "derivada_simetrica([función],[h],[x0])\n",
       "\n",
       "Por defecto $x_0=0.0$\n"
      ]
     },
     "execution_count": 14,
     "metadata": {},
     "output_type": "execute_result"
    }
   ],
   "source": [
    "?derivada_simetrica"
   ]
  },
  {
   "cell_type": "code",
   "execution_count": 15,
   "metadata": {
    "collapsed": false
   },
   "outputs": [
    {
     "data": {
      "text/plain": [
       "9.000000744663339"
      ]
     },
     "execution_count": 15,
     "metadata": {},
     "output_type": "execute_result"
    }
   ],
   "source": [
    "derivada_simetrica(f,0.00000000001,1.0)"
   ]
  },
  {
   "cell_type": "code",
   "execution_count": 15,
   "metadata": {
    "collapsed": true
   },
   "outputs": [],
   "source": [
    "error_2=[]#Vector vacio que será llenado con los valores de error para cada h.\n",
    "\n",
    "for i=1:len\n",
    "    \n",
    "   derivadas_2=derivada_simetrica(f,vector_h[i],1.0)#Valor de la derivada para cada h.\n",
    "    \n",
    "    Error_absoluto_2=abs(derivadas_2-9)#Valor del error para cada derivada. \n",
    "\n",
    "    push!(error_2,Error_absoluto_2)#Agregamos los valores de error obtenidos al vector. \n",
    "    \n",
    "end"
   ]
  },
  {
   "cell_type": "code",
   "execution_count": 16,
   "metadata": {
    "collapsed": false
   },
   "outputs": [
    {
     "data": {
      "text/plain": [
       "200-element Array{Any,1}:\n",
       " 0.138855 \n",
       " 2.14649  \n",
       " 1.08255  \n",
       " 1.2015   \n",
       " 0.90768  \n",
       " 0.0840909\n",
       " 0.19887  \n",
       " 0.255009 \n",
       " 0.169994 \n",
       " 0.0343624\n",
       " 0.2715   \n",
       " 0.365824 \n",
       " 0.296379 \n",
       " ⋮        \n",
       " 2.06754  \n",
       " 2.10566  \n",
       " 2.13228  \n",
       " 2.21404  \n",
       " 2.30217  \n",
       " 2.36211  \n",
       " 2.42307  \n",
       " 2.42688  \n",
       " 2.78161  \n",
       " 2.83432  \n",
       " 2.89901  \n",
       " 2.91357  "
      ]
     },
     "execution_count": 16,
     "metadata": {},
     "output_type": "execute_result"
    }
   ],
   "source": [
    "error_2"
   ]
  },
  {
   "cell_type": "code",
   "execution_count": 17,
   "metadata": {
    "collapsed": false
   },
   "outputs": [
    {
     "data": {
      "image/png": "[encoded data removed]",
      "text/plain": [
       "PyPlot.Figure(PyObject <matplotlib.figure.Figure object at 0x7f9da7b77eb8>)"
      ]
     },
     "metadata": {},
     "output_type": "display_data"
    }
   ],
   "source": [
    "using PyPlot\n",
    "\n",
    "plot(vector_h,error_2)#Vectores a graficar: plot([vector de valores para el eje X],[vector de valores para el eje Y])\n",
    "#plot(vector_h,derivadas_2)\n",
    "xlabel(\"h\") #Etiqueta para el eje X\n",
    "ylabel(\"Error\") #Etiqueta para el eje Y\n",
    "title(\"Derivada simétrica: Error en función de h\")#Título de la gráfica\n",
    "\n",
    "xscale(\"log\")#Escala logarítmica para el eje X\n",
    "yscale(\"log\")#Escala logarítmica para el eje Y\n",
    "\n",
    "show()\n"
   ]
  },
  {
   "cell_type": "markdown",
   "metadata": {},
   "source": [
    "En general el error es difectamente proporcional a h, excepto en cierto intervalo. "
   ]
  },
  {
   "cell_type": "markdown",
   "metadata": {
    "deletable": true,
    "editable": true
   },
   "source": [
    "## Ejercicio 3: Derivada *compleja*"
   ]
  },
  {
   "cell_type": "markdown",
   "metadata": {
    "deletable": true,
    "editable": true
   },
   "source": [
    "Repitan el ejercicio anterior considerando ahora que el incremento de la variable independiente es infinitesimal e *imaginario*. Esto es, nos basaremos en la definición de la derivada dada por:\n",
    "\n",
    "\\begin{equation}\n",
    "f'(x_0) \\approx \\frac{\\Delta f_{cmplx}(x_0)}{\\Delta x} = \\Im\\Big(\\frac{f(x_0+ i h)}{h}\\Big).\n",
    "\\end{equation}\n"
   ]
  },
  {
   "cell_type": "code",
   "execution_count": 18,
   "metadata": {
    "collapsed": false,
    "deletable": true,
    "editable": true
   },
   "outputs": [
    {
     "data": {
      "text/plain": [
       "derivada_compleja"
      ]
     },
     "execution_count": 18,
     "metadata": {},
     "output_type": "execute_result"
    }
   ],
   "source": [
    "doc\"\"\"\n",
    "derivada_compleja(f,h,x0)\n",
    "\n",
    "Esta función calcula la derivada compleja de una función utilizando la expresión:\n",
    "\n",
    "\\$f'(x_0) \\approx \\frac{\\Delta f_{cmplx}(x_0)}{\\Delta x} = \\Im\\Big(\\frac{f(x_0+ i h)}{h}\\Big)\\$\n",
    "\n",
    "Su estructura es la siguiente:\n",
    "\n",
    "derivada_compleja([función],[h],[x0])\n",
    "\n",
    "Por defecto \\$x_0=0.0\\$\n",
    "\n",
    "Sólo se muestra la parte imaginaria del resultado.\n",
    "\"\"\"\n",
    "\n",
    "function derivada_compleja(f,h,x0 = 0.0)\n",
    "    \n",
    "    num=f(x0+h*im)\n",
    "    deno=h\n",
    "    \n",
    "    derivada=num/deno\n",
    "    \n",
    "    return imag(derivada) #Sólo se muestra la parte imaginaria del resultado.\n",
    "    \n",
    "end"
   ]
  },
  {
   "cell_type": "code",
   "execution_count": 19,
   "metadata": {
    "collapsed": false
   },
   "outputs": [
    {
     "name": "stdout",
     "output_type": "stream",
     "text": [
      "search:\n",
      "\n"
     ]
    },
    {
     "data": {
      "text/markdown": [
       "derivada_compleja(f,h,x0)\n",
       "\n",
       "Esta función calcula la derivada compleja de una función utilizando la expresión:\n",
       "\n",
       "$f'(x_0) \\approx \\frac{\\Delta f_{cmplx}(x_0)}{\\Delta x} = \\Im\\Big(\\frac{f(x_0+ i h)}{h}\\Big)$\n",
       "\n",
       "Su estructura es la siguiente:\n",
       "\n",
       "derivada_compleja([función],[h],[x0])\n",
       "\n",
       "Por defecto $x_0=0.0$\n",
       "\n",
       "Sólo se muestra la parte imaginaria del resultado.\n"
      ],
      "text/plain": [
       "derivada_compleja(f,h,x0)\n",
       "\n",
       "Esta función calcula la derivada compleja de una función utilizando la expresión:\n",
       "\n",
       "$f'(x_0) \\approx \\frac{\\Delta f_{cmplx}(x_0)}{\\Delta x} = \\Im\\Big(\\frac{f(x_0+ i h)}{h}\\Big)$\n",
       "\n",
       "Su estructura es la siguiente:\n",
       "\n",
       "derivada_compleja([función],[h],[x0])\n",
       "\n",
       "Por defecto $x_0=0.0$\n",
       "\n",
       "Sólo se muestra la parte imaginaria del resultado.\n"
      ]
     },
     "execution_count": 19,
     "metadata": {},
     "output_type": "execute_result"
    }
   ],
   "source": [
    "?derivada_compleja"
   ]
  },
  {
   "cell_type": "code",
   "execution_count": 20,
   "metadata": {
    "collapsed": false
   },
   "outputs": [
    {
     "data": {
      "text/plain": [
       "9.0"
      ]
     },
     "execution_count": 20,
     "metadata": {},
     "output_type": "execute_result"
    }
   ],
   "source": [
    "derivada_compleja(f,0.00000000001,1.0)"
   ]
  },
  {
   "cell_type": "code",
   "execution_count": 21,
   "metadata": {
    "collapsed": false
   },
   "outputs": [],
   "source": [
    "error_3=[]#Vector vacio que será llenado con los valores de error para cada h.\n",
    "\n",
    "for i=1:len\n",
    "    \n",
    "   derivadas_3=derivada_compleja(f,vector_h[i],1.0)#Valor de la derivada para cada h.\n",
    "    \n",
    "    Error_absoluto_3=abs(derivadas_3-9)#Valor del error para cada derivada. \n",
    "\n",
    "    push!(error_3,Error_absoluto_3)#Agregamos los valores de error obtenidos al vector. \n",
    "    \n",
    "end"
   ]
  },
  {
   "cell_type": "code",
   "execution_count": 22,
   "metadata": {
    "collapsed": false
   },
   "outputs": [
    {
     "data": {
      "text/plain": [
       "200-element Array{Any,1}:\n",
       " 0.0        \n",
       " 1.77636e-15\n",
       " 0.0        \n",
       " 0.0        \n",
       " 0.0        \n",
       " 0.0        \n",
       " 0.0        \n",
       " 0.0        \n",
       " 1.77636e-15\n",
       " 0.0        \n",
       " 0.0        \n",
       " 1.77636e-15\n",
       " 1.77636e-15\n",
       " ⋮          \n",
       " 2.06754    \n",
       " 2.10566    \n",
       " 2.13228    \n",
       " 2.21404    \n",
       " 2.30217    \n",
       " 2.36211    \n",
       " 2.42307    \n",
       " 2.42688    \n",
       " 2.78161    \n",
       " 2.83432    \n",
       " 2.89901    \n",
       " 2.91357    "
      ]
     },
     "execution_count": 22,
     "metadata": {},
     "output_type": "execute_result"
    }
   ],
   "source": [
    "error_3"
   ]
  },
  {
   "cell_type": "code",
   "execution_count": 23,
   "metadata": {
    "collapsed": false
   },
   "outputs": [
    {
     "data": {
      "image/png": "[encoded data removed]",
      "text/plain": [
       "PyPlot.Figure(PyObject <matplotlib.figure.Figure object at 0x7f9da4300be0>)"
      ]
     },
     "metadata": {},
     "output_type": "display_data"
    }
   ],
   "source": [
    "using PyPlot\n",
    "\n",
    "plot(vector_h,error_3)#Vectores a graficar: plot([vector de valores para el eje X],[vector de valores para el eje Y])\n",
    "#plot(vector_h,derivadas_2)\n",
    "xlabel(\"h\") #Etiqueta para el eje X\n",
    "ylabel(\"Error\") #Etiqueta para el eje Y\n",
    "title(\"Derivada compleja: Error en función de h\")#Título de la gráfica\n",
    "\n",
    "xscale(\"log\")#Escala logarítmica para el eje X\n",
    "yscale(\"log\")#Escala logarítmica para el eje Y\n",
    "\n",
    "show()"
   ]
  },
  {
   "cell_type": "markdown",
   "metadata": {
    "deletable": true,
    "editable": true
   },
   "source": [
    "## Ejercicio 4: Preguntas"
   ]
  },
  {
   "cell_type": "markdown",
   "metadata": {
    "deletable": true,
    "editable": true
   },
   "source": [
    "- ¿Cuál de las definiciones anteriores es mejor en términos de dar el valor *más exacto* de la derivada? Den un argumento sólido de su conclusión en términos del tipo de convergencia hacia el valor exacto."
   ]
  },
  {
   "cell_type": "code",
   "execution_count": null,
   "metadata": {
    "collapsed": true,
    "deletable": true,
    "editable": true
   },
   "outputs": [],
   "source": []
  },
  {
   "cell_type": "markdown",
   "metadata": {
    "deletable": true,
    "editable": true
   },
   "source": [
    "- ¿Qué comportamiento mostrado por las derivadas en términos de $h$ nos incomoda más? ¿A qué atribuyen esto?"
   ]
  },
  {
   "cell_type": "code",
   "execution_count": null,
   "metadata": {
    "collapsed": true,
    "deletable": true,
    "editable": true
   },
   "outputs": [],
   "source": []
  }
 ],
 "metadata": {
  "kernel_info": {
   "name": "julia-0.5"
  },
  "kernelspec": {
   "display_name": "Julia 0.5.0",
   "language": "julia",
   "name": "julia-0.5"
  },
  "language_info": {
   "file_extension": ".jl",
   "mimetype": "application/julia",
   "name": "julia",
   "version": "0.5.0"
  }
 },
 "nbformat": 4,
 "nbformat_minor": 0
}
