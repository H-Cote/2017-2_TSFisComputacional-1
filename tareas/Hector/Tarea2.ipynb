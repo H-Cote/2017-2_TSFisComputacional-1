{
 "cells": [
  {
   "cell_type": "markdown",
   "metadata": {
    "deletable": true,
    "editable": true
   },
   "source": [
    "# Tarea 2: Derivación numérica"
   ]
  },
  {
   "cell_type": "markdown",
   "metadata": {
    "deletable": true,
    "editable": true
   },
   "source": [
    "Fecha de envío del PR inicial: **martes 14 de marzo**\n",
    "\n",
    "Fecha de aceptación del PR: **lunes 20 de marzo**"
   ]
  },
  {
   "cell_type": "markdown",
   "metadata": {
    "deletable": true,
    "editable": true
   },
   "source": [
    "## Ejercicio 1: Derivada *derecha*\n",
    "\n",
    "(a) Definan una función `derivada_derecha` que calcule *numéricamente* la derivada de una función $f(x)$ en una variable (a priori arbitaria) que se debe introducir como argumento, en un punto $x_0$ arbitrario, pero que por default lo hace en  $x_0=0.0$. \n",
    "\n",
    "Para esto, utilicen la aproximación de la derivada, que se basa en su definición:\n",
    "\n",
    "\\begin{equation}\n",
    "f'(x_0) \\approx \\frac{\\Delta f_+}{\\Delta x} = \\frac{f(x_0+h)-f(x_0)}{h},\n",
    "\\end{equation}\n",
    "\n",
    "lo que requiere la especificación de `h`. (Este método también se conoce por el nombre de *diferencias finitas*.)\n",
    "\n",
    "(b) A fin de simular el $\\lim_{h\\to 0}$, consideren distintos valores de $h$ que precisamente simulen dicho límite. Para cada valor de $h$ calculen el error absoluto del cálculo numérico (respecto al valor *exacto*, que deberán conocer analíticamente). \n",
    "\n",
    "Para ser concretos, prueben su implementación de `derivada_derecha` con la función de prueba $f(x) = 3x^3-2$, en $x_0=1$. Dibujen, como función de $h$, el error de su cálculo; usen escala logarítmica en ambos ejes. A partir de eso, ¿qué conclusión podemos sacar sobre *la convergencia* del cálculo numérico de la derivada, o sea, cómo nos acercamos al valor *exacto* de la deriva al considerar $lim_{h\\to 0}$? \n"
   ]
  },
  {
   "cell_type": "code",
   "execution_count": 1,
   "metadata": {
    "collapsed": false,
    "deletable": true,
    "editable": true
   },
   "outputs": [
    {
     "data": {
      "text/plain": [
       "derivada_derecha"
      ]
     },
     "execution_count": 1,
     "metadata": {},
     "output_type": "execute_result"
    }
   ],
   "source": [
    "doc\"\"\"\n",
    "derivada_derecha(f,h,x0)\n",
    "\n",
    "Esta función calcula la derivada derecha de una función utilizando la expresión:\n",
    "\n",
    "\\$f'(x_0) \\approx \\frac{\\Delta f_+}{\\Delta x} = \\frac{f(x_0+h)-f(x_0)}{h}\\$\n",
    "\n",
    "Su estructura es la siguiente:\n",
    "\n",
    "derivada_derecha([función],[h],[x0])\n",
    "\n",
    "Por defecto \\$x_0=0.0\\$\n",
    "\n",
    "\"\"\"\n",
    "\n",
    "function derivada_derecha(f,h,x0 = 0.0)\n",
    "    # código\n",
    "    num=f(x0+h)-f(x0) #Numerador\n",
    "    deno=h            #Denominador\n",
    "    \n",
    "    derivada=num/deno\n",
    "    \n",
    "    return derivada \n",
    "    \n",
    "end"
   ]
  },
  {
   "cell_type": "code",
   "execution_count": 2,
   "metadata": {
    "collapsed": false
   },
   "outputs": [
    {
     "data": {
      "text/html": [
       "2 methods for generic function <b>derivada_derecha</b>:<ul><li> derivada_derecha(f, h) at In[1]:18</li> <li> derivada_derecha(f, h, x0) at In[1]:18</li> </ul>"
      ],
      "text/plain": [
       "# 2 methods for generic function \"derivada_derecha\":\n",
       "derivada_derecha(f, h) at In[1]:18\n",
       "derivada_derecha(f, h, x0) at In[1]:18"
      ]
     },
     "execution_count": 2,
     "metadata": {},
     "output_type": "execute_result"
    }
   ],
   "source": [
    "methods(derivada_derecha)"
   ]
  },
  {
   "cell_type": "code",
   "execution_count": 3,
   "metadata": {
    "collapsed": false
   },
   "outputs": [
    {
     "name": "stdout",
     "output_type": "stream",
     "text": [
      "search:\n",
      "\n"
     ]
    },
    {
     "data": {
      "text/markdown": [
       "derivada_derecha(f,h,x0)\n",
       "\n",
       "Esta función calcula la derivada derecha de una función utilizando la expresión:\n",
       "\n",
       "$f'(x_0) \\approx \\frac{\\Delta f_+}{\\Delta x} = \\frac{f(x_0+h)-f(x_0)}{h}$\n",
       "\n",
       "Su estructura es la siguiente:\n",
       "\n",
       "derivada_derecha([función],[h],[x0])\n",
       "\n",
       "Por defecto $x_0=0.0$\n"
      ],
      "text/plain": [
       "derivada_derecha(f,h,x0)\n",
       "\n",
       "Esta función calcula la derivada derecha de una función utilizando la expresión:\n",
       "\n",
       "$f'(x_0) \\approx \\frac{\\Delta f_+}{\\Delta x} = \\frac{f(x_0+h)-f(x_0)}{h}$\n",
       "\n",
       "Su estructura es la siguiente:\n",
       "\n",
       "derivada_derecha([función],[h],[x0])\n",
       "\n",
       "Por defecto $x_0=0.0$\n"
      ]
     },
     "execution_count": 3,
     "metadata": {},
     "output_type": "execute_result"
    }
   ],
   "source": [
    "?derivada_derecha"
   ]
  },
  {
   "cell_type": "code",
   "execution_count": 4,
   "metadata": {
    "collapsed": false
   },
   "outputs": [
    {
     "data": {
      "text/plain": [
       "f (generic function with 1 method)"
      ]
     },
     "execution_count": 4,
     "metadata": {},
     "output_type": "execute_result"
    }
   ],
   "source": [
    "#Función a evaluar\n",
    "function f(x)\n",
    "    return 3x^3-2\n",
    "end"
   ]
  },
  {
   "cell_type": "markdown",
   "metadata": {},
   "source": [
    "Cálculo analítico de la derivada"
   ]
  },
  {
   "cell_type": "markdown",
   "metadata": {},
   "source": [
    "Aplicando la fórmula para la derivada a la función $f(x)=3x³-2$ con $x_0=1$ tenemos: $\\lim_{h \\to 0} \\frac{(3(x_0+h)³-2)-(3x_0³-2)}{h} = \\lim_{h \\to 0} \\frac{(3(h³+3h²x_0+3hx_0²+x_0³)-2)-(3x_0³-2)}{h}=\\lim_{h \\to 0}  \\frac{(3h³+9h²x_0+9hx_0²+3x_0³-2)-(3x_0³-2)}{h} = \\lim_{h \\to 0} \\frac{3h³+9h²x_0+9hx_0²+3x_0³-2-3x_0³+2}{h}=\\lim_{h \\to 0}  \\frac{3h³+9h²x_0+9hx_0²}{h}=\\lim_{h \\to 0} \\frac{h(3h²+9hx_0+9x_0²)}{h} =\\lim_{h \\to 0}  (3h²+9hx_0+9x_0²) =9x_0²$ \n",
    "como $x_0=1$ entonces $\\lim_{h \\to 0} \\frac{(3(x_0+h)³-2)-(3x_0³-2)}{h} =9$"
   ]
  },
  {
   "cell_type": "code",
   "execution_count": 5,
   "metadata": {
    "collapsed": false,
    "deletable": true,
    "editable": true,
    "inputHidden": false,
    "outputHidden": false
   },
   "outputs": [
    {
     "data": {
      "text/plain": [
       "9.000000744663339"
      ]
     },
     "execution_count": 5,
     "metadata": {},
     "output_type": "execute_result"
    }
   ],
   "source": [
    "deri=derivada_derecha(f,0.00000000001,1.0)"
   ]
  },
  {
   "cell_type": "markdown",
   "metadata": {},
   "source": [
    "Cálculo del error absoluto"
   ]
  },
  {
   "cell_type": "code",
   "execution_count": 6,
   "metadata": {
    "collapsed": false
   },
   "outputs": [
    {
     "data": {
      "text/plain": [
       "7.446633389918134e-7"
      ]
     },
     "execution_count": 6,
     "metadata": {},
     "output_type": "execute_result"
    }
   ],
   "source": [
    "Error_absoluto=abs(deri-9)"
   ]
  },
  {
   "cell_type": "code",
   "execution_count": 10,
   "metadata": {
    "collapsed": false
   },
   "outputs": [
    {
     "data": {
      "text/plain": [
       "15-element Array{Float64,1}:\n",
       " 1.0e-7\n",
       " 1.0e-6\n",
       " 1.0e-5\n",
       " 0.0001\n",
       " 0.001 \n",
       " 0.01  \n",
       " 0.1   \n",
       " 0.15  \n",
       " 0.2   \n",
       " 0.25  \n",
       " 0.3   \n",
       " 0.35  \n",
       " 0.4   \n",
       " 0.45  \n",
       " 0.5   "
      ]
     },
     "execution_count": 10,
     "metadata": {},
     "output_type": "execute_result"
    }
   ],
   "source": [
    "vector_h=[0.0000001,0.000001,0.00001,0.0001,0.001,0.01,0.1,0.15,0.20,0.25,0.30,0.35,0.40,0.45,0.5]"
   ]
  },
  {
   "cell_type": "code",
   "execution_count": 11,
   "metadata": {
    "collapsed": false,
    "scrolled": true
   },
   "outputs": [
    {
     "name": "stderr",
     "output_type": "stream",
     "text": [
      "WARNING: imported binding for error overwritten in module Main\n"
     ]
    }
   ],
   "source": [
    "len=length(vector_h) #Cantidad de valores de h\n",
    "error=[] #Vector vacio que será llenado con los valores de error para cada h.\n",
    "#der=[]\n",
    "for i=1:len\n",
    "    \n",
    "   derivadas=BigFloat(derivada_derecha(f,vector_h[i],1.0))#Valor de la derivada para cada h.\n",
    "    \n",
    "    Error_absoluto=abs(derivadas-9)#Valor del error para cada derivada. \n",
    "    #println(i,\"\\t\",Error_absoluto)\n",
    "    #println(i,\"\\t\",derivadas)\n",
    "    #push!(der,derivadas)\n",
    "    push!(error,Error_absoluto)#Agregamos los valores de error obtenidos al vector. \n",
    "    \n",
    "end"
   ]
  },
  {
   "cell_type": "code",
   "execution_count": 12,
   "metadata": {
    "collapsed": false
   },
   "outputs": [
    {
     "data": {
      "text/plain": [
       "15-element Array{Any,1}:\n",
       " 9.045354545378359034657478332519531250000000000000000000000000000000000000000000e-07\n",
       " 8.999393571684777271002531051635742187500000000000000000000000000000000000000000e-06\n",
       " 9.000033286099551332881674170494079589843750000000000000000000000000000000000000e-05\n",
       " 9.000299939856404307647608220577239990234375000000000000000000000000000000000000e-04\n",
       " 9.002999998294569650170160457491874694824218750000000000000000000000000000000000e-03\n",
       " 9.029999999999560600372205954045057296752929687500000000000000000000000000000000e-02\n",
       " 9.300000000000121502807814977131783962249755859375000000000000000000000000000000e-01\n",
       " 1.417499999999993320898283855058252811431884765625000000000000000000000000000000    \n",
       " 1.919999999999999928945726423989981412887573242187500000000000000000000000000000    \n",
       " 2.437500000000000000000000000000000000000000000000000000000000000000000000000000    \n",
       " 2.970000000000004192202140984591096639633178710937500000000000000000000000000000    \n",
       " 3.517500000000003623767952376510947942733764648437500000000000000000000000000000    \n",
       " 4.079999999999992965626915975008159875869750976562500000000000000000000000000000    \n",
       " 4.657500000000000639488462184090167284011840820312500000000000000000000000000000    \n",
       " 5.250000000000000000000000000000000000000000000000000000000000000000000000000000    "
      ]
     },
     "execution_count": 12,
     "metadata": {},
     "output_type": "execute_result"
    }
   ],
   "source": [
    "error"
   ]
  },
  {
   "cell_type": "code",
   "execution_count": 13,
   "metadata": {
    "collapsed": false
   },
   "outputs": [
    {
     "data": {
      "image/png": "[encoded data removed]",
      "text/plain": [
       "PyPlot.Figure(PyObject <matplotlib.figure.Figure object at 0x7f11c46331d0>)"
      ]
     },
     "metadata": {},
     "output_type": "display_data"
    }
   ],
   "source": [
    "using PyPlot\n",
    "\n",
    "plot(vector_h,error)#Vectores a graficar: plot([vector de valores para el eje X],[vector de valores para el eje Y])\n",
    "#plot(vector_h,derivadas)\n",
    "xlabel(\"h\") #Etiqueta para el eje X\n",
    "ylabel(\"Error\")#Etiqueta para el eje Y\n",
    "title(\"Derivada derecha: Error en función de h\")#Título de la gráfica\n",
    "\n",
    "xscale(\"log\")#Escala logarítmica para el eje X\n",
    "yscale(\"log\")#Escala logarítmica para el eje Y\n",
    "\n",
    "show()\n",
    "\n",
    "\n"
   ]
  },
  {
   "cell_type": "markdown",
   "metadata": {},
   "source": [
    "El error disminuye confome damos una h más pequeña"
   ]
  },
  {
   "cell_type": "markdown",
   "metadata": {
    "deletable": true,
    "editable": true
   },
   "source": [
    "## Ejercicio 2: Derivada simétrica\n",
    "\n",
    "Repitan el ejercicio anterior usando la aproximación que se basa en la versión *simétrica* de la definición de la derivada, es decir:\n",
    "\n",
    "\\begin{equation}\n",
    "f'(x_0) \\approx \\frac{ \\Delta f_{sym}}{\\Delta x} = \\lim_{h\\to 0} \\frac{f(x_0+h)-f(x_0-h)}{2h}.\n",
    "\\end{equation}\n",
    "\n",
    "¿Qué pueden concluir respecto a la convergencia? ¿Cómo se compara este algoritmo con el del ejercicio anterior?"
   ]
  },
  {
   "cell_type": "code",
   "execution_count": 14,
   "metadata": {
    "collapsed": false,
    "deletable": true,
    "editable": true
   },
   "outputs": [
    {
     "data": {
      "text/plain": [
       "derivada_simetrica"
      ]
     },
     "execution_count": 14,
     "metadata": {},
     "output_type": "execute_result"
    }
   ],
   "source": [
    "doc\"\"\"\n",
    "derivada_simetrica(f,h,x0)\n",
    "\n",
    "Esta función calcula la derivada simetrica de una función utilizando la expresión:\n",
    "\n",
    "\\$f'(x_0) \\approx \\frac{ \\Delta f_{sym}}{\\Delta x} = \\lim_{h\\to 0} \\frac{f(x_0+h)-f(x_0-h)}{2h}\\$\n",
    "\n",
    "Su estructura es la siguiente:\n",
    "\n",
    "derivada_simetrica([función],[h],[x0])\n",
    "\n",
    "Por defecto \\$x_0=0.0\\$\n",
    "\n",
    "\"\"\"\n",
    "\n",
    "function derivada_simetrica(f,h,x0 = 0.0)\n",
    "    \n",
    "    num=f(x0+h)-f(x0-h)\n",
    "    deno=2*h\n",
    "    \n",
    "    derivada=num/deno\n",
    "    \n",
    "    return derivada \n",
    "    \n",
    "end"
   ]
  },
  {
   "cell_type": "code",
   "execution_count": 15,
   "metadata": {
    "collapsed": false
   },
   "outputs": [
    {
     "name": "stdout",
     "output_type": "stream",
     "text": [
      "search:\n",
      "\n"
     ]
    },
    {
     "data": {
      "text/markdown": [
       "derivada_simetrica(f,h,x0)\n",
       "\n",
       "Esta función calcula la derivada simetrica de una función utilizando la expresión:\n",
       "\n",
       "$f'(x_0) \\approx \\frac{ \\Delta f_{sym}}{\\Delta x} = \\lim_{h\\to 0} \\frac{f(x_0+h)-f(x_0-h)}{2h}$\n",
       "\n",
       "Su estructura es la siguiente:\n",
       "\n",
       "derivada_simetrica([función],[h],[x0])\n",
       "\n",
       "Por defecto $x_0=0.0$\n"
      ],
      "text/plain": [
       "derivada_simetrica(f,h,x0)\n",
       "\n",
       "Esta función calcula la derivada simetrica de una función utilizando la expresión:\n",
       "\n",
       "$f'(x_0) \\approx \\frac{ \\Delta f_{sym}}{\\Delta x} = \\lim_{h\\to 0} \\frac{f(x_0+h)-f(x_0-h)}{2h}$\n",
       "\n",
       "Su estructura es la siguiente:\n",
       "\n",
       "derivada_simetrica([función],[h],[x0])\n",
       "\n",
       "Por defecto $x_0=0.0$\n"
      ]
     },
     "execution_count": 15,
     "metadata": {},
     "output_type": "execute_result"
    }
   ],
   "source": [
    "?derivada_simetrica"
   ]
  },
  {
   "cell_type": "code",
   "execution_count": 16,
   "metadata": {
    "collapsed": false
   },
   "outputs": [
    {
     "data": {
      "text/plain": [
       "9.000000744663339"
      ]
     },
     "execution_count": 16,
     "metadata": {},
     "output_type": "execute_result"
    }
   ],
   "source": [
    "derivada_simetrica(f,0.00000000001,1.0)"
   ]
  },
  {
   "cell_type": "code",
   "execution_count": 17,
   "metadata": {
    "collapsed": true
   },
   "outputs": [],
   "source": [
    "error_2=[]#Vector vacio que será llenado con los valores de error para cada h.\n",
    "\n",
    "for i=1:len\n",
    "    \n",
    "   derivadas_2=BigFloat(derivada_simetrica(f,vector_h[i],1.0))#Valor de la derivada para cada h.\n",
    "    \n",
    "    Error_absoluto_2=abs(derivadas_2-9)#Valor del error para cada derivada. \n",
    "\n",
    "    push!(error_2,Error_absoluto_2)#Agregamos los valores de error obtenidos al vector. \n",
    "    \n",
    "end"
   ]
  },
  {
   "cell_type": "code",
   "execution_count": 18,
   "metadata": {
    "collapsed": false
   },
   "outputs": [
    {
     "data": {
      "text/plain": [
       "15-element Array{Any,1}:\n",
       " 8.139124929584795609116554260253906250000000000000000000000000000000000000000000e-10\n",
       " 7.426592674164567142724990844726562500000000000000000000000000000000000000000000e-11\n",
       " 3.032099016309075523167848587036132812500000000000000000000000000000000000000000e-10\n",
       " 2.999501447220609406940639019012451171875000000000000000000000000000000000000000e-08\n",
       " 2.999999257013996611931361258029937744140625000000000000000000000000000000000000e-06\n",
       " 3.000000000046298964662128128111362457275390625000000000000000000000000000000000e-04\n",
       " 3.000000000000468958205601666122674942016601562500000000000000000000000000000000e-02\n",
       " 6.749999999999722888333053560927510261535644531250000000000000000000000000000000e-02\n",
       " 1.199999999999992184029906638897955417633056640625000000000000000000000000000000e-01\n",
       " 1.875000000000000000000000000000000000000000000000000000000000000000000000000000e-01\n",
       " 2.700000000000031263880373444408178329467773437500000000000000000000000000000000e-01\n",
       " 3.675000000000014921397450962103903293609619140625000000000000000000000000000000e-01\n",
       " 4.799999999999968736119626555591821670532226562500000000000000000000000000000000e-01\n",
       " 6.074999999999999289457264239899814128875732421875000000000000000000000000000000e-01\n",
       " 7.500000000000000000000000000000000000000000000000000000000000000000000000000000e-01"
      ]
     },
     "execution_count": 18,
     "metadata": {},
     "output_type": "execute_result"
    }
   ],
   "source": [
    "error_2"
   ]
  },
  {
   "cell_type": "code",
   "execution_count": 19,
   "metadata": {
    "collapsed": false
   },
   "outputs": [
    {
     "data": {
      "image/png": "[encoded data removed]",
      "text/plain": [
       "PyPlot.Figure(PyObject <matplotlib.figure.Figure object at 0x7f11c0d771d0>)"
      ]
     },
     "metadata": {},
     "output_type": "display_data"
    }
   ],
   "source": [
    "using PyPlot\n",
    "\n",
    "plot(vector_h,error_2)#Vectores a graficar: plot([vector de valores para el eje X],[vector de valores para el eje Y])\n",
    "#plot(vector_h,derivadas_2)\n",
    "xlabel(\"h\") #Etiqueta para el eje X\n",
    "ylabel(\"Error\") #Etiqueta para el eje Y\n",
    "title(\"Derivada simétrica: Error en función de h\")#Título de la gráfica\n",
    "\n",
    "xscale(\"log\")#Escala logarítmica para el eje X\n",
    "yscale(\"log\")#Escala logarítmica para el eje Y\n",
    "\n",
    "show()\n"
   ]
  },
  {
   "cell_type": "markdown",
   "metadata": {},
   "source": [
    "En general el error es difectamente proporcional a h, excepto en cierto intervalo. "
   ]
  },
  {
   "cell_type": "markdown",
   "metadata": {
    "deletable": true,
    "editable": true
   },
   "source": [
    "## Ejercicio 3: Derivada *compleja*"
   ]
  },
  {
   "cell_type": "markdown",
   "metadata": {
    "deletable": true,
    "editable": true
   },
   "source": [
    "Repitan el ejercicio anterior considerando ahora que el incremento de la variable independiente es infinitesimal e *imaginario*. Esto es, nos basaremos en la definición de la derivada dada por:\n",
    "\n",
    "\\begin{equation}\n",
    "f'(x_0) \\approx \\frac{\\Delta f_{cmplx}(x_0)}{\\Delta x} = \\Im\\Big(\\frac{f(x_0+ i h)}{h}\\Big).\n",
    "\\end{equation}\n"
   ]
  },
  {
   "cell_type": "code",
   "execution_count": 20,
   "metadata": {
    "collapsed": false,
    "deletable": true,
    "editable": true
   },
   "outputs": [
    {
     "data": {
      "text/plain": [
       "derivada_compleja"
      ]
     },
     "execution_count": 20,
     "metadata": {},
     "output_type": "execute_result"
    }
   ],
   "source": [
    "doc\"\"\"\n",
    "derivada_compleja(f,h,x0)\n",
    "\n",
    "Esta función calcula la derivada compleja de una función utilizando la expresión:\n",
    "\n",
    "\\$f'(x_0) \\approx \\frac{\\Delta f_{cmplx}(x_0)}{\\Delta x} = \\Im\\Big(\\frac{f(x_0+ i h)}{h}\\Big)\\$\n",
    "\n",
    "Su estructura es la siguiente:\n",
    "\n",
    "derivada_compleja([función],[h],[x0])\n",
    "\n",
    "Por defecto \\$x_0=0.0\\$\n",
    "\n",
    "\"\"\"\n",
    "\n",
    "function derivada_compleja(f,h,x0 = 0.0)\n",
    "    \n",
    "    num=f(x0+h*im)\n",
    "    deno=h\n",
    "    \n",
    "    derivada=num/deno\n",
    "    \n",
    "    return derivada \n",
    "    \n",
    "end"
   ]
  },
  {
   "cell_type": "code",
   "execution_count": 42,
   "metadata": {
    "collapsed": false
   },
   "outputs": [
    {
     "name": "stdout",
     "output_type": "stream",
     "text": [
      "search:\n",
      "\n"
     ]
    },
    {
     "data": {
      "text/markdown": [
       "derivada_compleja(f,h,x0)\n",
       "\n",
       "Esta función calcula la derivada compleja de una función utilizando la expresión:\n",
       "\n",
       "$f'(x_0) \\approx \\frac{\\Delta f_{cmplx}(x_0)}{\\Delta x} = \\Im\\Big(\\frac{f(x_0+ i h)}{h}\\Big)$\n",
       "\n",
       "Su estructura es la siguiente:\n",
       "\n",
       "derivada_compleja([función],[h],[x0])\n",
       "\n",
       "Por defecto $x_0=0.0$\n"
      ],
      "text/plain": [
       "derivada_compleja(f,h,x0)\n",
       "\n",
       "Esta función calcula la derivada compleja de una función utilizando la expresión:\n",
       "\n",
       "$f'(x_0) \\approx \\frac{\\Delta f_{cmplx}(x_0)}{\\Delta x} = \\Im\\Big(\\frac{f(x_0+ i h)}{h}\\Big)$\n",
       "\n",
       "Su estructura es la siguiente:\n",
       "\n",
       "derivada_compleja([función],[h],[x0])\n",
       "\n",
       "Por defecto $x_0=0.0$\n"
      ]
     },
     "execution_count": 42,
     "metadata": {},
     "output_type": "execute_result"
    }
   ],
   "source": [
    "?derivada_compleja"
   ]
  },
  {
   "cell_type": "code",
   "execution_count": 22,
   "metadata": {
    "collapsed": false
   },
   "outputs": [
    {
     "data": {
      "text/plain": [
       "1.0e11 + 9.0im"
      ]
     },
     "execution_count": 22,
     "metadata": {},
     "output_type": "execute_result"
    }
   ],
   "source": [
    "derivada_compleja(f,0.00000000001,1.0)"
   ]
  },
  {
   "cell_type": "code",
   "execution_count": 24,
   "metadata": {
    "collapsed": false
   },
   "outputs": [],
   "source": [
    "error_3=[]#Vector vacio que será llenado con los valores de error para cada h.\n",
    "\n",
    "for i=1:len\n",
    "    \n",
    "   derivadas_3=derivada_compleja(f,vector_h[i],1.0)#Valor de la derivada para cada h.\n",
    "    \n",
    "    Error_absoluto_3=abs(derivadas_3-9)#Valor del error para cada derivada. \n",
    "\n",
    "    push!(error_3,Error_absoluto_3)#Agregamos los valores de error obtenidos al vector. \n",
    "    \n",
    "end"
   ]
  },
  {
   "cell_type": "code",
   "execution_count": 25,
   "metadata": {
    "collapsed": false
   },
   "outputs": [
    {
     "data": {
      "text/plain": [
       "15-element Array{Any,1}:\n",
       "      9.99999e6\n",
       " 999991.0      \n",
       "  99991.0      \n",
       "   9991.0      \n",
       "    991.032    \n",
       "     91.3544   \n",
       "      8.97056  \n",
       "      9.66212  \n",
       "     10.6063   \n",
       "     11.4115   \n",
       "     12.0919   \n",
       "     12.6837   \n",
       "     13.2136   \n",
       "     13.6994   \n",
       "     14.1532   "
      ]
     },
     "execution_count": 25,
     "metadata": {},
     "output_type": "execute_result"
    }
   ],
   "source": [
    "error_3"
   ]
  },
  {
   "cell_type": "code",
   "execution_count": 26,
   "metadata": {
    "collapsed": false
   },
   "outputs": [
    {
     "data": {
      "image/png": "[encoded data removed]",
      "text/plain": [
       "PyPlot.Figure(PyObject <matplotlib.figure.Figure object at 0x7f11c0bfdbe0>)"
      ]
     },
     "metadata": {},
     "output_type": "display_data"
    }
   ],
   "source": [
    "using PyPlot\n",
    "\n",
    "plot(vector_h,error_3)#Vectores a graficar: plot([vector de valores para el eje X],[vector de valores para el eje Y])\n",
    "#plot(vector_h,derivadas_2)\n",
    "xlabel(\"h\") #Etiqueta para el eje X\n",
    "ylabel(\"Error\") #Etiqueta para el eje Y\n",
    "title(\"Derivada compleja: Error en función de h\")#Título de la gráfica\n",
    "\n",
    "xscale(\"log\")#Escala logarítmica para el eje X\n",
    "yscale(\"log\")#Escala logarítmica para el eje Y\n",
    "\n",
    "show()"
   ]
  },
  {
   "cell_type": "markdown",
   "metadata": {
    "deletable": true,
    "editable": true
   },
   "source": [
    "## Ejercicio 4: Preguntas"
   ]
  },
  {
   "cell_type": "markdown",
   "metadata": {
    "deletable": true,
    "editable": true
   },
   "source": [
    "- ¿Cuál de las definiciones anteriores es mejor en términos de dar el valor *más exacto* de la derivada? Den un argumento sólido de su conclusión en términos del tipo de convergencia hacia el valor exacto."
   ]
  },
  {
   "cell_type": "code",
   "execution_count": null,
   "metadata": {
    "collapsed": true,
    "deletable": true,
    "editable": true
   },
   "outputs": [],
   "source": []
  },
  {
   "cell_type": "markdown",
   "metadata": {
    "deletable": true,
    "editable": true
   },
   "source": [
    "- ¿Qué comportamiento mostrado por las derivadas en términos de $h$ nos incomoda más? ¿A qué atribuyen esto?"
   ]
  },
  {
   "cell_type": "code",
   "execution_count": null,
   "metadata": {
    "collapsed": true,
    "deletable": true,
    "editable": true
   },
   "outputs": [],
   "source": []
  }
 ],
 "metadata": {
  "kernel_info": {
   "name": "julia-0.5"
  },
  "kernelspec": {
   "display_name": "Julia 0.5.0",
   "language": "julia",
   "name": "julia-0.5"
  },
  "language_info": {
   "file_extension": ".jl",
   "mimetype": "application/julia",
   "name": "julia",
   "version": "0.5.0"
  }
 },
 "nbformat": 4,
 "nbformat_minor": 0
}
