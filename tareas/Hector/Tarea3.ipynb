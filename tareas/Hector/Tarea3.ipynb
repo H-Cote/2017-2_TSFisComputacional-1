{
 "cells": [
  {
   "cell_type": "markdown",
   "metadata": {},
   "source": [
    "# Tarea 3: Derivación automática 1"
   ]
  },
  {
   "cell_type": "markdown",
   "metadata": {},
   "source": [
    "Fecha de envío del PR inicial: **lunes 27 de marzo, antes de la clase**\n",
    "\n",
    "Fecha de aceptación del PR: **martes 4 de abril, antes de la clase**"
   ]
  },
  {
   "cell_type": "markdown",
   "metadata": {},
   "source": [
    "## Ejercicio 1\n",
    "\n",
    "Implementen una nueva estructura paramétrica (`type`) que llamaremos `Dual` y que defina los duales, donde el parámetro debe ser un subtipo de `Real`; la siguiente celda sirve para empezar. La parte que identifica a $f_0$ será llamada `fun`, y la correspondiente a $f'_0$ será `der`.\n",
    "\n",
    "La definición debe incluir métodos que sean compatibles con las dos propiedades arriba mencionadas, es decir, que el dual de una constante (cualquier número real) sea $(c,0)$, y que el de la variable independiente sea $(x_0,1)$. Para lo segundo definiremos una función `xdual` con la propiedad mencionada.\n",
    "\n",
    "---"
   ]
  },
  {
   "cell_type": "code",
   "execution_count": 1,
   "metadata": {
    "collapsed": false
   },
   "outputs": [
    {
     "data": {
      "text/plain": [
       "Dual"
      ]
     },
     "execution_count": 1,
     "metadata": {},
     "output_type": "execute_result"
    }
   ],
   "source": [
    "\"\"\"\n",
    "    Dual{T<:Real}\n",
    "\n",
    "Definición de los duales, donde lo campos son:\n",
    "\n",
    "fun y der que corresponden a una función y su derivada respectivamente \n",
    "...\n",
    "\"\"\"\n",
    "type Dual{T<:Real}\n",
    "    # código: \n",
    "    fun::T\n",
    "    der::T\n",
    "end"
   ]
  },
  {
   "cell_type": "code",
   "execution_count": 2,
   "metadata": {
    "collapsed": false
   },
   "outputs": [
    {
     "data": {
      "text/html": [
       "2 methods for generic function <b>Type</b>:<ul><li> (::<b>Type{Dual}</b>)<i>{T<:Real}</i>(fun::<b>T</b>, der::<b>T</b>) at In[1]:11</li> <li> (::<b>Type{T}</b>)<i>{T}</i>(arg) at <a href=\"https://github.com/JuliaLang/julia/tree/6445c82d0060dbe82b88436f0f4371a4ee64d918/base/sysimg.jl#L53\" target=\"_blank\">sysimg.jl:53</a></li> </ul>"
      ],
      "text/plain": [
       "# 2 methods for generic function \"(::Type)\":\n",
       "(::Type{Dual}){T<:Real}(fun::T, der::T) at In[1]:11\n",
       "(::Type{T}){T}(arg) at sysimg.jl:53"
      ]
     },
     "execution_count": 2,
     "metadata": {},
     "output_type": "execute_result"
    }
   ],
   "source": [
    "methods(Dual)"
   ]
  },
  {
   "cell_type": "code",
   "execution_count": 3,
   "metadata": {
    "collapsed": false
   },
   "outputs": [
    {
     "data": {
      "text/plain": [
       "Dual{Int64}(1,2)"
      ]
     },
     "execution_count": 3,
     "metadata": {},
     "output_type": "execute_result"
    }
   ],
   "source": [
    "Dual(1,2)"
   ]
  },
  {
   "cell_type": "markdown",
   "metadata": {},
   "source": [
    "Si las entradas del dual no son del mismo tipo:"
   ]
  },
  {
   "cell_type": "code",
   "execution_count": 4,
   "metadata": {
    "collapsed": false
   },
   "outputs": [
    {
     "ename": "LoadError",
     "evalue": "MethodError: no method matching Dual{T<:Real}(::Int64, ::Float64)\u001b[0m\nClosest candidates are:\n  Dual{T<:Real}{T<:Real}(::T<:Real, \u001b[1m\u001b[31m::T<:Real\u001b[0m) at In[1]:11\n  Dual{T<:Real}{T}(::Any) at sysimg.jl:53\u001b[0m",
     "output_type": "error",
     "traceback": [
      "MethodError: no method matching Dual{T<:Real}(::Int64, ::Float64)\u001b[0m\nClosest candidates are:\n  Dual{T<:Real}{T<:Real}(::T<:Real, \u001b[1m\u001b[31m::T<:Real\u001b[0m) at In[1]:11\n  Dual{T<:Real}{T}(::Any) at sysimg.jl:53\u001b[0m",
      ""
     ]
    }
   ],
   "source": [
    "Dual(1, 2.4)"
   ]
  },
  {
   "cell_type": "code",
   "execution_count": 5,
   "metadata": {
    "collapsed": false
   },
   "outputs": [
    {
     "data": {
      "text/plain": [
       "Dual{T<:Real}"
      ]
     },
     "execution_count": 5,
     "metadata": {},
     "output_type": "execute_result"
    }
   ],
   "source": [
    "#= \n",
    "Definan un método que permita la promoción automática cuando \n",
    "las entradas para definir el dual no son del mismo tipo\n",
    "=#\n",
    "\n",
    "Dual(fun,der)= Dual(promote(fun,der)...)"
   ]
  },
  {
   "cell_type": "code",
   "execution_count": 6,
   "metadata": {
    "collapsed": false
   },
   "outputs": [
    {
     "data": {
      "text/plain": [
       "Dual{Float64}(1.0,2.4)"
      ]
     },
     "execution_count": 6,
     "metadata": {},
     "output_type": "execute_result"
    }
   ],
   "source": [
    "Dual(1, 2.4)"
   ]
  },
  {
   "cell_type": "markdown",
   "metadata": {},
   "source": [
    "Si sólo hay una entrada en el dual:"
   ]
  },
  {
   "cell_type": "code",
   "execution_count": 7,
   "metadata": {
    "collapsed": false
   },
   "outputs": [
    {
     "ename": "LoadError",
     "evalue": "MethodError: Cannot `convert` an object of type Int64 to an object of type Dual{T<:Real}\nThis may have arisen from a call to the constructor Dual{T<:Real}(...),\nsince type constructors fall back to convert methods.",
     "output_type": "error",
     "traceback": [
      "MethodError: Cannot `convert` an object of type Int64 to an object of type Dual{T<:Real}\nThis may have arisen from a call to the constructor Dual{T<:Real}(...),\nsince type constructors fall back to convert methods.",
      "",
      " in Dual{T<:Real}(::Int64) at ./sysimg.jl:53"
     ]
    }
   ],
   "source": [
    "Dual(4)"
   ]
  },
  {
   "cell_type": "code",
   "execution_count": 8,
   "metadata": {
    "collapsed": false
   },
   "outputs": [
    {
     "data": {
      "text/plain": [
       "Dual{T<:Real}"
      ]
     },
     "execution_count": 8,
     "metadata": {},
     "output_type": "execute_result"
    }
   ],
   "source": [
    "#= \n",
    "Aquí se define un método que garantiza que el dual de una constante \n",
    "(número) cumple lo requerido\n",
    "=#\n",
    "\n",
    "Dual(f)=Dual(f,0)"
   ]
  },
  {
   "cell_type": "code",
   "execution_count": 9,
   "metadata": {
    "collapsed": false
   },
   "outputs": [
    {
     "data": {
      "text/plain": [
       "Dual{Int64}(4,0)"
      ]
     },
     "execution_count": 9,
     "metadata": {},
     "output_type": "execute_result"
    }
   ],
   "source": [
    "Dual(4)"
   ]
  },
  {
   "cell_type": "code",
   "execution_count": 10,
   "metadata": {
    "collapsed": false
   },
   "outputs": [
    {
     "data": {
      "text/plain": [
       "Dual{Float64}(4.5,0.0)"
      ]
     },
     "execution_count": 10,
     "metadata": {},
     "output_type": "execute_result"
    }
   ],
   "source": [
    "Dual(4.5)"
   ]
  },
  {
   "cell_type": "markdown",
   "metadata": {},
   "source": [
    "Finalmente, el dual tiene los siguientes métodos:"
   ]
  },
  {
   "cell_type": "code",
   "execution_count": 11,
   "metadata": {
    "collapsed": false
   },
   "outputs": [
    {
     "data": {
      "text/html": [
       "4 methods for generic function <b>Type</b>:<ul><li> (::<b>Type{Dual}</b>)<i>{T<:Real}</i>(fun::<b>T</b>, der::<b>T</b>) at In[1]:11</li> <li> (::<b>Type{Dual}</b>)(f) at In[8]:6</li> <li> (::<b>Type{Dual}</b>)(fun, der) at In[5]:6</li> <li> (::<b>Type{T}</b>)<i>{T}</i>(arg) at <a href=\"https://github.com/JuliaLang/julia/tree/6445c82d0060dbe82b88436f0f4371a4ee64d918/base/sysimg.jl#L53\" target=\"_blank\">sysimg.jl:53</a></li> </ul>"
      ],
      "text/plain": [
       "# 4 methods for generic function \"(::Type)\":\n",
       "(::Type{Dual}){T<:Real}(fun::T, der::T) at In[1]:11\n",
       "(::Type{Dual})(f) at In[8]:6\n",
       "(::Type{Dual})(fun, der) at In[5]:6\n",
       "(::Type{T}){T}(arg) at sysimg.jl:53"
      ]
     },
     "execution_count": 11,
     "metadata": {},
     "output_type": "execute_result"
    }
   ],
   "source": [
    "methods(Dual)"
   ]
  },
  {
   "cell_type": "code",
   "execution_count": 12,
   "metadata": {
    "collapsed": false
   },
   "outputs": [
    {
     "data": {
      "text/plain": [
       "xdual"
      ]
     },
     "execution_count": 12,
     "metadata": {},
     "output_type": "execute_result"
    }
   ],
   "source": [
    "#= \n",
    "Aquí se define la función `xdual`, que se usará para identificar \n",
    "la variable independiente. La función dependerá de x_0, y debe \n",
    "regresar el Dual apropiado a la variable independiente\n",
    "=#\n",
    "\n",
    "\"\"\"\n",
    "    xdual(x0) -> Dual(x0, 1)\n",
    "\n",
    "...\n",
    "\"\"\"\n",
    "function xdual(x0)\n",
    "    # código\n",
    "    \n",
    "    return Dual(x0,1)\n",
    "    \n",
    "end"
   ]
  },
  {
   "cell_type": "code",
   "execution_count": 13,
   "metadata": {
    "collapsed": false
   },
   "outputs": [
    {
     "data": {
      "text/plain": [
       "Dual{Int64}(9,1)"
      ]
     },
     "execution_count": 13,
     "metadata": {},
     "output_type": "execute_result"
    }
   ],
   "source": [
    "xdual(9)"
   ]
  },
  {
   "cell_type": "code",
   "execution_count": 14,
   "metadata": {
    "collapsed": false
   },
   "outputs": [
    {
     "data": {
      "text/plain": [
       "\u001b[1m\u001b[32mTest Passed\n",
       "\u001b[0m  Expression: a.fun == 1.0\n",
       "   Evaluated: 1.0 == 1.0"
      ]
     },
     "execution_count": 14,
     "metadata": {},
     "output_type": "execute_result"
    }
   ],
   "source": [
    "#= \n",
    "Muestren que su código funciona con tests adecuados para crear duales,\n",
    "para promoverlos, y al definir el dual de un número y `xdual`.\n",
    "\n",
    "En esto es útil usar la infraestructura de Julia; ver:\n",
    "https://julia.readthedocs.io/en/stable/stdlib/test/\n",
    "\n",
    "using Base.Test\n",
    "\n",
    "a = Dual(1, 2.0)\n",
    "@test a.fun == 1.0\n",
    "@test a.der == 2.0\n",
    "\n",
    "=#\n",
    "\n",
    "using Base.Test\n",
    "\n",
    "a = Dual(1, 2.0)\n",
    "@test a.fun==1.0"
   ]
  },
  {
   "cell_type": "code",
   "execution_count": 15,
   "metadata": {
    "collapsed": false
   },
   "outputs": [
    {
     "data": {
      "text/plain": [
       "\u001b[1m\u001b[32mTest Passed\n",
       "\u001b[0m  Expression: a.der == 2.0\n",
       "   Evaluated: 2.0 == 2.0"
      ]
     },
     "execution_count": 15,
     "metadata": {},
     "output_type": "execute_result"
    }
   ],
   "source": [
    "@test a.der==2.0"
   ]
  },
  {
   "cell_type": "code",
   "execution_count": 16,
   "metadata": {
    "collapsed": false
   },
   "outputs": [
    {
     "data": {
      "text/plain": [
       "\u001b[1m\u001b[32mTest Passed\n",
       "\u001b[0m  Expression: constante.fun == 4\n",
       "   Evaluated: 4 == 4"
      ]
     },
     "execution_count": 16,
     "metadata": {},
     "output_type": "execute_result"
    }
   ],
   "source": [
    "constante=Dual(4)\n",
    "@test constante.fun ==4 "
   ]
  },
  {
   "cell_type": "code",
   "execution_count": 17,
   "metadata": {
    "collapsed": false
   },
   "outputs": [
    {
     "data": {
      "text/plain": [
       "\u001b[1m\u001b[32mTest Passed\n",
       "\u001b[0m  Expression: constante.der == 0\n",
       "   Evaluated: 0 == 0"
      ]
     },
     "execution_count": 17,
     "metadata": {},
     "output_type": "execute_result"
    }
   ],
   "source": [
    "@test constante.der ==0"
   ]
  },
  {
   "cell_type": "code",
   "execution_count": 18,
   "metadata": {
    "collapsed": false
   },
   "outputs": [
    {
     "data": {
      "text/plain": [
       "Dual{Int64}(9,1)"
      ]
     },
     "execution_count": 18,
     "metadata": {},
     "output_type": "execute_result"
    }
   ],
   "source": [
    "constante2=xdual(9)"
   ]
  },
  {
   "cell_type": "code",
   "execution_count": 19,
   "metadata": {
    "collapsed": false
   },
   "outputs": [
    {
     "data": {
      "text/plain": [
       "\u001b[1m\u001b[32mTest Passed\n",
       "\u001b[0m  Expression: constante2.fun == 9\n",
       "   Evaluated: 9 == 9"
      ]
     },
     "execution_count": 19,
     "metadata": {},
     "output_type": "execute_result"
    }
   ],
   "source": [
    "@test constante2.fun ==9"
   ]
  },
  {
   "cell_type": "code",
   "execution_count": 20,
   "metadata": {
    "collapsed": false
   },
   "outputs": [
    {
     "data": {
      "text/plain": [
       "\u001b[1m\u001b[32mTest Passed\n",
       "\u001b[0m  Expression: constante2.der == 1\n",
       "   Evaluated: 1 == 1"
      ]
     },
     "execution_count": 20,
     "metadata": {},
     "output_type": "execute_result"
    }
   ],
   "source": [
    "@test constante2.der ==1"
   ]
  },
  {
   "cell_type": "code",
   "execution_count": 21,
   "metadata": {
    "collapsed": false
   },
   "outputs": [
    {
     "data": {
      "text/plain": [
       "Dual{Int64}(8,1)"
      ]
     },
     "execution_count": 21,
     "metadata": {},
     "output_type": "execute_result"
    }
   ],
   "source": [
    "constante3=xdual(8)"
   ]
  },
  {
   "cell_type": "code",
   "execution_count": 22,
   "metadata": {
    "collapsed": false
   },
   "outputs": [
    {
     "data": {
      "text/plain": [
       "\u001b[1m\u001b[32mTest Passed\n",
       "\u001b[0m  Expression: constante3.fun == 8\n",
       "   Evaluated: 8 == 8"
      ]
     },
     "execution_count": 22,
     "metadata": {},
     "output_type": "execute_result"
    }
   ],
   "source": [
    "@test constante3.fun == 8"
   ]
  },
  {
   "cell_type": "code",
   "execution_count": 23,
   "metadata": {
    "collapsed": false
   },
   "outputs": [
    {
     "data": {
      "text/plain": [
       "\u001b[1m\u001b[32mTest Passed\n",
       "\u001b[0m  Expression: constante3.der == 1\n",
       "   Evaluated: 1 == 1"
      ]
     },
     "execution_count": 23,
     "metadata": {},
     "output_type": "execute_result"
    }
   ],
   "source": [
    "@test constante3.der == 1"
   ]
  },
  {
   "cell_type": "markdown",
   "metadata": {},
   "source": [
    "---"
   ]
  },
  {
   "cell_type": "markdown",
   "metadata": {},
   "source": [
    "## Ejercicio 2\n",
    "\n",
    "Implementen *todas* las operaciones aritméticas definidas arriba. Estas operaciones deben incluir las operaciones aritméticas que involucran un número cualquiera (`a :: Real`) y un dual (`b::Dual`), como por ejemplo `a+b` o `b+a`, etc. Esto se puede hacer implementando los métodos específicos para estos casos (¡y que sirven en cualquier órden!). \n",
    "\n",
    "Implementen también la comparación entre duales (`==`). \n",
    "\n",
    "Incluyan tests que muestren que cada una de ellas está bien definida, y que sus resultados dan valores consistentes."
   ]
  },
  {
   "cell_type": "markdown",
   "metadata": {},
   "source": [
    "Para operar duales con reales consideramos: $c=(c,0)$ donde $c$ es un real. "
   ]
  },
  {
   "cell_type": "code",
   "execution_count": 24,
   "metadata": {
    "collapsed": false
   },
   "outputs": [
    {
     "data": {
      "text/plain": [
       "== (generic function with 121 methods)"
      ]
     },
     "execution_count": 24,
     "metadata": {},
     "output_type": "execute_result"
    }
   ],
   "source": [
    "import Base: +, -, *, /, ^, ==\n",
    "\n",
    "#= \n",
    "Aquí se implementan los métodos necesarios para cada función; \n",
    "en el caso de ^ por ahora nos conformaremos con que la potencia \n",
    "sea entera.\n",
    "=#\n",
    "\n",
    "+(a::Dual, b::Dual) = Dual(a.fun+b.fun, a.der+b.der)\n",
    "+(a::Dual, b::Real) = Dual(a.fun+b,a.der)\n",
    "+(a::Real, b::Dual) = Dual(a+b.fun,b.der)\n",
    "\n",
    "-(a::Dual, b::Dual) = Dual(a.fun-b.fun, a.der-b.der)\n",
    "-(a::Dual, b::Real) = Dual(a.fun-b,a.der)\n",
    "-(a::Real, b::Dual) = Dual(a-b.fun,-b.der)\n",
    "\n",
    "*(a::Dual, b::Dual) = Dual(a.fun*b.fun, a.fun*b.der+b.fun*a.der)\n",
    "*(a::Dual, b::Real) = Dual(b*a.fun,b*a.der)\n",
    "*(a::Real, b::Dual) = Dual(a*b.fun,a*b.der)\n",
    "\n",
    "/(a::Dual, b::Dual) = Dual(a.fun/b.fun, a.der-(a.fun/b.fun)*b.der/b.fun)\n",
    "/(a::Dual, b::Real) = Dual( a.fun/b, a.der/b)\n",
    "\n",
    "^(a::Dual, b::Int64) = Dual(a.fun^b,b*a.fun^(b-1)*a.der)\n",
    "\n",
    "==(a::Dual, b::Dual) = a.fun==b.fun && a.der==b.der\n",
    "==(a::Dual, b::Real) = a==b.fun && 0.0==b.der\n",
    "==(a::Real, b::Dual) = a.fun==b && a.der==0.0\n"
   ]
  },
  {
   "cell_type": "code",
   "execution_count": 25,
   "metadata": {
    "collapsed": false
   },
   "outputs": [
    {
     "data": {
      "text/plain": [
       "\u001b[1m\u001b[32mTest Passed\n",
       "\u001b[0m  Expression: Dual(4,1) + Dual(9,2) == Dual(13,3)\n",
       "   Evaluated: Dual{Int64}(13,3) == Dual{Int64}(13,3)"
      ]
     },
     "execution_count": 25,
     "metadata": {},
     "output_type": "execute_result"
    }
   ],
   "source": [
    "# Aquí se incluyen las pruebas necesarias\n",
    "@test Dual(4,1)+Dual(9,2)==Dual(13,3)"
   ]
  },
  {
   "cell_type": "code",
   "execution_count": 26,
   "metadata": {
    "collapsed": false
   },
   "outputs": [
    {
     "data": {
      "text/plain": [
       "\u001b[1m\u001b[32mTest Passed\n",
       "\u001b[0m  Expression: Dual(4,1) + Dual(9) == Dual(13,1)\n",
       "   Evaluated: Dual{Int64}(13,1) == Dual{Int64}(13,1)"
      ]
     },
     "execution_count": 26,
     "metadata": {},
     "output_type": "execute_result"
    }
   ],
   "source": [
    "@test Dual(4,1)+Dual(9)==Dual(13,1)"
   ]
  },
  {
   "cell_type": "code",
   "execution_count": 27,
   "metadata": {
    "collapsed": false
   },
   "outputs": [
    {
     "data": {
      "text/plain": [
       "\u001b[1m\u001b[32mTest Passed\n",
       "\u001b[0m  Expression: Dual(4) + Dual(9,2) == Dual(13,2)\n",
       "   Evaluated: Dual{Int64}(13,2) == Dual{Int64}(13,2)"
      ]
     },
     "execution_count": 27,
     "metadata": {},
     "output_type": "execute_result"
    }
   ],
   "source": [
    "@test Dual(4)+Dual(9,2)==Dual(13,2)"
   ]
  },
  {
   "cell_type": "code",
   "execution_count": 28,
   "metadata": {
    "collapsed": false
   },
   "outputs": [
    {
     "data": {
      "text/plain": [
       "\u001b[1m\u001b[32mTest Passed\n",
       "\u001b[0m  Expression: Dual(4,1) - Dual(9,2) == Dual(-5,-1)\n",
       "   Evaluated: Dual{Int64}(-5,-1) == Dual{Int64}(-5,-1)"
      ]
     },
     "execution_count": 28,
     "metadata": {},
     "output_type": "execute_result"
    }
   ],
   "source": [
    "@test Dual(4,1)-Dual(9,2)==Dual(-5,-1)"
   ]
  },
  {
   "cell_type": "code",
   "execution_count": 29,
   "metadata": {
    "collapsed": false
   },
   "outputs": [
    {
     "data": {
      "text/plain": [
       "\u001b[1m\u001b[32mTest Passed\n",
       "\u001b[0m  Expression: Dual(4,1) - Dual(9) == Dual(-5,1)\n",
       "   Evaluated: Dual{Int64}(-5,1) == Dual{Int64}(-5,1)"
      ]
     },
     "execution_count": 29,
     "metadata": {},
     "output_type": "execute_result"
    }
   ],
   "source": [
    "@test Dual(4,1)-Dual(9)==Dual(-5,1)"
   ]
  },
  {
   "cell_type": "code",
   "execution_count": 30,
   "metadata": {
    "collapsed": false
   },
   "outputs": [
    {
     "data": {
      "text/plain": [
       "\u001b[1m\u001b[32mTest Passed\n",
       "\u001b[0m  Expression: Dual(4) - Dual(9,2) == Dual(-5,-2)\n",
       "   Evaluated: Dual{Int64}(-5,-2) == Dual{Int64}(-5,-2)"
      ]
     },
     "execution_count": 30,
     "metadata": {},
     "output_type": "execute_result"
    }
   ],
   "source": [
    "@test Dual(4)-Dual(9,2)==Dual(-5,-2)"
   ]
  },
  {
   "cell_type": "code",
   "execution_count": 31,
   "metadata": {
    "collapsed": false
   },
   "outputs": [
    {
     "data": {
      "text/plain": [
       "\u001b[1m\u001b[32mTest Passed\n",
       "\u001b[0m  Expression: Dual(4,1) * Dual(9,2) == Dual(36,17)\n",
       "   Evaluated: Dual{Int64}(36,17) == Dual{Int64}(36,17)"
      ]
     },
     "execution_count": 31,
     "metadata": {},
     "output_type": "execute_result"
    }
   ],
   "source": [
    "@test Dual(4,1)*Dual(9,2)==Dual(36,17)"
   ]
  },
  {
   "cell_type": "code",
   "execution_count": 32,
   "metadata": {
    "collapsed": false
   },
   "outputs": [
    {
     "data": {
      "text/plain": [
       "\u001b[1m\u001b[32mTest Passed\n",
       "\u001b[0m  Expression: Dual(4,1) * Dual(9) == Dual(36,9)\n",
       "   Evaluated: Dual{Int64}(36,9) == Dual{Int64}(36,9)"
      ]
     },
     "execution_count": 32,
     "metadata": {},
     "output_type": "execute_result"
    }
   ],
   "source": [
    "@test Dual(4,1)*Dual(9)==Dual(36,9)"
   ]
  },
  {
   "cell_type": "code",
   "execution_count": 33,
   "metadata": {
    "collapsed": false
   },
   "outputs": [
    {
     "data": {
      "text/plain": [
       "\u001b[1m\u001b[32mTest Passed\n",
       "\u001b[0m  Expression: Dual(4) * Dual(9,2) == Dual(36,8)\n",
       "   Evaluated: Dual{Int64}(36,8) == Dual{Int64}(36,8)"
      ]
     },
     "execution_count": 33,
     "metadata": {},
     "output_type": "execute_result"
    }
   ],
   "source": [
    "@test Dual(4)*Dual(9,2)==Dual(36,8)"
   ]
  },
  {
   "cell_type": "code",
   "execution_count": 34,
   "metadata": {
    "collapsed": false
   },
   "outputs": [
    {
     "data": {
      "text/plain": [
       "\u001b[1m\u001b[32mTest Passed\n",
       "\u001b[0m  Expression: Dual(4,2) / Dual(2,2) == Dual(2,0)\n",
       "   Evaluated: Dual{Float64}(2.0,0.0) == Dual{Int64}(2,0)"
      ]
     },
     "execution_count": 34,
     "metadata": {},
     "output_type": "execute_result"
    }
   ],
   "source": [
    "@test Dual(4,2)/Dual(2,2)==Dual(2,0)"
   ]
  },
  {
   "cell_type": "code",
   "execution_count": 35,
   "metadata": {
    "collapsed": false
   },
   "outputs": [
    {
     "data": {
      "text/plain": [
       "\u001b[1m\u001b[32mTest Passed\n",
       "\u001b[0m  Expression: Dual(4,2) / Dual(2) == Dual(2,2)\n",
       "   Evaluated: Dual{Float64}(2.0,2.0) == Dual{Int64}(2,2)"
      ]
     },
     "execution_count": 35,
     "metadata": {},
     "output_type": "execute_result"
    }
   ],
   "source": [
    "@test Dual(4,2)/Dual(2)==Dual(2,2)"
   ]
  },
  {
   "cell_type": "code",
   "execution_count": 36,
   "metadata": {
    "collapsed": false
   },
   "outputs": [
    {
     "data": {
      "text/plain": [
       "\u001b[1m\u001b[32mTest Passed\n",
       "\u001b[0m  Expression: Dual(2) / Dual(2,2) == Dual(1,-1)\n",
       "   Evaluated: Dual{Float64}(1.0,-1.0) == Dual{Int64}(1,-1)"
      ]
     },
     "execution_count": 36,
     "metadata": {},
     "output_type": "execute_result"
    }
   ],
   "source": [
    "@test Dual(2)/Dual(2,2)==Dual(1,-1)"
   ]
  },
  {
   "cell_type": "code",
   "execution_count": 37,
   "metadata": {
    "collapsed": false
   },
   "outputs": [
    {
     "data": {
      "text/plain": [
       "\u001b[1m\u001b[32mTest Passed\n",
       "\u001b[0m  Expression: Dual(4,2) ^ 2 == Dual(16,16)\n",
       "   Evaluated: Dual{Int64}(16,16) == Dual{Int64}(16,16)"
      ]
     },
     "execution_count": 37,
     "metadata": {},
     "output_type": "execute_result"
    }
   ],
   "source": [
    "@test Dual(4,2)^2==Dual(16,16)"
   ]
  },
  {
   "cell_type": "code",
   "execution_count": 38,
   "metadata": {
    "collapsed": false
   },
   "outputs": [
    {
     "data": {
      "text/plain": [
       "\u001b[1m\u001b[32mTest Passed\n",
       "\u001b[0m  Expression: Dual(4) == Dual(4)\n",
       "   Evaluated: Dual{Int64}(4,0) == Dual{Int64}(4,0)"
      ]
     },
     "execution_count": 38,
     "metadata": {},
     "output_type": "execute_result"
    }
   ],
   "source": [
    "@test Dual(4)==Dual(4)"
   ]
  },
  {
   "cell_type": "code",
   "execution_count": 39,
   "metadata": {
    "collapsed": false
   },
   "outputs": [
    {
     "data": {
      "text/plain": [
       "\u001b[1m\u001b[32mTest Passed\n",
       "\u001b[0m  Expression: Dual(4,0) == Dual(4)\n",
       "   Evaluated: Dual{Int64}(4,0) == Dual{Int64}(4,0)"
      ]
     },
     "execution_count": 39,
     "metadata": {},
     "output_type": "execute_result"
    }
   ],
   "source": [
    "@test Dual(4,0)==Dual(4)"
   ]
  },
  {
   "cell_type": "code",
   "execution_count": 40,
   "metadata": {
    "collapsed": false
   },
   "outputs": [
    {
     "data": {
      "text/plain": [
       "\u001b[1m\u001b[32mTest Passed\n",
       "\u001b[0m  Expression: Dual(5) == Dual(5,0)\n",
       "   Evaluated: Dual{Int64}(5,0) == Dual{Int64}(5,0)"
      ]
     },
     "execution_count": 40,
     "metadata": {},
     "output_type": "execute_result"
    }
   ],
   "source": [
    "@test Dual(5)==Dual(5,0)"
   ]
  },
  {
   "cell_type": "code",
   "execution_count": 41,
   "metadata": {
    "collapsed": false
   },
   "outputs": [
    {
     "data": {
      "text/plain": [
       "\u001b[1m\u001b[32mTest Passed\n",
       "\u001b[0m  Expression: Dual(8,2) == Dual(8,2)\n",
       "   Evaluated: Dual{Int64}(8,2) == Dual{Int64}(8,2)"
      ]
     },
     "execution_count": 41,
     "metadata": {},
     "output_type": "execute_result"
    }
   ],
   "source": [
    "@test Dual(8,2)==Dual(8,2)"
   ]
  },
  {
   "cell_type": "code",
   "execution_count": 42,
   "metadata": {
    "collapsed": false
   },
   "outputs": [
    {
     "data": {
      "text/plain": [
       "\u001b[1m\u001b[32mTest Passed\n",
       "\u001b[0m  Expression: 4 * Dual(2,1) == Dual(8,4)\n",
       "   Evaluated: Dual{Int64}(8,4) == Dual{Int64}(8,4)"
      ]
     },
     "execution_count": 42,
     "metadata": {},
     "output_type": "execute_result"
    }
   ],
   "source": [
    "@test 4*Dual(2,1)==Dual(8,4)"
   ]
  },
  {
   "cell_type": "code",
   "execution_count": 43,
   "metadata": {
    "collapsed": false
   },
   "outputs": [
    {
     "data": {
      "text/plain": [
       "\u001b[1m\u001b[32mTest Passed\n",
       "\u001b[0m  Expression: Dual(2,1) ^ 2 == Dual(4,4)\n",
       "   Evaluated: Dual{Int64}(4,4) == Dual{Int64}(4,4)"
      ]
     },
     "execution_count": 43,
     "metadata": {},
     "output_type": "execute_result"
    }
   ],
   "source": [
    "@test Dual(2,1)^2==Dual(4,4)"
   ]
  },
  {
   "cell_type": "code",
   "execution_count": 44,
   "metadata": {
    "collapsed": false
   },
   "outputs": [
    {
     "data": {
      "text/plain": [
       "\u001b[1m\u001b[32mTest Passed\n",
       "\u001b[0m  Expression: Dual(2,1) + 2 == Dual(4,1)\n",
       "   Evaluated: Dual{Int64}(4,1) == Dual{Int64}(4,1)"
      ]
     },
     "execution_count": 44,
     "metadata": {},
     "output_type": "execute_result"
    }
   ],
   "source": [
    "@test Dual(2,1)+2==Dual(4,1)"
   ]
  },
  {
   "cell_type": "code",
   "execution_count": 45,
   "metadata": {
    "collapsed": false
   },
   "outputs": [
    {
     "data": {
      "text/plain": [
       "\u001b[1m\u001b[32mTest Passed\n",
       "\u001b[0m  Expression: Dual(2,1) - 2 == Dual(0,1)\n",
       "   Evaluated: Dual{Int64}(0,1) == Dual{Int64}(0,1)"
      ]
     },
     "execution_count": 45,
     "metadata": {},
     "output_type": "execute_result"
    }
   ],
   "source": [
    "@test Dual(2,1)-2==Dual(0,1)"
   ]
  },
  {
   "cell_type": "code",
   "execution_count": 46,
   "metadata": {
    "collapsed": false
   },
   "outputs": [
    {
     "data": {
      "text/plain": [
       "\u001b[1m\u001b[32mTest Passed\n",
       "\u001b[0m  Expression: Dual(2,1) / 2 == Dual(1.0,0.5)\n",
       "   Evaluated: Dual{Float64}(1.0,0.5) == Dual{Float64}(1.0,0.5)"
      ]
     },
     "execution_count": 46,
     "metadata": {},
     "output_type": "execute_result"
    }
   ],
   "source": [
    "@test Dual(2,1)/2==Dual(1.0,0.5)"
   ]
  },
  {
   "cell_type": "markdown",
   "metadata": {},
   "source": [
    "Cálculo de la derivada."
   ]
  },
  {
   "cell_type": "markdown",
   "metadata": {},
   "source": [
    "Consideramos la siguiente función:"
   ]
  },
  {
   "cell_type": "code",
   "execution_count": 47,
   "metadata": {
    "collapsed": false
   },
   "outputs": [
    {
     "data": {
      "text/plain": [
       "f (generic function with 1 method)"
      ]
     },
     "execution_count": 47,
     "metadata": {},
     "output_type": "execute_result"
    }
   ],
   "source": [
    "function f(x)\n",
    "    return 3*x^3-2\n",
    "end"
   ]
  },
  {
   "cell_type": "markdown",
   "metadata": {},
   "source": [
    "Como queremos conocer el valor de la derivada cuando $x_0=1$"
   ]
  },
  {
   "cell_type": "code",
   "execution_count": 48,
   "metadata": {
    "collapsed": false
   },
   "outputs": [
    {
     "data": {
      "text/plain": [
       "Dual{Float64}(1.0,1.0)"
      ]
     },
     "execution_count": 48,
     "metadata": {},
     "output_type": "execute_result"
    }
   ],
   "source": [
    "xdual(1.0)"
   ]
  },
  {
   "cell_type": "markdown",
   "metadata": {},
   "source": [
    "Evaluamos lo anterior en la función $f$:"
   ]
  },
  {
   "cell_type": "code",
   "execution_count": 49,
   "metadata": {
    "collapsed": false
   },
   "outputs": [
    {
     "data": {
      "text/plain": [
       "Dual{Int64}(1,9)"
      ]
     },
     "execution_count": 49,
     "metadata": {},
     "output_type": "execute_result"
    }
   ],
   "source": [
    "f(xdual(1))"
   ]
  },
  {
   "cell_type": "markdown",
   "metadata": {},
   "source": [
    "Como podemos observar, el miembro derecho del dual es justo el valor de la derivada en $x_0=1$"
   ]
  },
  {
   "cell_type": "markdown",
   "metadata": {},
   "source": [
    "---"
   ]
  },
  {
   "cell_type": "markdown",
   "metadata": {},
   "source": [
    "## Ejercicio 3\n",
    "\n",
    "Para reutilizar el código que han hecho en este notebook, y de hecho seguirlo desarrollando, conviene ponerlo dentro de un módulo. Para hacer esto, deberán copiar todo el código necesario (y que aparece en la resolución de los ejercicios anteriores) en un archivo cuyo nombre será \"AutomDiff.jl\" y cuya estructura será la siguiente\n",
    "\n",
    "```julia\n",
    "#=\n",
    "Aquí viene una explicación de lo que se hace en el módulo, \n",
    "los autores y la fecha\n",
    "=#\n",
    "\n",
    "# La siguiente instrucción sirve para *precompilar* el módulo\n",
    "__precompile__(true)\n",
    "\n",
    "module AD\n",
    "    import Base: +, -, *, /, ^, ==\n",
    "    \n",
    "    export Dual, xdual\n",
    "    \n",
    "    # Aquí viene TODO el código que implementaron.\n",
    "    # Primero uno incluye la definición de Dual y\n",
    "    # después las operaciones con Duales.\n",
    "    ...\n",
    "\n",
    "end\n",
    "```\n",
    "\n",
    "Todas las pruebas deberán ser incluidas en un archivo separado llamado \"runtest.jl\", y su estructura es:\n",
    "\n",
    "```julia\n",
    "# Este archivo incluye los tests del módulo AD\n",
    "include(\"AutomDiff.jl\")\n",
    "using Base.test\n",
    "using AD\n",
    "\n",
    "# A continuación vienen los tests que implementaron y que deben \n",
    "# ser suficientemente exhaustivos\n",
    "...\n",
    "\n",
    "```\n",
    "\n",
    "Estos dos archivos deben incluirlos en el envío de su tarea (además del archivo `Tarea3.ipynb`)."
   ]
  },
  {
   "cell_type": "code",
   "execution_count": null,
   "metadata": {
    "collapsed": false
   },
   "outputs": [],
   "source": [
    "__precompile__(true)\n",
    "\n",
    "module AD\n",
    "    import Base: +, -, *, /, ^, ==\n",
    "    \n",
    "    export Dual, xdual\n",
    "    \n",
    "    # Aquí viene TODO el código que implementaron.\n",
    "    # Primero uno incluye la definición de Dual y\n",
    "    # después las operaciones con Duales.\n",
    "    \"\"\"\n",
    "    Dual{T<:Real}\n",
    "\n",
    "Definición de los duales, donde lo campos son:\n",
    "\n",
    "fun y der que corresponden a una función y su derivada respectivamente \n",
    "...\n",
    "\"\"\"\n",
    "type Dual{T<:Real}\n",
    "    # código: \n",
    "    fun::T\n",
    "    der::T\n",
    "end\n",
    "\n",
    "Dual(fun,der)= Dual(promote(fun,der)...)\n",
    "Dual(f)=Dual(f,0)\n",
    "\n",
    "\n",
    "\"\"\"\n",
    "    xdual(x0) -> Dual(x0, 1)\n",
    "\n",
    "...\n",
    "\"\"\"\n",
    "function xdual(x0)\n",
    "    # código\n",
    "    \n",
    "    return Dual(x0,1)\n",
    "    \n",
    "end\n",
    "\n",
    "\n",
    "+(a::Dual, b::Dual) = Dual(a.fun+b.fun, a.der+b.der)\n",
    "+(a::Dual, b::Real) = Dual(a.fun+b,a.der)\n",
    "+(a::Real, b::Dual) = Dual(a+b.fun,b.der)\n",
    "\n",
    "-(a::Dual, b::Dual) = Dual(a.fun-b.fun, a.der-b.der)\n",
    "-(a::Dual, b::Real) = Dual(a.fun-b,a.der)\n",
    "-(a::Real, b::Dual) = Dual(a-b.fun,-b.der)\n",
    "\n",
    "*(a::Dual, b::Dual) = Dual(a.fun*b.fun, a.fun*b.der+b.fun*a.der)\n",
    "*(a::Dual, b::Real) = Dual(b*a.fun,b*a.der)\n",
    "*(a::Real, b::Dual) = Dual(a*b.fun,a*b.der)\n",
    "\n",
    "/(a::Dual, b::Dual) = Dual(a.fun/b.fun, a.der-(a.fun/b.fun)*b.der/b.fun)\n",
    "/(a::Dual, b::Real) = Dual( a.fun/b, a.der/b)\n",
    "\n",
    "^(a::Dual, b::Int64) = Dual(a.fun^b,b*a.fun^(b-1)*a.der)\n",
    "\n",
    "==(a::Dual, b::Dual) = a.fun==b.fun && a.der==b.der\n",
    "==(a::Dual, b::Real) = a==b.fun && 0.0==b.der\n",
    "==(a::Real, b::Dual) = a.fun==b && a.der==0.0\n",
    "\n",
    "end"
   ]
  },
  {
   "cell_type": "code",
   "execution_count": null,
   "metadata": {
    "collapsed": false
   },
   "outputs": [],
   "source": [
    "include(\"AutomDiff.jl\")\n",
    "using Base.test\n",
    "using AD\n",
    "\n",
    "# A continuación vienen los tests que implementaron y que deben \n",
    "# ser suficientemente exhaustivos\n",
    "\n",
    "a = Dual(1, 2.0)\n",
    "@test a.fun==1.0\n",
    "\n",
    "@test a.der==2.0\n",
    "\n",
    "constante=Dual(4)\n",
    "@test constante.fun == 4 \n",
    "\n",
    "@test constante.der == 0\n",
    "\n",
    "constante2=xdual(9)\n",
    "\n",
    "@test constante2.fun == 9\n",
    "\n",
    "@test constante2.der == 1\n",
    "\n",
    "constante3=xdual(8)\n",
    "\n",
    "@test constante3.fun == 8\n",
    "\n",
    "@test constante3.der == 1\n",
    "\n",
    "@test Dual(4,1)+Dual(9,2)==Dual(13,3)\n",
    "\n",
    "@test Dual(4,1)+Dual(9)==Dual(13,1)\n",
    "\n",
    "@test Dual(4)+Dual(9,2)==Dual(13,2)\n",
    "\n",
    "@test Dual(4,1)-Dual(9,2)==Dual(-5,-1)\n",
    "\n",
    "@test Dual(4,1)-Dual(9)==Dual(-5,1)\n",
    "\n",
    "@test Dual(4)-Dual(9,2)==Dual(-5,-2)\n",
    "\n",
    "@test Dual(4,1)*Dual(9,2)==Dual(36,17)\n",
    "\n",
    "@test Dual(4,1)*Dual(9)==Dual(36,9)\n",
    "\n",
    "@test Dual(4)*Dual(9,2)==Dual(36,8)\n",
    "\n",
    "@test Dual(4,2)/Dual(2,2)==Dual(2,0)\n",
    "\n",
    "@test Dual(4,2)/Dual(2)==Dual(2,2)\n",
    "\n",
    "@test Dual(2)/Dual(2,2)==Dual(1,-1)\n",
    "\n",
    "@test Dual(4,2)^2==Dual(16,16)\n",
    "\n",
    "@test Dual(4)==Dual(4)\n",
    "\n",
    "@test Dual(4,0)==Dual(4)\n",
    "\n",
    "@test Dual(5)==Dual(5,0)\n",
    "\n",
    "@test Dual(8,2)==Dual(8,2)\n",
    "\n",
    "@test 4*Dual(2,1)==Dual(8,4)\n",
    "\n",
    "@test Dual(2,1)^2==Dual(4,4)\n",
    "\n",
    "@test Dual(2,1)+2==Dual(4,1)\n",
    "\n",
    "@test Dual(2,1)-2==Dual(0,1)\n",
    "\n",
    "@test Dual(2,1)/2==Dual(1.0,0.5)"
   ]
  },
  {
   "cell_type": "code",
   "execution_count": null,
   "metadata": {
    "collapsed": true
   },
   "outputs": [],
   "source": []
  }
 ],
 "metadata": {
  "kernelspec": {
   "display_name": "Julia 0.5.0",
   "language": "julia",
   "name": "julia-0.5"
  },
  "language_info": {
   "file_extension": ".jl",
   "mimetype": "application/julia",
   "name": "julia",
   "version": "0.5.1"
  }
 },
 "nbformat": 4,
 "nbformat_minor": 2
}
