{
 "cells": [
  {
   "cell_type": "markdown",
   "metadata": {},
   "source": [
    "# Tarea5: Series de Taylor"
   ]
  },
  {
   "cell_type": "markdown",
   "metadata": {},
   "source": [
    "Fecha de envío del PR inicial: **viernes 21 de abril**\n",
    "\n",
    "Fecha de aceptación del PR: **martes 25 de abril, antes de la clase**"
   ]
  },
  {
   "cell_type": "markdown",
   "metadata": {},
   "source": [
    "---"
   ]
  },
  {
   "cell_type": "markdown",
   "metadata": {},
   "source": [
    "## Ejercicio 1\n",
    "\n",
    "Implementen una nueva estructura paramétrica (`type`) que defina el tipo `Taylor`, donde el parámetro debe ser un subtipo de `Number`. Definan métodos que implementen las operaciones aritméticas básicas (`+`, `-`, `*`, `/`) y la igualdad (`==`). Esto deberá ser incluido en un módulo.\n",
    "\n",
    "Incluyan pruebas (en el archivo \"runtests_taylor.jl\") para cada uno de los métodos que implementen.\n"
   ]
  },
  {
   "cell_type": "markdown",
   "metadata": {},
   "source": [
    "Aplicando la serie de Taylor a una función $f(x)$ obtenemos: \n",
    "\n",
    "\\begin{eqnarray}\n",
    "f(x) & = & f_{[0]} + f_{[1]} (x-x_0) + f_{[2]} (x-x_0)^2 + \\dots + f_{[k]} (x-x_0)^k + \\dots,  ...(1)\\\\\n",
    "\\end{eqnarray}\n",
    "\n",
    "Donde cada $f_{[i]}$ es un coeficiente de la serie.\n",
    "\n",
    "Si truncamos la serie anterior se tiene:\n",
    "\n",
    "\\begin{eqnarray}\n",
    "f(x) & = & f_{[0]} + f_{[1]} (x-x_0) + f_{[2]} (x-x_0)^2 + \\dots + f_{[k]} (x-x_0)^k  ...(2) \\\\\\end{eqnarray}\n",
    "\n",
    "A partir de (2) podemos representar los coeficientes en un arreglo como el siguiente:\n",
    "\n",
    "\\begin{eqnarray}\n",
    "Taylor[f_{[0]},f_{[1]},f_{[2]},...f_{[k]}]  ...(3)\\end{eqnarray}\n",
    "\n",
    "En (3) tenemos una estructura que nos recuerda a la forma del dual: \n",
    "\n",
    "\\begin{eqnarray}\n",
    "Dual(f,df) ...(4)\n",
    "\\end{eqnarray}\n",
    "\n",
    ",la cual, podemos representar ahora como:\n",
    "\n",
    "\\begin{eqnarray}\n",
    "Taylor[f_{[0]},f_{[1]}]  ...(5)\n",
    "\\end{eqnarray}\n",
    "\n",
    "En un inicio, tuvimos que asegurar que el dual cumpliera con las siguientes propiedades:\n",
    "\\begin{eqnarray}\n",
    "\\\\\n",
    "Dual(c,0)  ...(a)\n",
    "\\\\\n",
    "Dual(x,1)          ...(b)\n",
    "\\\\\n",
    "\\end{eqnarray}\n",
    "\n",
    "(Donde c es una constante y en b) se utiliza la función $f(x)=x$)\n",
    "\n",
    "\n",
    "Aplicando estos casos a (3):\n",
    "\\begin{eqnarray}\n",
    "\\\\\n",
    "Taylor[c,0,0,...,0]  ...(c)\n",
    "\\\\\n",
    "Taylor[x,1,0,...,0]  ...(d)\n",
    "\\\\\n",
    "\\end{eqnarray}\n",
    "\n",
    "Notemos que en el caso de una constante la primera entrada es justo la constante y la segunda es 0 (su primera derivada). Por otro lado, para la variable x la primera entrada es x y la segunda es 1 (su primera derivada). . "
   ]
  },
  {
   "cell_type": "code",
   "execution_count": 1,
   "metadata": {
    "collapsed": false
   },
   "outputs": [
    {
     "data": {
      "text/plain": [
       "Taylor"
      ]
     },
     "execution_count": 1,
     "metadata": {},
     "output_type": "execute_result"
    }
   ],
   "source": [
    "\"\"\"\n",
    "Definición de polinomios de Taylor, donde\n",
    "...\n",
    "\"\"\"\n",
    "type Taylor{T<:Number}\n",
    "    # código: \n",
    "    cofun::Array{T,1} #Arreglo de los coeficientes de la función f.\n",
    "    grado::Int64 #Grado de la función\n",
    "    \n",
    "    function Taylor(v::Vector{T},n::Int) \n",
    "        len = length(v) #Longitud del vector\n",
    "        \n",
    "        if len-1==n \n",
    "            return new{T}(v,n) #Si el grado ingresado es igual a los coeficientes del vector, \n",
    "                               #el grado y el vector se quedan igual.\n",
    "            \n",
    "            elseif len-1<n #Si el grado ingresado es mayor a los coeficientes del vector, \n",
    "                           #se completa con ceros.\n",
    "            return new{T}(append!(v,zeros(T,n-len+1)),n)\n",
    "        else               #Si el grado ingresado es menor a los coeficientes del vector, \n",
    "                           #se resta un grado.\n",
    "            return new{T}(v,n-1)\n",
    "        end\n",
    "    end\n",
    "       \n",
    "end"
   ]
  },
  {
   "cell_type": "code",
   "execution_count": 2,
   "metadata": {
    "collapsed": false
   },
   "outputs": [
    {
     "data": {
      "text/html": [
       "1 method for generic function <b>Type</b>:<ul><li> (::<b>Type{T}</b>)<i>{T}</i>(arg) at <a href=\"https://github.com/JuliaLang/julia/tree/6445c82d0060dbe82b88436f0f4371a4ee64d918/base/sysimg.jl#L53\" target=\"_blank\">sysimg.jl:53</a></li> </ul>"
      ],
      "text/plain": [
       "# 1 method for generic function \"(::Type)\":\n",
       "(::Type{T}){T}(arg) at sysimg.jl:53"
      ]
     },
     "execution_count": 2,
     "metadata": {},
     "output_type": "execute_result"
    }
   ],
   "source": [
    "methods(Taylor)"
   ]
  },
  {
   "cell_type": "code",
   "execution_count": 3,
   "metadata": {
    "collapsed": false
   },
   "outputs": [
    {
     "ename": "LoadError",
     "evalue": "MethodError: no method matching Taylor{T<:Number}(::Array{Int64,1}, ::Int64)\u001b[0m\nClosest candidates are:\n  Taylor{T<:Number}{T}(::Any) at sysimg.jl:53\u001b[0m",
     "output_type": "error",
     "traceback": [
      "MethodError: no method matching Taylor{T<:Number}(::Array{Int64,1}, ::Int64)\u001b[0m\nClosest candidates are:\n  Taylor{T<:Number}{T}(::Any) at sysimg.jl:53\u001b[0m",
      ""
     ]
    }
   ],
   "source": [
    "Taylor([1,2,3,4],6)"
   ]
  },
  {
   "cell_type": "code",
   "execution_count": 4,
   "metadata": {
    "collapsed": false
   },
   "outputs": [
    {
     "data": {
      "text/plain": [
       "Taylor{Int64}([1,2,3,4,0,0,0],6)"
      ]
     },
     "execution_count": 4,
     "metadata": {},
     "output_type": "execute_result"
    }
   ],
   "source": [
    "#Para que lo anterior funcione debemos especificar el tipo\n",
    "Taylor{Int64}([1,2,3,4],6)"
   ]
  },
  {
   "cell_type": "code",
   "execution_count": 5,
   "metadata": {
    "collapsed": false
   },
   "outputs": [
    {
     "data": {
      "text/plain": [
       "Taylor{T<:Number}"
      ]
     },
     "execution_count": 5,
     "metadata": {},
     "output_type": "execute_result"
    }
   ],
   "source": [
    "#Con esto evitamos escribir el tipo cada vez.\n",
    "Taylor{T<:Number}(v::Array{T,1},n::Int)=Taylor{T}(v,n)"
   ]
  },
  {
   "cell_type": "code",
   "execution_count": 6,
   "metadata": {
    "collapsed": false
   },
   "outputs": [
    {
     "data": {
      "text/plain": [
       "Taylor{Int64}([0,1,2],2)"
      ]
     },
     "execution_count": 6,
     "metadata": {},
     "output_type": "execute_result"
    }
   ],
   "source": [
    "Taylor([0,1,2],2) #caso lenght(v)=grado"
   ]
  },
  {
   "cell_type": "code",
   "execution_count": 7,
   "metadata": {
    "collapsed": false
   },
   "outputs": [
    {
     "data": {
      "text/plain": [
       "Taylor{Int64}([0,1,2,0],3)"
      ]
     },
     "execution_count": 7,
     "metadata": {},
     "output_type": "execute_result"
    }
   ],
   "source": [
    "Taylor([0,1,2],3) #caso lenght(v)<grado"
   ]
  },
  {
   "cell_type": "code",
   "execution_count": 8,
   "metadata": {
    "collapsed": false
   },
   "outputs": [
    {
     "data": {
      "text/plain": [
       "Taylor{Int64}([0,1,2],0)"
      ]
     },
     "execution_count": 8,
     "metadata": {},
     "output_type": "execute_result"
    }
   ],
   "source": [
    "Taylor([0,1,2],1) #caso lenght(v)>grado"
   ]
  },
  {
   "cell_type": "code",
   "execution_count": 9,
   "metadata": {
    "collapsed": false
   },
   "outputs": [
    {
     "data": {
      "text/plain": [
       "Taylor{Float64}([1.0,2.3,5.9,4.0,0.0,0.0],5)"
      ]
     },
     "execution_count": 9,
     "metadata": {},
     "output_type": "execute_result"
    }
   ],
   "source": [
    "#Notemos que no fue necesario hacer un promote\n",
    "Taylor([1.0,2.3,5.9,4],5)"
   ]
  },
  {
   "cell_type": "code",
   "execution_count": 10,
   "metadata": {
    "collapsed": false
   },
   "outputs": [
    {
     "ename": "LoadError",
     "evalue": "MethodError: no method matching +(::Taylor{Int64}, ::Taylor{Int64})\u001b[0m\nClosest candidates are:\n  +(::Any, ::Any, \u001b[1m\u001b[31m::Any\u001b[0m, \u001b[1m\u001b[31m::Any...\u001b[0m) at operators.jl:138\u001b[0m",
     "output_type": "error",
     "traceback": [
      "MethodError: no method matching +(::Taylor{Int64}, ::Taylor{Int64})\u001b[0m\nClosest candidates are:\n  +(::Any, ::Any, \u001b[1m\u001b[31m::Any\u001b[0m, \u001b[1m\u001b[31m::Any...\u001b[0m) at operators.jl:138\u001b[0m",
      ""
     ]
    }
   ],
   "source": [
    "#Ahora necesitamos un método para que la suma entre objetos de tipo taylor tenga sentido.\n",
    "\n",
    "Taylor([1,2,3,4],3)+Taylor([9,8,7,6],3) #mismo grado\n",
    "Taylor([1,2,3,4],7)+Taylor([9,8],2)     #diferente grado"
   ]
  },
  {
   "cell_type": "markdown",
   "metadata": {
    "collapsed": false
   },
   "source": [
    "Veamos cómo separar los elementos de un objeto tipo taylor"
   ]
  },
  {
   "cell_type": "code",
   "execution_count": 11,
   "metadata": {
    "collapsed": false
   },
   "outputs": [
    {
     "data": {
      "text/plain": [
       "Taylor{Int64}([0,1,2,3,0,0],5)"
      ]
     },
     "execution_count": 11,
     "metadata": {},
     "output_type": "execute_result"
    }
   ],
   "source": [
    "alfa = Taylor([0,1,2,3],5)"
   ]
  },
  {
   "cell_type": "code",
   "execution_count": 12,
   "metadata": {
    "collapsed": false
   },
   "outputs": [
    {
     "data": {
      "text/plain": [
       "6-element Array{Int64,1}:\n",
       " 0\n",
       " 1\n",
       " 2\n",
       " 3\n",
       " 0\n",
       " 0"
      ]
     },
     "execution_count": 12,
     "metadata": {},
     "output_type": "execute_result"
    }
   ],
   "source": [
    "alfa.cofun #Obtenemos solo el vector"
   ]
  },
  {
   "cell_type": "code",
   "execution_count": 13,
   "metadata": {
    "collapsed": false
   },
   "outputs": [
    {
     "data": {
      "text/plain": [
       "3"
      ]
     },
     "execution_count": 13,
     "metadata": {},
     "output_type": "execute_result"
    }
   ],
   "source": [
    "alfa.cofun[4] # Obtenemos un elemento del vector"
   ]
  },
  {
   "cell_type": "code",
   "execution_count": 14,
   "metadata": {
    "collapsed": false
   },
   "outputs": [
    {
     "data": {
      "text/plain": [
       "5"
      ]
     },
     "execution_count": 14,
     "metadata": {},
     "output_type": "execute_result"
    }
   ],
   "source": [
    "alfa.grado #Obtenemos solo el grado"
   ]
  },
  {
   "cell_type": "code",
   "execution_count": 12,
   "metadata": {
    "collapsed": false
   },
   "outputs": [
    {
     "data": {
      "text/plain": [
       "1"
      ]
     },
     "execution_count": 12,
     "metadata": {},
     "output_type": "execute_result"
    }
   ],
   "source": [
    "5^0"
   ]
  },
  {
   "cell_type": "markdown",
   "metadata": {
    "collapsed": false
   },
   "source": [
    "# Operaciones"
   ]
  },
  {
   "cell_type": "markdown",
   "metadata": {
    "collapsed": false
   },
   "source": [
    "A continuación creamos los métodos necesarios para poder operar con los objetos tipo Taylor. La siguiente línea nos permite introducir las operaciones básicas de suma,resta,multiplicación,división y comparación."
   ]
  },
  {
   "cell_type": "code",
   "execution_count": 15,
   "metadata": {
    "collapsed": false
   },
   "outputs": [],
   "source": [
    "import Base: +, -, *, /, =="
   ]
  },
  {
   "cell_type": "code",
   "execution_count": 16,
   "metadata": {
    "collapsed": false
   },
   "outputs": [
    {
     "data": {
      "text/plain": [
       "Taylor{Int64}([9,8,7,6],3)"
      ]
     },
     "execution_count": 16,
     "metadata": {},
     "output_type": "execute_result"
    }
   ],
   "source": [
    "a1=Taylor([1,2,3],3);b1=Taylor([9,8,7,6],3)"
   ]
  },
  {
   "cell_type": "code",
   "execution_count": 17,
   "metadata": {
    "collapsed": false
   },
   "outputs": [
    {
     "data": {
      "text/plain": [
       "Taylor{Int64}([9,8,0,0,0,0,0,0],7)"
      ]
     },
     "execution_count": 17,
     "metadata": {},
     "output_type": "execute_result"
    }
   ],
   "source": [
    "c1=Taylor([1,2,3,4],2);d1=Taylor([9,8],7)"
   ]
  },
  {
   "cell_type": "markdown",
   "metadata": {},
   "source": [
    "### Suma"
   ]
  },
  {
   "cell_type": "markdown",
   "metadata": {},
   "source": [
    "\\begin{eqnarray}\n",
    "(f+g)_{[k]} & = & f_{[k]} + g_{[k]}\n",
    "\\end{eqnarray}"
   ]
  },
  {
   "cell_type": "code",
   "execution_count": 18,
   "metadata": {
    "collapsed": false
   },
   "outputs": [
    {
     "data": {
      "text/plain": [
       "tsuma (generic function with 1 method)"
      ]
     },
     "execution_count": 18,
     "metadata": {},
     "output_type": "execute_result"
    }
   ],
   "source": [
    "function tsuma(a,b)\n",
    "    \n",
    "#=---------------------Comparamos los grados----------------------------------------=#\n",
    "    \n",
    "    if a.grado==b.grado #Si los grados son iguales\n",
    "        grado_principal=a.grado\n",
    "        \n",
    "    elseif a.grado>b.grado\n",
    "        \n",
    "        grado_principal=a.grado #El grado pricipal es el mayor de los grados\n",
    "    else \n",
    "       \n",
    "        grado_principal=b.grado #El grado pricipal es el mayor de los grados\n",
    "        end  \n",
    "    \n",
    "#=---------------------Suma de los vectores-----------------------------------------=#  \n",
    "    \n",
    "    #Comparamos la longitud de los vectores\n",
    "    \n",
    "    la=length(a.cofun)\n",
    "    lb=length(b.cofun)\n",
    "    \n",
    "    vsuma=[] #Creamos el vector suma inicialmente vacio.\n",
    "             #Este es un Array{Any,1}. \n",
    "    \n",
    "    if la==lb #Si la longitud de los vectores es la misma. \n",
    "        for i = 1:la\n",
    "            vsuma=push!(vsuma,a.cofun[i]+b.cofun[i]) #Sumamos una a una las  componentes \n",
    "                                                     #y las agregamos al vector vsuma.   \n",
    "        end\n",
    "        \n",
    "        elseif la<lb  \n",
    "        \n",
    "            lc=lb-la #Calculamos la diferencia de las longitudes\n",
    "            ceros=zeros(lc) #Creamos un vector con ceros para igualar en tamaño\n",
    "                            #al vector más chico.\n",
    "        \n",
    "            for i=1:length(ceros) #Agragamos los ceros al vector chico\n",
    "                a.cofun=push!(a.cofun,ceros[i])\n",
    "            end\n",
    "            \n",
    "        \n",
    "            for i = 1:lb #Hacemos la  suma como antes.\n",
    "            vsuma=push!(vsuma,a.cofun[i]+b.cofun[i]) \n",
    "            end       \n",
    "   #-----     \n",
    "        else\n",
    "            lc=la-lb\n",
    "            ceros=zeros(lc)\n",
    "        \n",
    "            for j=1:length(ceros)\n",
    "                b.cofun=push!(b.cofun,ceros[j])\n",
    "            end\n",
    "            \n",
    "        \n",
    "            for i = 1:la\n",
    "            vsuma=push!(vsuma,a.cofun[i]+b.cofun[i])\n",
    "            end   \n",
    "     #---   \n",
    "    end\n",
    "    fvsuma=convert(Array{Float64,1},vsuma) #vsuma es un arreglo tipo Any \n",
    "                                           #y necesitamos Int64 o Float64\n",
    "    return Taylor(fvsuma,grado_principal)\n",
    "    \n",
    "end"
   ]
  },
  {
   "cell_type": "code",
   "execution_count": 19,
   "metadata": {
    "collapsed": false
   },
   "outputs": [
    {
     "data": {
      "text/plain": [
       "Taylor{Float64}([10.0,10.0,10.0,6.0],3)"
      ]
     },
     "execution_count": 19,
     "metadata": {},
     "output_type": "execute_result"
    }
   ],
   "source": [
    "tsuma(a1,b1) #No es estable según el tipo"
   ]
  },
  {
   "cell_type": "code",
   "execution_count": 20,
   "metadata": {
    "collapsed": false
   },
   "outputs": [
    {
     "data": {
      "text/plain": [
       "Taylor{Float64}([10.0,10.0,3.0,4.0,0.0,0.0,0.0,0.0],7)"
      ]
     },
     "execution_count": 20,
     "metadata": {},
     "output_type": "execute_result"
    }
   ],
   "source": [
    "tsuma(c1,d1)"
   ]
  },
  {
   "cell_type": "code",
   "execution_count": 21,
   "metadata": {
    "collapsed": false
   },
   "outputs": [
    {
     "data": {
      "text/plain": [
       "Taylor{Float64}([10.0,10.0,3.0,4.0,0.0,0.0,0.0,0.0],7)"
      ]
     },
     "execution_count": 21,
     "metadata": {},
     "output_type": "execute_result"
    }
   ],
   "source": [
    "tsuma(d1,c1)"
   ]
  },
  {
   "cell_type": "markdown",
   "metadata": {},
   "source": [
    "Para tener la implementación de la suma,falta hacer que la siguiente línea tenga sentido:"
   ]
  },
  {
   "cell_type": "code",
   "execution_count": 22,
   "metadata": {
    "collapsed": false
   },
   "outputs": [
    {
     "ename": "LoadError",
     "evalue": "MethodError: no method matching +(::Taylor{Int64}, ::Taylor{Int64})\u001b[0m\nClosest candidates are:\n  +(::Any, ::Any, \u001b[1m\u001b[31m::Any\u001b[0m, \u001b[1m\u001b[31m::Any...\u001b[0m) at operators.jl:138\u001b[0m",
     "output_type": "error",
     "traceback": [
      "MethodError: no method matching +(::Taylor{Int64}, ::Taylor{Int64})\u001b[0m\nClosest candidates are:\n  +(::Any, ::Any, \u001b[1m\u001b[31m::Any\u001b[0m, \u001b[1m\u001b[31m::Any...\u001b[0m) at operators.jl:138\u001b[0m",
      ""
     ]
    }
   ],
   "source": [
    "c1+d1"
   ]
  },
  {
   "cell_type": "markdown",
   "metadata": {},
   "source": [
    "Lo cual, logramos con lo siguiente:"
   ]
  },
  {
   "cell_type": "code",
   "execution_count": 24,
   "metadata": {
    "collapsed": false
   },
   "outputs": [
    {
     "data": {
      "text/plain": [
       "+ (generic function with 164 methods)"
      ]
     },
     "execution_count": 24,
     "metadata": {},
     "output_type": "execute_result"
    }
   ],
   "source": [
    "+(f::Taylor, g::Taylor) = tsuma(f,g)"
   ]
  },
  {
   "cell_type": "code",
   "execution_count": 25,
   "metadata": {
    "collapsed": false
   },
   "outputs": [
    {
     "data": {
      "text/plain": [
       "Taylor{Float64}([10.0,10.0,3.0,4.0,0.0,0.0,0.0,0.0],7)"
      ]
     },
     "execution_count": 25,
     "metadata": {},
     "output_type": "execute_result"
    }
   ],
   "source": [
    "c1+d1"
   ]
  },
  {
   "cell_type": "markdown",
   "metadata": {},
   "source": [
    "### Resta"
   ]
  },
  {
   "cell_type": "markdown",
   "metadata": {},
   "source": [
    "\n",
    "\\begin{eqnarray}\n",
    "(f-g)_{[k]} & = & f_{[k]} - g_{[k]}\n",
    "\\end{eqnarray}"
   ]
  },
  {
   "cell_type": "code",
   "execution_count": 26,
   "metadata": {
    "collapsed": false
   },
   "outputs": [
    {
     "data": {
      "text/plain": [
       "tresta (generic function with 1 method)"
      ]
     },
     "execution_count": 26,
     "metadata": {},
     "output_type": "execute_result"
    }
   ],
   "source": [
    "function tresta(a,b)\n",
    "    \n",
    "#=---------------------Comparamos los grados----------------------------------------=#\n",
    "    \n",
    "    if a.grado==b.grado #Si los grados son iguales\n",
    "        grado_principal=a.grado\n",
    "        \n",
    "    elseif a.grado>b.grado\n",
    "        \n",
    "        grado_principal=a.grado #El grado pricipal es el mayor de los grados\n",
    "    else \n",
    "        \n",
    "        grado_principal=b.grado #El grado pricipal es el mayor de los grados\n",
    "        end  \n",
    "    \n",
    "#=---------------------Resta de los vectores-----------------------------------------=#  \n",
    "    \n",
    "    #Comparamos la longitud de los vectores\n",
    "    \n",
    "    la=length(a.cofun)\n",
    "    lb=length(b.cofun)\n",
    "    \n",
    "    vresta=[] #Creamos el vector suma inicialmente vacio.\n",
    "              #Este es un Array{Any,1}.\n",
    "    \n",
    "    if la==lb #Si la longitud de los vectores es la misma. \n",
    "        for i = 1:la\n",
    "            vresta=push!(vresta,a.cofun[i]-b.cofun[i]) #Sumamos una a una las  componentes \n",
    "                                                     #y las agregamos al vector vsuma.   \n",
    "        end\n",
    "        \n",
    "        elseif la<lb  \n",
    "        \n",
    "            lc=lb-la #Calculamos la diferencia de las longitudes\n",
    "            ceros=zeros(lc) #Creamos un vector con ceros para igualar en tamaño\n",
    "                            #al vector más chico.\n",
    "        \n",
    "            for i=1:length(ceros) #Agragamos los ceros al vector chico\n",
    "                a.cofun=push!(a.cofun,ceros[i])\n",
    "            end\n",
    "            \n",
    "        \n",
    "            for i = 1:lb #Hacemos la  suma como antes.\n",
    "            vresta=push!(vresta,a.cofun[i]-b.cofun[i]) \n",
    "            end       \n",
    "   #-----     \n",
    "        else\n",
    "            lc=la-lb\n",
    "            ceros=zeros(lc)\n",
    "        \n",
    "            for i=1:length(ceros)\n",
    "                b.cofun=push!(b.cofun,ceros[i])\n",
    "            end\n",
    "            \n",
    "        \n",
    "            for i = 1:la\n",
    "            vresta=push!(vresta,a.cofun[i]-b.cofun[i])\n",
    "            end   \n",
    "     #---   \n",
    "    end\n",
    "    fvresta=convert(Array{Float64,1},vresta) #vsuma es un arreglo tipo Any \n",
    "                                           #y necesitamos Int64 o Float64\n",
    "    return Taylor(fvresta,grado_principal)\n",
    "    \n",
    "end"
   ]
  },
  {
   "cell_type": "code",
   "execution_count": 27,
   "metadata": {
    "collapsed": false
   },
   "outputs": [
    {
     "data": {
      "text/plain": [
       "Taylor{Float64}([-8.0,-6.0,-4.0,-6.0],3)"
      ]
     },
     "execution_count": 27,
     "metadata": {},
     "output_type": "execute_result"
    }
   ],
   "source": [
    "tresta(a1,b1)"
   ]
  },
  {
   "cell_type": "code",
   "execution_count": 28,
   "metadata": {
    "collapsed": false
   },
   "outputs": [
    {
     "data": {
      "text/plain": [
       "Taylor{Float64}([-8.0,-6.0,-4.0,-2.0,0.0,0.0,0.0,0.0],2)"
      ]
     },
     "execution_count": 28,
     "metadata": {},
     "output_type": "execute_result"
    }
   ],
   "source": [
    "tresta(c1,b1)"
   ]
  },
  {
   "cell_type": "code",
   "execution_count": 29,
   "metadata": {
    "collapsed": false
   },
   "outputs": [
    {
     "data": {
      "text/plain": [
       "Taylor{Float64}([8.0,6.0,4.0,2.0,0.0,0.0,0.0,0.0],2)"
      ]
     },
     "execution_count": 29,
     "metadata": {},
     "output_type": "execute_result"
    }
   ],
   "source": [
    "tresta(b1,c1)"
   ]
  },
  {
   "cell_type": "markdown",
   "metadata": {},
   "source": [
    "Resta de objetos tipo Taylor:"
   ]
  },
  {
   "cell_type": "code",
   "execution_count": 30,
   "metadata": {
    "collapsed": false
   },
   "outputs": [
    {
     "data": {
      "text/plain": [
       "- (generic function with 191 methods)"
      ]
     },
     "execution_count": 30,
     "metadata": {},
     "output_type": "execute_result"
    }
   ],
   "source": [
    "-(f::Taylor, g::Taylor) = tresta(f,g)"
   ]
  },
  {
   "cell_type": "code",
   "execution_count": 31,
   "metadata": {
    "collapsed": false
   },
   "outputs": [
    {
     "data": {
      "text/plain": [
       "Taylor{Float64}([8.0,6.0,4.0,2.0,0.0,0.0,0.0,0.0],2)"
      ]
     },
     "execution_count": 31,
     "metadata": {},
     "output_type": "execute_result"
    }
   ],
   "source": [
    "b1-c1"
   ]
  },
  {
   "cell_type": "code",
   "execution_count": 32,
   "metadata": {
    "collapsed": false
   },
   "outputs": [
    {
     "data": {
      "text/plain": [
       "Taylor{Float64}([0.0,0.0,0.0,0.0],3)"
      ]
     },
     "execution_count": 32,
     "metadata": {},
     "output_type": "execute_result"
    }
   ],
   "source": [
    "Taylor([1,2,3],3)-Taylor([1,2,3],3)"
   ]
  },
  {
   "cell_type": "markdown",
   "metadata": {},
   "source": [
    "### Multiplicación"
   ]
  },
  {
   "cell_type": "markdown",
   "metadata": {},
   "source": [
    "\\begin{eqnarray}\n",
    "(f \\cdot g)_{[k]} & = & \\sum_{i=0}^k f_{[i]} \\,g_{[k-i]}\n",
    "\\end{eqnarray}"
   ]
  },
  {
   "cell_type": "markdown",
   "metadata": {},
   "source": [
    "Debemos notar que, dado un vector $v$, la entrada $v[0]$ no está definida, por lo que la suma no podrá iniciar en cero. Por ello cambiaremos los índices de la expresión anterior de modo tal que la suma inicie con $i=1$ "
   ]
  },
  {
   "cell_type": "markdown",
   "metadata": {},
   "source": [
    "\\begin{eqnarray}\n",
    "(f \\cdot g)_{[k]} & = & \\sum_{i=1}^k f_{[i]} \\,g_{[k+1-i]}\n",
    "\\end{eqnarray}"
   ]
  },
  {
   "cell_type": "code",
   "execution_count": 34,
   "metadata": {
    "collapsed": false
   },
   "outputs": [
    {
     "data": {
      "text/plain": [
       "tmulti (generic function with 1 method)"
      ]
     },
     "execution_count": 34,
     "metadata": {},
     "output_type": "execute_result"
    }
   ],
   "source": [
    "function tmulti(a,b)\n",
    "    \n",
    "#=---------------------Multiplicación de los vectores-------------------------=#  \n",
    "\n",
    "        #Obtenemos la longitud de los vectores\n",
    "    \n",
    "    la=length(a.cofun)\n",
    "    lb=length(b.cofun)\n",
    "\n",
    "    suma=0.0 #valor inicial de la suma\n",
    "\n",
    "    if la==lb\n",
    "        \n",
    "        for i=1:la # La suma inicia con i=1\n",
    "            suma=suma+a.cofun[i]*b.cofun[la+1-i]\n",
    "        end\n",
    "        \n",
    "        elseif la<lb  \n",
    "        \n",
    "            lc=lb-la #Calculamos la diferencia de las longitudes\n",
    "            ceros=zeros(lc) #Creamos un vector con ceros para igualar en tamaño\n",
    "                            #al vector más chico.\n",
    "        \n",
    "            for i=1:length(ceros) #Agragamos los ceros al vector chico\n",
    "                a.cofun=push!(a.cofun,ceros[i])\n",
    "            end\n",
    "        \n",
    "            for i=1:la\n",
    "            suma=suma+a.cofun[i]*b.cofun[la+1-i]\n",
    "            end\n",
    "        \n",
    "        else\n",
    "            lc=la-lb\n",
    "            ceros=zeros(lc)\n",
    "        \n",
    "            for i=1:length(ceros)\n",
    "                b.cofun=push!(b.cofun,ceros[i])\n",
    "            end\n",
    "        \n",
    "            for i=1:la\n",
    "            suma=suma+a.cofun[i]*b.cofun[la+1-i]\n",
    "            end\n",
    "        \n",
    "    end    \n",
    "    \n",
    "    return suma\n",
    "end  "
   ]
  },
  {
   "cell_type": "code",
   "execution_count": 35,
   "metadata": {
    "collapsed": false
   },
   "outputs": [
    {
     "data": {
      "text/plain": [
       "Taylor{Int64}([1,2,3,4],3)"
      ]
     },
     "execution_count": 35,
     "metadata": {},
     "output_type": "execute_result"
    }
   ],
   "source": [
    "e1=Taylor([1,2,3,4],3)"
   ]
  },
  {
   "cell_type": "code",
   "execution_count": 36,
   "metadata": {
    "collapsed": false
   },
   "outputs": [
    {
     "data": {
      "text/plain": [
       "20.0"
      ]
     },
     "execution_count": 36,
     "metadata": {},
     "output_type": "execute_result"
    }
   ],
   "source": [
    "tmulti(e1,e1)"
   ]
  },
  {
   "cell_type": "code",
   "execution_count": 37,
   "metadata": {
    "collapsed": false
   },
   "outputs": [
    {
     "data": {
      "text/plain": [
       "Taylor{Int64}([2,2,2],2)"
      ]
     },
     "execution_count": 37,
     "metadata": {},
     "output_type": "execute_result"
    }
   ],
   "source": [
    "d1=Taylor([2,2,2],2)"
   ]
  },
  {
   "cell_type": "code",
   "execution_count": 38,
   "metadata": {
    "collapsed": false
   },
   "outputs": [
    {
     "data": {
      "text/plain": [
       "12.0"
      ]
     },
     "execution_count": 38,
     "metadata": {},
     "output_type": "execute_result"
    }
   ],
   "source": [
    "tmulti(d1,d1)"
   ]
  },
  {
   "cell_type": "code",
   "execution_count": 39,
   "metadata": {
    "collapsed": false
   },
   "outputs": [
    {
     "data": {
      "text/plain": [
       "18.0"
      ]
     },
     "execution_count": 39,
     "metadata": {},
     "output_type": "execute_result"
    }
   ],
   "source": [
    "tmulti(e1,d1)"
   ]
  },
  {
   "cell_type": "code",
   "execution_count": 40,
   "metadata": {
    "collapsed": false
   },
   "outputs": [
    {
     "data": {
      "text/plain": [
       "18.0"
      ]
     },
     "execution_count": 40,
     "metadata": {},
     "output_type": "execute_result"
    }
   ],
   "source": [
    "tmulti(d1,e1)"
   ]
  },
  {
   "cell_type": "markdown",
   "metadata": {},
   "source": [
    "Multiplicación de objetos tipo Taylor:"
   ]
  },
  {
   "cell_type": "code",
   "execution_count": 42,
   "metadata": {
    "collapsed": false
   },
   "outputs": [
    {
     "data": {
      "text/plain": [
       "* (generic function with 150 methods)"
      ]
     },
     "execution_count": 42,
     "metadata": {},
     "output_type": "execute_result"
    }
   ],
   "source": [
    "*(f::Taylor, g::Taylor) = tmulti(f,g)"
   ]
  },
  {
   "cell_type": "code",
   "execution_count": 43,
   "metadata": {
    "collapsed": false
   },
   "outputs": [
    {
     "data": {
      "text/plain": [
       "32.0"
      ]
     },
     "execution_count": 43,
     "metadata": {},
     "output_type": "execute_result"
    }
   ],
   "source": [
    "Taylor([1,1,1,1],1)*Taylor([8,8,8,8],3)"
   ]
  },
  {
   "cell_type": "code",
   "execution_count": 44,
   "metadata": {
    "collapsed": false
   },
   "outputs": [
    {
     "data": {
      "text/plain": [
       "32.0"
      ]
     },
     "execution_count": 44,
     "metadata": {},
     "output_type": "execute_result"
    }
   ],
   "source": [
    "Taylor([8,8,8,8],3)*Taylor([1,1,1,1],1)"
   ]
  },
  {
   "cell_type": "code",
   "execution_count": 45,
   "metadata": {
    "collapsed": false
   },
   "outputs": [
    {
     "data": {
      "text/plain": [
       "24.0"
      ]
     },
     "execution_count": 45,
     "metadata": {},
     "output_type": "execute_result"
    }
   ],
   "source": [
    "Taylor([8,8,8,8],4)*Taylor([1,1,1,1],3)"
   ]
  },
  {
   "cell_type": "code",
   "execution_count": 46,
   "metadata": {
    "collapsed": false
   },
   "outputs": [
    {
     "data": {
      "text/plain": [
       "Taylor{Int64}([8,8,8,8,0],4)"
      ]
     },
     "execution_count": 46,
     "metadata": {},
     "output_type": "execute_result"
    }
   ],
   "source": [
    "Taylor([8,8,8,8],4)"
   ]
  },
  {
   "cell_type": "markdown",
   "metadata": {},
   "source": [
    "### División"
   ]
  },
  {
   "cell_type": "markdown",
   "metadata": {},
   "source": [
    "\n",
    "\\begin{eqnarray}\n",
    "\\Big(\\frac{f}{g}\\Big)_{[k]} & = & \\frac{1}{g_{[0]}}\n",
    "\\Big( f_{[k]} - \\sum_{i=0}^{k-1} \\big(\\frac{f}{g}\\big)_{[i]} \\, g_{[k-i]} \\Big) \n",
    "\\end{eqnarray}"
   ]
  },
  {
   "cell_type": "markdown",
   "metadata": {},
   "source": [
    "Al igual que en el caso de la multiplicación,la suma no podrá iniciar en cero. Por ello cambiaremos los índices de la expresión anterior de modo tal que la suma inicie con $i=1$ "
   ]
  },
  {
   "cell_type": "markdown",
   "metadata": {},
   "source": [
    "\\begin{eqnarray}\n",
    "\\Big(\\frac{f}{g}\\Big)_{[k]} & = & \\frac{1}{g_{[1]}}\n",
    "\\Big( f_{[k]} - \\sum_{i=1}^{k-1} \\big(\\frac{f}{g}\\big)_{[i]} \\, g_{[k+1-i]} \\Big) \n",
    "\\end{eqnarray}"
   ]
  },
  {
   "cell_type": "code",
   "execution_count": 47,
   "metadata": {
    "collapsed": false
   },
   "outputs": [
    {
     "data": {
      "text/plain": [
       "tdiv (generic function with 1 method)"
      ]
     },
     "execution_count": 47,
     "metadata": {},
     "output_type": "execute_result"
    }
   ],
   "source": [
    "function tdiv(a,b)\n",
    "  #=---------------------División de los vectores-------------------------=#  \n",
    "\n",
    "        #Obtenemos la longitud de los vectores\n",
    "    \n",
    "    la=length(a.cofun)\n",
    "    lb=length(b.cofun)\n",
    "\n",
    "    suma=0.0 #valor inicial de la suma\n",
    "\n",
    "        for i=1:la\n",
    "        \n",
    "        if b.cofun[i]!=0 # Caso en que tenemos divisiones entre cero\n",
    " #--------------------------------------------------------------------   \n",
    "            if la==lb \n",
    "                for i=1:la-1\n",
    "                    suma=suma+(a.cofun[i]/b.cofun[i])*b.cofun[la+1-i]\n",
    "                end\n",
    "\n",
    "                td = (1/b.cofun[1])*(a.cofun[la]-suma)\n",
    "                \n",
    "                return td\n",
    "                \n",
    "            elseif la<lb  \n",
    "        \n",
    "                lc=lb-la #Calculamos la diferencia de las longitudes\n",
    "                ceros=zeros(lc) #Creamos un vector con ceros para igualar en tamaño\n",
    "                            #al vector más chico.\n",
    "        \n",
    "                for i=1:length(ceros) #Agragamos los ceros al vector chico\n",
    "                    a.cofun=push!(a.cofun,ceros[i])\n",
    "                end \n",
    "                #*************************************\n",
    "                for i=1:la-1\n",
    "                    suma=suma+(a.cofun[i]/b.cofun[i])*b.cofun[la+1-i]\n",
    "                end\n",
    "\n",
    "                td = (1/b.cofun[1])*(a.cofun[la]-suma)\n",
    "                return td\n",
    "                \n",
    "            else  \n",
    "                lc=la-lb\n",
    "                ceros=zeros(lc)\n",
    "\n",
    "                for i=1:length(ceros)\n",
    "                    b.cofun=push!(b.cofun,ceros[i])\n",
    "                end\n",
    "                #*************************************\n",
    "                for i=1:la-1\n",
    "                    suma=suma+(a.cofun[i]/b.cofun[i])*b.cofun[la+1-i]\n",
    "                end\n",
    "\n",
    "                td = (1/b.cofun[1])*(a.cofun[la]-suma)\n",
    "                \n",
    "                \n",
    "                return td\n",
    "            end\n",
    "#-----------------------------------------------------------------------\n",
    "        else\n",
    "            return println(\"división no definida\")\n",
    "        end   \n",
    "            \n",
    "        end       \n",
    "                   \n",
    "    \n",
    "end"
   ]
  },
  {
   "cell_type": "code",
   "execution_count": 48,
   "metadata": {
    "collapsed": false
   },
   "outputs": [
    {
     "data": {
      "text/plain": [
       "Taylor{Int64}([1,2,3,4],3)"
      ]
     },
     "execution_count": 48,
     "metadata": {},
     "output_type": "execute_result"
    }
   ],
   "source": [
    "m1=Taylor([1,2,3,4],3)"
   ]
  },
  {
   "cell_type": "code",
   "execution_count": 49,
   "metadata": {
    "collapsed": false
   },
   "outputs": [
    {
     "data": {
      "text/plain": [
       "-5.0"
      ]
     },
     "execution_count": 49,
     "metadata": {},
     "output_type": "execute_result"
    }
   ],
   "source": [
    "tdiv(m1,m1)"
   ]
  },
  {
   "cell_type": "markdown",
   "metadata": {},
   "source": [
    "División de objetos tipo Taylor"
   ]
  },
  {
   "cell_type": "code",
   "execution_count": 50,
   "metadata": {
    "collapsed": false
   },
   "outputs": [
    {
     "data": {
      "text/plain": [
       "/ (generic function with 54 methods)"
      ]
     },
     "execution_count": 50,
     "metadata": {},
     "output_type": "execute_result"
    }
   ],
   "source": [
    "/(f::Taylor, g::Taylor) = tdiv(f,g)"
   ]
  },
  {
   "cell_type": "code",
   "execution_count": 51,
   "metadata": {
    "collapsed": false
   },
   "outputs": [
    {
     "data": {
      "text/plain": [
       "-0.5208333333333333"
      ]
     },
     "execution_count": 51,
     "metadata": {},
     "output_type": "execute_result"
    }
   ],
   "source": [
    "Taylor([1,2,3,4],3)/Taylor([4,3,2,1],3)"
   ]
  },
  {
   "cell_type": "code",
   "execution_count": 52,
   "metadata": {
    "collapsed": false
   },
   "outputs": [
    {
     "data": {
      "text/plain": [
       "-0.6494708994708994"
      ]
     },
     "execution_count": 52,
     "metadata": {},
     "output_type": "execute_result"
    }
   ],
   "source": [
    "a1/b1"
   ]
  },
  {
   "cell_type": "code",
   "execution_count": 53,
   "metadata": {
    "collapsed": false
   },
   "outputs": [
    {
     "data": {
      "text/plain": [
       "NaN"
      ]
     },
     "execution_count": 53,
     "metadata": {},
     "output_type": "execute_result"
    }
   ],
   "source": [
    "b1/d1"
   ]
  },
  {
   "cell_type": "code",
   "execution_count": 11,
   "metadata": {
    "collapsed": false
   },
   "outputs": [
    {
     "data": {
      "text/plain": [
       "- (generic function with 191 methods)"
      ]
     },
     "execution_count": 11,
     "metadata": {},
     "output_type": "execute_result"
    }
   ],
   "source": [
    "import Base: +, -, *, /, ==\n",
    "\n",
    "# Aqui se implementan los métodos necesarios para cada función\n",
    "+(f::Taylor, g::Taylor) = Taylor(f.cofun+g.cofun)\n",
    "-(f::Taylor, g::Taylor) = Taylor(f.cofun-g.cofun)"
   ]
  },
  {
   "cell_type": "code",
   "execution_count": 8,
   "metadata": {
    "collapsed": false
   },
   "outputs": [
    {
     "ename": "LoadError",
     "evalue": "UndefVarError: taylor not defined",
     "output_type": "error",
     "traceback": [
      "UndefVarError: taylor not defined",
      ""
     ]
    }
   ],
   "source": [
    "taylor(9,1)+taylor(3,1)"
   ]
  },
  {
   "cell_type": "code",
   "execution_count": null,
   "metadata": {
    "collapsed": false
   },
   "outputs": [],
   "source": [
    "# Muestren que su código funciona con tests adecuados\n",
    "\n",
    "using Base.Test\n",
    "include(\"runtest_taylor.jl\")"
   ]
  },
  {
   "cell_type": "markdown",
   "metadata": {},
   "source": [
    "---"
   ]
  },
  {
   "cell_type": "markdown",
   "metadata": {},
   "source": [
    "## Ejercicio 2\n",
    "\n",
    "Obtengan las relaciones de recurrencia para las funciones $L(x) = \\log\\big(g(x)\\big)$, $P_\\alpha(x) = \\big(g(x)\\big)^\\alpha$, $S(x) = \\sin\\big(g(x)\\big)$, $C(x) = \\cos\\big(g(x)\\big)$ usando el mismo procedimiento que arriba. Implementen métodos adecuados para estas funciones en el módulo, actuando sobre estructuras `Taylor` e incluyan pruebas necesarias en `runtest_taylor.jl`."
   ]
  },
  {
   "cell_type": "code",
   "execution_count": null,
   "metadata": {
    "collapsed": true
   },
   "outputs": [],
   "source": []
  }
 ],
 "metadata": {
  "kernelspec": {
   "display_name": "Julia 0.5.0",
   "language": "julia",
   "name": "julia-0.5"
  },
  "language_info": {
   "file_extension": ".jl",
   "mimetype": "application/julia",
   "name": "julia",
   "version": "0.5.1"
  }
 },
 "nbformat": 4,
 "nbformat_minor": 2
}
