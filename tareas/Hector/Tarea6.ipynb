{
 "cells": [
  {
   "cell_type": "markdown",
   "metadata": {},
   "source": [
    "# Tarea 6: Integración con Taylor"
   ]
  },
  {
   "cell_type": "markdown",
   "metadata": {},
   "source": [
    "Fecha de envío del PR inicial: **viernes 5 de mayo**\n",
    "\n",
    "Fecha de aceptación del PR: **martes 16 de mayo, antes de la clase**"
   ]
  },
  {
   "cell_type": "markdown",
   "metadata": {},
   "source": [
    "---"
   ]
  },
  {
   "cell_type": "markdown",
   "metadata": {},
   "source": [
    "## Ejercicio 1\n",
    "\n",
    "Usando su implementación de polinomios de Taylor, escriban un integrador para la ecuación diferencial que se desarrolló en este ejemplo, esto es, $\\dot{x} = x^2$ con la condición inicial $x(0) = 3$. \n",
    "\n",
    "El integrador debe hacer las operaciones necesarias para obtener automáticamente los coeficientes $x_{[k]}$, *en cada paso de integración*, a partir de la condición inicial local. Un requisito básico para esto es que tengan una implementación de la función $P_\\alpha(x) = [g(x)]^\\alpha$ con $g(x)$ un polinomio de Taylor, que hicieron en la \"Tarea5\", y que funcione bien en particular para `alpha::Int`.\n",
    "\n",
    "La implementación debe consistir de varias funciones: \n",
    "\n",
    "- Una función donde se calculen los coeficientes $x_{[k]}$ de la expansión. Esta función deberá llamar a otra donde se implementan las recurrencias que imponen las ecuaciones de movimiento.\n",
    "\n",
    "- Una función donde se obtenga el paso de integración $h$ como se describió en el notebook 10.\n",
    "\n",
    "- Otra función donde se haga la suma usando el método de Horner.\n",
    "\n",
    "- Finalmente, una función que combine las funciones anteriores para hacer la integración desde un tiempo inicial a uno final. En este punto, *fingiremos ignorancia*, en el sentido de  que el tiempo inicial es cero, y el tiempo final será $0.5$ (que está más allá de donde la solución está definida).\n"
   ]
  },
  {
   "cell_type": "markdown",
   "metadata": {},
   "source": [
    "Dado que conocemos la solución analítica de este problema, grafiquen como función de $t$ el error relativo de su integrador (respecto al valor del resultado analítico)."
   ]
  },
  {
   "cell_type": "code",
   "execution_count": 1,
   "metadata": {
    "collapsed": false
   },
   "outputs": [
    {
     "name": "stdout",
     "output_type": "stream",
     "text": [
      "\u001b[1m\u001b[37mpruebas de operaciones para Taylor: \u001b[0m\u001b[1m\u001b[31mError During Test\n",
      "\u001b[0m  Test threw an exception of type UndefVarError\n",
      "  Expression: Taylor([1,2,3],3) + Taylor([9,8,7,6],3) == Taylor{Int64}([10,10,10,6],3)\n",
      "  UndefVarError: Taylor not defined\n",
      "   in macro expansion; at /home/solaris/Escritorio/Programación/Jupyter/2017-2_TSFisComputacional-1/tareas/Hector/runtest_taylor.jl:8 [inlined]\n",
      "   in macro expansion; at ./test.jl:674 [inlined]\n",
      "   in anonymous at ./<missing>:?\n",
      "   in include_from_node1(::String) at ./loading.jl:488\n",
      "   in include_string(::String, ::String) at ./loading.jl:441\n",
      "   in execute_request(::ZMQ.Socket, ::IJulia.Msg) at /home/solaris/.julia/v0.5/IJulia/src/execute_request.jl:157\n",
      "   in eventloop(::ZMQ.Socket) at /home/solaris/.julia/v0.5/IJulia/src/eventloop.jl:8\n",
      "   in (::IJulia.##13#19)() at ./task.jl:360\n",
      "\u001b[1m\u001b[37mpruebas de operaciones para Taylor: \u001b[0m\u001b[1m\u001b[31mError During Test\n",
      "\u001b[0m  Test threw an exception of type UndefVarError\n",
      "  Expression: Taylor([10,10,10,6],3) + Taylor([1,2,3,4,5],6) == Taylor([11,12,13,10,5,0,0],6)\n",
      "  UndefVarError: Taylor not defined\n",
      "   in macro expansion; at /home/solaris/Escritorio/Programación/Jupyter/2017-2_TSFisComputacional-1/tareas/Hector/runtest_taylor.jl:9 [inlined]\n",
      "   in macro expansion; at ./test.jl:674 [inlined]\n",
      "   in anonymous at ./<missing>:?\n",
      "   in include_from_node1(::String) at ./loading.jl:488\n",
      "   in include_string(::String, ::String) at ./loading.jl:441\n",
      "   in execute_request(::ZMQ.Socket, ::IJulia.Msg) at /home/solaris/.julia/v0.5/IJulia/src/execute_request.jl:157\n",
      "   in eventloop(::ZMQ.Socket) at /home/solaris/.julia/v0.5/IJulia/src/eventloop.jl:8\n",
      "   in (::IJulia.##13#19)() at ./task.jl:360\n",
      "\u001b[1m\u001b[37mpruebas de operaciones para Taylor: \u001b[0m\u001b[1m\u001b[31mError During Test\n",
      "\u001b[0m  Test threw an exception of type UndefVarError\n",
      "  Expression: Taylor([1,2,3,4,5],6) + Taylor([1.0,2.0,3.0,4.0,5.0],4) == Taylor([2.0,4.0,6.0,8.0,10.0,0.0,0.0],6)\n",
      "  UndefVarError: Taylor not defined\n",
      "   in macro expansion; at /home/solaris/Escritorio/Programación/Jupyter/2017-2_TSFisComputacional-1/tareas/Hector/runtest_taylor.jl:10 [inlined]\n",
      "   in macro expansion; at ./test.jl:674 [inlined]\n",
      "   in anonymous at ./<missing>:?\n",
      "   in include_from_node1(::String) at ./loading.jl:488\n",
      "   in include_string(::String, ::String) at ./loading.jl:441\n",
      "   in execute_request(::ZMQ.Socket, ::IJulia.Msg) at /home/solaris/.julia/v0.5/IJulia/src/execute_request.jl:157\n",
      "   in eventloop(::ZMQ.Socket) at /home/solaris/.julia/v0.5/IJulia/src/eventloop.jl:8\n",
      "   in (::IJulia.##13#19)() at ./task.jl:360\n",
      "\u001b[1m\u001b[37mpruebas de operaciones para Taylor: \u001b[0m\u001b[1m\u001b[31mError During Test\n",
      "\u001b[0m  Test threw an exception of type UndefVarError\n",
      "  Expression: Taylor([1,2,3,4,5],6) + Taylor([-1,-2,-3,-4,5],6) == Taylor([0,0,0,0,10,0,0],6)\n",
      "  UndefVarError: Taylor not defined\n",
      "   in macro expansion; at /home/solaris/Escritorio/Programación/Jupyter/2017-2_TSFisComputacional-1/tareas/Hector/runtest_taylor.jl:11 [inlined]\n",
      "   in macro expansion; at ./test.jl:674 [inlined]\n",
      "   in anonymous at ./<missing>:?\n",
      "   in include_from_node1(::String) at ./loading.jl:488\n",
      "   in include_string(::String, ::String) at ./loading.jl:441\n",
      "   in execute_request(::ZMQ.Socket, ::IJulia.Msg) at /home/solaris/.julia/v0.5/IJulia/src/execute_request.jl:157\n",
      "   in eventloop(::ZMQ.Socket) at /home/solaris/.julia/v0.5/IJulia/src/eventloop.jl:8\n",
      "   in (::IJulia.##13#19)() at ./task.jl:360\n",
      "\u001b[1m\u001b[37mpruebas de operaciones para Taylor: \u001b[0m\u001b[1m\u001b[31mError During Test\n",
      "\u001b[0m  Test threw an exception of type UndefVarError\n",
      "  Expression: Taylor([1,2,3],3) - Taylor([9,8,7,6],3) == Taylor([-8,-6,-4,-6],3)\n",
      "  UndefVarError: Taylor not defined\n",
      "   in macro expansion; at /home/solaris/Escritorio/Programación/Jupyter/2017-2_TSFisComputacional-1/tareas/Hector/runtest_taylor.jl:12 [inlined]\n",
      "   in macro expansion; at ./test.jl:674 [inlined]\n",
      "   in anonymous at ./<missing>:?\n",
      "   in include_from_node1(::String) at ./loading.jl:488\n",
      "   in include_string(::String, ::String) at ./loading.jl:441\n",
      "   in execute_request(::ZMQ.Socket, ::IJulia.Msg) at /home/solaris/.julia/v0.5/IJulia/src/execute_request.jl:157\n",
      "   in eventloop(::ZMQ.Socket) at /home/solaris/.julia/v0.5/IJulia/src/eventloop.jl:8\n",
      "   in (::IJulia.##13#19)() at ./task.jl:360\n",
      "\u001b[1m\u001b[37mpruebas de operaciones para Taylor: \u001b[0m\u001b[1m\u001b[31mError During Test\n",
      "\u001b[0m  Test threw an exception of type UndefVarError\n",
      "  Expression: Taylor([10,10,10,6],3) - Taylor([1,2,3,4,5],6) == Taylor([9,8,7,2,-5,0,0],6)\n",
      "  UndefVarError: Taylor not defined\n",
      "   in macro expansion; at /home/solaris/Escritorio/Programación/Jupyter/2017-2_TSFisComputacional-1/tareas/Hector/runtest_taylor.jl:13 [inlined]\n",
      "   in macro expansion; at ./test.jl:674 [inlined]\n",
      "   in anonymous at ./<missing>:?\n",
      "   in include_from_node1(::String) at ./loading.jl:488\n",
      "   in include_string(::String, ::String) at ./loading.jl:441\n",
      "   in execute_request(::ZMQ.Socket, ::IJulia.Msg) at /home/solaris/.julia/v0.5/IJulia/src/execute_request.jl:157\n",
      "   in eventloop(::ZMQ.Socket) at /home/solaris/.julia/v0.5/IJulia/src/eventloop.jl:8\n",
      "   in (::IJulia.##13#19)() at ./task.jl:360\n",
      "\u001b[1m\u001b[37mpruebas de operaciones para Taylor: \u001b[0m\u001b[1m\u001b[31mError During Test\n",
      "\u001b[0m  Test threw an exception of type UndefVarError\n",
      "  Expression: Taylor([1,2,3,4,5],6) - Taylor([1.0,2.0,3.0,4.0,5.0],4) == Taylor([0.0,0.0,0.0,0.0,0.0,0.0,0.0],6)\n",
      "  UndefVarError: Taylor not defined\n",
      "   in macro expansion; at /home/solaris/Escritorio/Programación/Jupyter/2017-2_TSFisComputacional-1/tareas/Hector/runtest_taylor.jl:14 [inlined]\n",
      "   in macro expansion; at ./test.jl:674 [inlined]\n",
      "   in anonymous at ./<missing>:?\n",
      "   in include_from_node1(::String) at ./loading.jl:488\n",
      "   in include_string(::String, ::String) at ./loading.jl:441\n",
      "   in execute_request(::ZMQ.Socket, ::IJulia.Msg) at /home/solaris/.julia/v0.5/IJulia/src/execute_request.jl:157\n",
      "   in eventloop(::ZMQ.Socket) at /home/solaris/.julia/v0.5/IJulia/src/eventloop.jl:8\n",
      "   in (::IJulia.##13#19)() at ./task.jl:360\n",
      "\u001b[1m\u001b[37mpruebas de operaciones para Taylor: \u001b[0m\u001b[1m\u001b[31mError During Test\n",
      "\u001b[0m  Test threw an exception of type UndefVarError\n",
      "  Expression: Taylor([1,2,3,4,5],6) + Taylor([-1,-2,-3,-4,5],6) == Taylor([2,4,6,8,0,0,0],6)\n",
      "  UndefVarError: Taylor not defined\n",
      "   in macro expansion; at /home/solaris/Escritorio/Programación/Jupyter/2017-2_TSFisComputacional-1/tareas/Hector/runtest_taylor.jl:15 [inlined]\n",
      "   in macro expansion; at ./test.jl:674 [inlined]\n",
      "   in anonymous at ./<missing>:?\n",
      "   in include_from_node1(::String) at ./loading.jl:488\n",
      "   in include_string(::String, ::String) at ./loading.jl:441\n",
      "   in execute_request(::ZMQ.Socket, ::IJulia.Msg) at /home/solaris/.julia/v0.5/IJulia/src/execute_request.jl:157\n",
      "   in eventloop(::ZMQ.Socket) at /home/solaris/.julia/v0.5/IJulia/src/eventloop.jl:8\n",
      "   in (::IJulia.##13#19)() at ./task.jl:360\n",
      "\u001b[1m\u001b[37mpruebas de operaciones para Taylor: \u001b[0m\u001b[1m\u001b[31mError During Test\n",
      "\u001b[0m  Test threw an exception of type UndefVarError\n",
      "  Expression: Taylor([1,1,1,1],1) * Taylor([8,8,8,8],3) == Taylor([8.0,16.0,24.0,32.0,0.0,0.0,0.0],6)\n",
      "  UndefVarError: Taylor not defined\n",
      "   in macro expansion; at /home/solaris/Escritorio/Programación/Jupyter/2017-2_TSFisComputacional-1/tareas/Hector/runtest_taylor.jl:16 [inlined]\n",
      "   in macro expansion; at ./test.jl:674 [inlined]\n",
      "   in anonymous at ./<missing>:?\n",
      "   in include_from_node1(::String) at ./loading.jl:488\n",
      "   in include_string(::String, ::String) at ./loading.jl:441\n",
      "   in execute_request(::ZMQ.Socket, ::IJulia.Msg) at /home/solaris/.julia/v0.5/IJulia/src/execute_request.jl:157\n",
      "   in eventloop(::ZMQ.Socket) at /home/solaris/.julia/v0.5/IJulia/src/eventloop.jl:8\n",
      "   in (::IJulia.##13#19)() at ./task.jl:360\n",
      "\u001b[1m\u001b[37mpruebas de operaciones para Taylor: \u001b[0m\u001b[1m\u001b[31mError During Test\n",
      "\u001b[0m  Test threw an exception of type UndefVarError\n",
      "  Expression: Taylor([8,8,8,8],4) * Taylor([1,1,1,1],3) == Taylor([8.0,16.0,24.0,32.0,24.0,0.0,0.0,0.0],7)\n",
      "  UndefVarError: Taylor not defined\n",
      "   in macro expansion; at /home/solaris/Escritorio/Programación/Jupyter/2017-2_TSFisComputacional-1/tareas/Hector/runtest_taylor.jl:17 [inlined]\n",
      "   in macro expansion; at ./test.jl:674 [inlined]\n",
      "   in anonymous at ./<missing>:?\n",
      "   in include_from_node1(::String) at ./loading.jl:488\n",
      "   in include_string(::String, ::String) at ./loading.jl:441\n",
      "   in execute_request(::ZMQ.Socket, ::IJulia.Msg) at /home/solaris/.julia/v0.5/IJulia/src/execute_request.jl:157\n",
      "   in eventloop(::ZMQ.Socket) at /home/solaris/.julia/v0.5/IJulia/src/eventloop.jl:8\n",
      "   in (::IJulia.##13#19)() at ./task.jl:360\n",
      "\u001b[1m\u001b[37mpruebas de operaciones para Taylor: \u001b[0m\u001b[1m\u001b[31mError During Test\n",
      "\u001b[0m  Test threw an exception of type UndefVarError\n",
      "  Expression: Taylor([8,7,6,5],4) * Taylor([1.0,2.0,3.0,1],3) == Taylor([8.0,23.0,44.0,46.0,35.0,0.0,0.0,0.0],7)\n",
      "  UndefVarError: Taylor not defined\n",
      "   in macro expansion; at /home/solaris/Escritorio/Programación/Jupyter/2017-2_TSFisComputacional-1/tareas/Hector/runtest_taylor.jl:18 [inlined]\n",
      "   in macro expansion; at ./test.jl:674 [inlined]\n",
      "   in anonymous at ./<missing>:?\n",
      "   in include_from_node1(::String) at ./loading.jl:488\n",
      "   in include_string(::String, ::String) at ./loading.jl:441\n",
      "   in execute_request(::ZMQ.Socket, ::IJulia.Msg) at /home/solaris/.julia/v0.5/IJulia/src/execute_request.jl:157\n",
      "   in eventloop(::ZMQ.Socket) at /home/solaris/.julia/v0.5/IJulia/src/eventloop.jl:8\n",
      "   in (::IJulia.##13#19)() at ./task.jl:360\n",
      "\u001b[1m\u001b[37mpruebas de operaciones para Taylor: \u001b[0m\u001b[1m\u001b[31mError During Test\n",
      "\u001b[0m  Test threw an exception of type UndefVarError\n",
      "  Expression: Taylor([8,7,-6,-5],4) * Taylor([1.0,-2.0,3.0,-1],3) == Taylor([8.0,-9.0,4.0,20.0,-15.0,0.0,0.0,0.0],7)\n",
      "  UndefVarError: Taylor not defined\n",
      "   in macro expansion; at /home/solaris/Escritorio/Programación/Jupyter/2017-2_TSFisComputacional-1/tareas/Hector/runtest_taylor.jl:19 [inlined]\n",
      "   in macro expansion; at ./test.jl:674 [inlined]\n",
      "   in anonymous at ./<missing>:?\n",
      "   in include_from_node1(::String) at ./loading.jl:488\n",
      "   in include_string(::String, ::String) at ./loading.jl:441\n",
      "   in execute_request(::ZMQ.Socket, ::IJulia.Msg) at /home/solaris/.julia/v0.5/IJulia/src/execute_request.jl:157\n",
      "   in eventloop(::ZMQ.Socket) at /home/solaris/.julia/v0.5/IJulia/src/eventloop.jl:8\n",
      "   in (::IJulia.##13#19)() at ./task.jl:360\n",
      "\u001b[1m\u001b[37mpruebas de operaciones para Taylor: \u001b[0m\u001b[1m\u001b[31mError During Test\n",
      "\u001b[0m  Test threw an exception of type UndefVarError\n",
      "  Expression: Taylor([1,2,3,4],3) / Taylor([4,3,2,1],3) == Taylor([0.25,0.3125,0.390625,0.0],3)\n",
      "  UndefVarError: Taylor not defined\n",
      "   in macro expansion; at /home/solaris/Escritorio/Programación/Jupyter/2017-2_TSFisComputacional-1/tareas/Hector/runtest_taylor.jl:20 [inlined]\n",
      "   in macro expansion; at ./test.jl:674 [inlined]\n",
      "   in anonymous at ./<missing>:?\n",
      "   in include_from_node1(::String) at ./loading.jl:488\n",
      "   in include_string(::String, ::String) at ./loading.jl:441\n",
      "   in execute_request(::ZMQ.Socket, ::IJulia.Msg) at /home/solaris/.julia/v0.5/IJulia/src/execute_request.jl:157\n",
      "   in eventloop(::ZMQ.Socket) at /home/solaris/.julia/v0.5/IJulia/src/eventloop.jl:8\n",
      "   in (::IJulia.##13#19)() at ./task.jl:360\n",
      "\u001b[1m\u001b[37mpruebas de operaciones para Taylor: \u001b[0m\u001b[1m\u001b[31mError During Test\n",
      "\u001b[0m  Test threw an exception of type UndefVarError\n",
      "  Expression: Taylor([1,1,1,1],3) / Taylor([1,1,1,1],3) == Taylor([1.0,0.0,0.0,0.0],3)\n",
      "  UndefVarError: Taylor not defined\n",
      "   in macro expansion; at /home/solaris/Escritorio/Programación/Jupyter/2017-2_TSFisComputacional-1/tareas/Hector/runtest_taylor.jl:21 [inlined]\n",
      "   in macro expansion; at ./test.jl:674 [inlined]\n",
      "   in anonymous at ./<missing>:?\n",
      "   in include_from_node1(::String) at ./loading.jl:488\n",
      "   in include_string(::String, ::String) at ./loading.jl:441\n",
      "   in execute_request(::ZMQ.Socket, ::IJulia.Msg) at /home/solaris/.julia/v0.5/IJulia/src/execute_request.jl:157\n",
      "   in eventloop(::ZMQ.Socket) at /home/solaris/.julia/v0.5/IJulia/src/eventloop.jl:8\n",
      "   in (::IJulia.##13#19)() at ./task.jl:360\n",
      "\u001b[1m\u001b[37mpruebas de operaciones para Taylor: \u001b[0m\u001b[1m\u001b[31mError During Test\n",
      "\u001b[0m  Test threw an exception of type UndefVarError\n",
      "  Expression: Taylor([1,0,3,0],3) / Taylor([4,0,2,1],3) == Taylor([0.25,0.0,0.625,0.0],3)\n",
      "  UndefVarError: Taylor not defined\n",
      "   in macro expansion; at /home/solaris/Escritorio/Programación/Jupyter/2017-2_TSFisComputacional-1/tareas/Hector/runtest_taylor.jl:22 [inlined]\n",
      "   in macro expansion; at ./test.jl:674 [inlined]\n",
      "   in anonymous at ./<missing>:?\n",
      "   in include_from_node1(::String) at ./loading.jl:488\n",
      "   in include_string(::String, ::String) at ./loading.jl:441\n",
      "   in execute_request(::ZMQ.Socket, ::IJulia.Msg) at /home/solaris/.julia/v0.5/IJulia/src/execute_request.jl:157\n",
      "   in eventloop(::ZMQ.Socket) at /home/solaris/.julia/v0.5/IJulia/src/eventloop.jl:8\n",
      "   in (::IJulia.##13#19)() at ./task.jl:360\n",
      "\u001b[1m\u001b[37mpruebas de operaciones para Taylor: \u001b[0m\u001b[1m\u001b[31mError During Test\n",
      "\u001b[0m  Test threw an exception of type UndefVarError\n",
      "  Expression: Taylor([1,0,0,-1],3) / Taylor([-1,0,2.0,1],3) == Taylor([-1.0,-0.0,-2.0,0.0],3)\n",
      "  UndefVarError: Taylor not defined\n",
      "   in macro expansion; at /home/solaris/Escritorio/Programación/Jupyter/2017-2_TSFisComputacional-1/tareas/Hector/runtest_taylor.jl:23 [inlined]\n",
      "   in macro expansion; at ./test.jl:674 [inlined]\n",
      "   in anonymous at ./<missing>:?\n",
      "   in include_from_node1(::String) at ./loading.jl:488\n",
      "   in include_string(::String, ::String) at ./loading.jl:441\n",
      "   in execute_request(::ZMQ.Socket, ::IJulia.Msg) at /home/solaris/.julia/v0.5/IJulia/src/execute_request.jl:157\n",
      "   in eventloop(::ZMQ.Socket) at /home/solaris/.julia/v0.5/IJulia/src/eventloop.jl:8\n",
      "   in (::IJulia.##13#19)() at ./task.jl:360\n",
      "\u001b[1m\u001b[37mTest Summary:                      | \u001b[0m\u001b[1m\u001b[31mError  \u001b[0m\u001b[1m\u001b[34mTotal\u001b[0m\n",
      "  pruebas de operaciones para Taylor | \u001b[1m\u001b[31m   16  \u001b[0m\u001b[1m\u001b[34m   16\u001b[0m\n"
     ]
    },
    {
     "ename": "LoadError",
     "evalue": "LoadError: Some tests did not pass: 0 passed, 0 failed, 16 errored, 0 broken.\nwhile loading /home/solaris/Escritorio/Programación/Jupyter/2017-2_TSFisComputacional-1/tareas/Hector/runtest_taylor.jl, in expression starting on line 6",
     "output_type": "error",
     "traceback": [
      "LoadError: Some tests did not pass: 0 passed, 0 failed, 16 errored, 0 broken.\nwhile loading /home/solaris/Escritorio/Programación/Jupyter/2017-2_TSFisComputacional-1/tareas/Hector/runtest_taylor.jl, in expression starting on line 6",
      "",
      " in finish(::Base.Test.DefaultTestSet) at ./test.jl:498",
      " in macro expansion; at ./test.jl:681 [inlined]",
      " in anonymous at ./<missing>:?",
      " in include_from_node1(::String) at ./loading.jl:488"
     ]
    }
   ],
   "source": [
    "include(\"runtest_taylor.jl\")"
   ]
  },
  {
   "cell_type": "code",
   "execution_count": null,
   "metadata": {
    "collapsed": true
   },
   "outputs": [],
   "source": [
    "f=Taylor([0,0,1],2)"
   ]
  },
  {
   "cell_type": "code",
   "execution_count": null,
   "metadata": {
    "collapsed": true
   },
   "outputs": [],
   "source": [
    "function coeficientes_x(a,x0)\n",
    "    \n",
    "    a1=copy(a.cofun)\n",
    "    \n",
    "    x=zeros(a1)\n",
    "    x[1]=x0\n",
    "    \n",
    "    e=0.001\n",
    "    p=4\n",
    "    h=(e/x0)^1/p\n",
    "    \n",
    "    #Método de Horner. Código basado del que aparece en: https://en.wikipedia.org/wiki/Horner%27s_method\n",
    "    \n",
    "    for i=2:length(x)\n",
    "            \n",
    "        x[i]=a1[i-1]/length(a1) \n",
    "         \n",
    "    end \n",
    "    \n",
    "     sum = x[end]\n",
    "     for k = length(x)-1:-1:1\n",
    "       sum = x[k] + x0*sum\n",
    "     end\n",
    "     \n",
    "    \n",
    "      return sum\n",
    "    \n",
    "end   "
   ]
  },
  {
   "cell_type": "code",
   "execution_count": null,
   "metadata": {
    "collapsed": true
   },
   "outputs": [],
   "source": [
    "coeficientes_x(f,3)"
   ]
  },
  {
   "cell_type": "code",
   "execution_count": null,
   "metadata": {
    "collapsed": true
   },
   "outputs": [],
   "source": []
  },
  {
   "cell_type": "markdown",
   "metadata": {},
   "source": [
    "---"
   ]
  },
  {
   "cell_type": "markdown",
   "metadata": {},
   "source": [
    "## Ejercicio 2\n",
    "\n",
    "Repitan la integración del ejercicio anterior usando el método de Runge-Kutta de 4o orden con paso de integración fijo (que es lo más sofisticado que conocen hasta ahora) y comparen los resultados del error relativo con los obtenidos con el método de Taylor. En particular, finjan ignorancia de la misma manera que en el ejercicio anterior."
   ]
  },
  {
   "cell_type": "markdown",
   "metadata": {
    "collapsed": true
   },
   "source": [
    "Escribimos el método de  Runge-Kutta de 4to orden para el ocilador armónico simple."
   ]
  },
  {
   "cell_type": "code",
   "execution_count": 3,
   "metadata": {
    "collapsed": false
   },
   "outputs": [
    {
     "data": {
      "text/plain": [
       "rk4 (generic function with 1 method)"
      ]
     },
     "execution_count": 3,
     "metadata": {},
     "output_type": "execute_result"
    }
   ],
   "source": [
    "function rk4(f,x0,t0)\n",
    "\n",
    "h = 0.01 #valor del paso en el tiempo\n",
    "imax = 1000 #número máximo de iteraciones del proceso\n",
    "delta = 1.0 #valor inicial de delta\n",
    "ep=1e-6   # Tolerancia \n",
    "#x1=0    \n",
    "    \n",
    "\n",
    "#while (delta>e)\n",
    "for i=0:imax\n",
    "    \n",
    "    k1=h*f1(x0,t0) \n",
    "    k2=h*f1(x0+k1/2,t0+h/2)\n",
    "    k3=h*f1(x0+k2/2,t0+h/2)\n",
    "    k4=h*f1(x0+k3/2,t0+h)\n",
    "    \n",
    "    x1=x0+(k1+2*k2+2*k3+k4)/6\n",
    "        \n",
    "    delta = abs(x1-x0)#Nuevo valor de delta (debe estar antes de la actualización de x0)\n",
    "    x0=x1   #Nuevo valor de la variable\n",
    "    t0=t0+h #Actualización del tiempo\n",
    "       \n",
    "    return x1    \n",
    "        \n",
    "end\n",
    "    \n",
    "end   \n"
   ]
  },
  {
   "cell_type": "code",
   "execution_count": 2,
   "metadata": {
    "collapsed": false
   },
   "outputs": [
    {
     "data": {
      "text/plain": [
       "f1 (generic function with 1 method)"
      ]
     },
     "execution_count": 2,
     "metadata": {},
     "output_type": "execute_result"
    }
   ],
   "source": [
    "function f1(x,t)\n",
    "    return x^2\n",
    "end"
   ]
  },
  {
   "cell_type": "code",
   "execution_count": 4,
   "metadata": {
    "collapsed": false
   },
   "outputs": [
    {
     "data": {
      "text/plain": [
       "3.092308720710939"
      ]
     },
     "execution_count": 4,
     "metadata": {},
     "output_type": "execute_result"
    }
   ],
   "source": [
    "rk4(f1,3,0)"
   ]
  },
  {
   "cell_type": "markdown",
   "metadata": {},
   "source": [
    "---"
   ]
  },
  {
   "cell_type": "markdown",
   "metadata": {},
   "source": [
    "## Ejercicio 3\n",
    "\n",
    "Integra la ecuación de movimiento para el oscilador armónico, $\\ddot{x} = -2x$, con $x(0)=2$, $\\dot{x}(0)=0$, durante 10^4 periodos de oscilación (o sea, hasta $t_f = 10^4 \\cdot 2\\pi/\\sqrt{2}$, usando el método de Taylor y el método de Runge-Kutta de 4o orden con paso de integración constante. Compara cómo cambia la energía (respecto al valor al tiempo cero) en función del tiempo en ambos métodos."
   ]
  },
  {
   "cell_type": "code",
   "execution_count": null,
   "metadata": {
    "collapsed": true
   },
   "outputs": [],
   "source": []
  }
 ],
 "metadata": {
  "kernel_info": {
   "name": "julia-0.5"
  },
  "kernelspec": {
   "display_name": "Julia 0.5.0",
   "language": "julia",
   "name": "julia-0.5"
  },
  "language_info": {
   "file_extension": ".jl",
   "mimetype": "application/julia",
   "name": "julia",
   "version": "0.5.1"
  }
 },
 "nbformat": 4,
 "nbformat_minor": 2
}
