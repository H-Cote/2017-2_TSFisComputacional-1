{
 "cells": [
  {
   "cell_type": "markdown",
   "metadata": {},
   "source": [
    "# Tarea4: Derivación automática 2"
   ]
  },
  {
   "cell_type": "markdown",
   "metadata": {},
   "source": [
    "Fecha de envío del PR inicial: **viernes 7 de abril**\n",
    "\n",
    "Fecha de aceptación del PR: **martes 18 de abril, antes de la clase**"
   ]
  },
  {
   "cell_type": "markdown",
   "metadata": {},
   "source": [
    "---\n",
    "\n",
    "## Ejercicio 1\n",
    "\n",
    "Implementen las funciones relacionadas con potencias, exponenciales, logarítmos, las funciones trigonométricas y las hiperbólicas que tiene Julia definidas (ver la [documentación](http://julia.readthedocs.io/en/stable/manual/mathematical-operations/#trigonometric-and-hyperbolic-functions)). La implementación debe incluir los tests adecuados. La manera en que implementen las cosas debe estar clara en el notebook \"Tarea4.ipynb\", pero toda la funcionalidad debe ser incluida en \"AutomDiff.jl\" al igual que en \"runtests.jl\"\n",
    "\n",
    "**Hint:** Pueden aprovechar las capacidades de Julia en metaprogramming."
   ]
  },
  {
   "cell_type": "code",
   "execution_count": 9,
   "metadata": {
    "collapsed": false
   },
   "outputs": [
    {
     "name": "stderr",
     "output_type": "stream",
     "text": [
      "WARNING: replacing module AD\n"
     ]
    }
   ],
   "source": [
    "#Llamamos a las operaciones definidas para los duales de la tarea anterior.\n",
    "include(\"AutomDiff.jl\")\n",
    "using AD\n",
    "#Importamos las funciones de Julia\n",
    "import Base:sin,cos,tan,cot,sec,csc,sinh,cosh,tanh,coth,sech,csch,asin,acos,atan,acot,asec,acsc\n",
    "\n",
    "#Función y su derivada\n",
    "for (f,df) = ((:sin,(:(cos(a.fun)))),  (:cos,(:(-sin(a.fun)))),   (:tan,(:(sec(a.fun)^2))), \n",
    "            (:cot,(:(-csc(a.fun)^2))), (:sec,(:(sec(a.fun)*tan(a.fun)))), (:csc,(:(-csc(a.fun)*cot(a.fun)))),\n",
    "            (:sinh,(:(cosh(a.fun)))), (:cosh,(:(sinh(a.fun)))),(:tanh,(:(sech(a.fun)^2))),\n",
    "            (:coth,(:(-csch(a.fun)^2))),(:sech,(:(-sech(a.fun)*tanh(a.fun)))),(:csch,(:(-csch(a.fun)*coth(a.fun)))),\n",
    "            (:asin,(:(1/sqrt(1-(a.fun)^2)))),(:acos,(:(-1/sqrt(1-(a.fun)^2)))),(:atan,(:(1/(1+(a.fun)^2)))),\n",
    "    (:acot,(:(-1/(1+(a.fun)^2)))),(:asec,(:(1/(a.fun*sqrt((a.fun)^2-1))))),(:acsc,(:(-1/(a.fun*sqrt((a.fun)^2-1))))))\n",
    "\n",
    "end"
   ]
  },
  {
   "cell_type": "markdown",
   "metadata": {},
   "source": [
    "---\n",
    "\n",
    "## Ejercicio 2\n",
    "\n",
    "Prueben su implementación calculando la derivada de $f(x) = \\sin\\Big(x^3 - \\frac{2}{x^6}\\Big)$\n",
    "en $x_0 = 2$.\n",
    "\n",
    "Dibujen, para $x_0 \\in [1,5]$ la función $f'(x)$."
   ]
  },
  {
   "cell_type": "code",
   "execution_count": null,
   "metadata": {
    "collapsed": true
   },
   "outputs": [],
   "source": []
  },
  {
   "cell_type": "markdown",
   "metadata": {},
   "source": [
    "---\n",
    "\n",
    "## Ejercicio 3\n",
    "\n",
    "Implementen el método de Newton para una función arbitraria $f(x)$ en una variable (la función `newton1D` debe tener un argumento que es una función) a fin de encontrar un cero de la función, i.e., $f(x^*)=0$. El método de Newton requiere la derivada evaluada en diversos puntos, cosa que obtendrán usando el módulo de derivación automática.\n",
    "\n",
    "- Obtengan, usando su función del método de Newton, las raices del polinomio de Wilkinson $W_{6}(x)$, usando como iterados iniciales $x_0=2.2$ y $x_0=2.45$.\n",
    "    \n",
    "- Hagan lo mismo que en el inciso anterior para $g(x) = x \\sin(2x)$, con $x_0=0.7$."
   ]
  },
  {
   "cell_type": "code",
   "execution_count": null,
   "metadata": {
    "collapsed": true
   },
   "outputs": [],
   "source": []
  },
  {
   "cell_type": "markdown",
   "metadata": {},
   "source": [
    "---\n",
    "\n",
    "## Pregunta\n",
    "\n",
    "¿Qué hacer si se requieren derivadas de orden superior, es decir, la segunda, tercera, etc, derivada? Argumenten.\n",
    "\n",
    "**NOTA:** Esta pregunta debe ser contestada pero **no** será considerada para aceptar la tarea, aunque sí se les dará retroalimentación respecto a lo que escriben. La idea es empezar a pensar en esto."
   ]
  },
  {
   "cell_type": "code",
   "execution_count": null,
   "metadata": {
    "collapsed": true
   },
   "outputs": [],
   "source": []
  }
 ],
 "metadata": {
  "kernelspec": {
   "display_name": "Julia 0.5.0",
   "language": "julia",
   "name": "julia-0.5"
  },
  "language_info": {
   "file_extension": ".jl",
   "mimetype": "application/julia",
   "name": "julia",
   "version": "0.5.1"
  }
 },
 "nbformat": 4,
 "nbformat_minor": 2
}
